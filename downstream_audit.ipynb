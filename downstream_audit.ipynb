{
 "cells": [
  {
   "cell_type": "code",
   "execution_count": 0,
   "metadata": {
    "application/vnd.databricks.v1+cell": {
     "cellMetadata": {
      "byteLimit": 2048000,
      "rowLimit": 10000
     },
     "inputWidgets": {},
     "nuid": "5ca13deb-22ba-46a2-a358-872851c7ecda",
     "showTitle": false,
     "title": ""
    }
   },
   "outputs": [],
   "source": [
    "# Parameterized values for catalog_name, schema_name, table_name\n",
    "dbutils.widgets.text(\"catalog_name\", \"\")\n",
    "dbutils.widgets.text(\"schema_name\", \"\")\n",
    "dbutils.widgets.text(\"table_name\", \"\")\n",
    "\n",
    "# Get the parameterized values\n",
    "catalog_name = dbutils.widgets.get(\"catalog_name\")\n",
    "schema_name = dbutils.widgets.get(\"schema_name\")\n",
    "name = dbutils.widgets.get(\"table_name\")\n"
   ]
  },
  {
   "cell_type": "code",
   "execution_count": 0,
   "metadata": {
    "application/vnd.databricks.v1+cell": {
     "cellMetadata": {
      "byteLimit": 2048000,
      "rowLimit": 10000
     },
     "inputWidgets": {},
     "nuid": "29d00f96-83df-4c50-bfdf-212e4822eab7",
     "showTitle": false,
     "title": ""
    }
   },
   "outputs": [],
   "source": [
    "import json\n",
    "from datetime import datetime\n",
    "\n",
    "# Function to convert datetime objects to strings\n",
    "def convert_datetime(obj):\n",
    "    if isinstance(obj, datetime):\n",
    "        return obj.isoformat()\n",
    "    raise TypeError(\"Type not serializable\")\n",
    "\n",
    "# Retrieving all details from schema_registry_vk table by using catalog_name, schema_name, table_name\n",
    "df = spark.sql(\n",
    "    f\"\"\"\n",
    "    SELECT *\n",
    "    FROM ds_training_1.default.schema_registry \n",
    "    WHERE catalog_name='{catalog_name}' \n",
    "      AND schema_name='{schema_name}' \n",
    "      AND table_name='{name}' \n",
    "      AND modified_timestamp is not null\n",
    "      AND schema_change_alert_status ='Pending'\n",
    "    ORDER BY table_version_timestamp Asc\n",
    "    Limit 4\n",
    "    \"\"\"\n",
    ")\n",
    "\n",
    "# Convert the upstream table DataFrame to JSON format\n",
    "data = df.collect()\n",
    "json_data = json.dumps(\n",
    "    [row.asDict() for row in data], \n",
    "    default=convert_datetime\n",
    ")\n",
    "\n",
    "# Parse the JSON string back into a dictionary\n",
    "json_dict = json.loads(json_data)\n",
    "\n",
    "# Access the schema_name from the first element in the list\n",
    "#print(json_dict[0][\"schema_name\"])\n",
    "#print(json_dict)\n",
    "\n",
    "table_owner = spark.sql(\n",
    "    f\"\"\"\n",
    "    SELECT DISTINCT created_by \n",
    "    FROM ds_training_1.default.schema_registry \n",
    "    WHERE catalog_name='{catalog_name}' \n",
    "      AND schema_name='{schema_name}' \n",
    "      AND table_name='{name}'\n",
    "    \"\"\"\n",
    ")\n"
   ]
  },
  {
   "cell_type": "code",
   "execution_count": 0,
   "metadata": {
    "application/vnd.databricks.v1+cell": {
     "cellMetadata": {
      "byteLimit": 2048000,
      "rowLimit": 10000
     },
     "inputWidgets": {},
     "nuid": "a9deaa41-5882-4ecd-8042-96fcc4434786",
     "showTitle": false,
     "title": ""
    }
   },
   "outputs": [
    {
     "data": {
      "text/html": [
       "<style scoped>\n",
       "  .table-result-container {\n",
       "    max-height: 300px;\n",
       "    overflow: auto;\n",
       "  }\n",
       "  table, th, td {\n",
       "    border: 1px solid black;\n",
       "    border-collapse: collapse;\n",
       "  }\n",
       "  th, td {\n",
       "    padding: 5px;\n",
       "  }\n",
       "  th {\n",
       "    text-align: left;\n",
       "  }\n",
       "</style><div class='table-result-container'><table class='table-result'><thead style='background-color: white'><tr><th>id</th><th>catalog_name</th><th>schema_name</th><th>table_name</th><th>schema_version</th><th>created_by</th><th>modified_by</th><th>modified_timestamp</th><th>schema_json</th><th>change_type</th><th>column_name</th><th>table_version</th><th>table_version_timestamp</th><th>status</th><th>check_timestamp</th><th>schema_change_alert_status</th><th>rollback_notification_status</th></tr></thead><tbody><tr><td>29</td><td>ds_training_1</td><td>ds_silver</td><td>customer_silver_vishal</td><td>10</td><td>vishal.kokkula@latentviewo365.onmicrosoft.com</td><td>vishal.kokkula@latentviewo365.onmicrosoft.com</td><td>2024-10-16T10:00:25Z</td><td>null</td><td>RENAME COLUMN</td><td>test_column</td><td>12</td><td>2024-10-16T10:00:25Z</td><td>Inactive</td><td>2024-10-16T10:06:49.146321Z</td><td>Pending</td><td>NA</td></tr><tr><td>30</td><td>ds_training_1</td><td>ds_silver</td><td>customer_silver_vishal</td><td>11</td><td>vishal.kokkula@latentviewo365.onmicrosoft.com</td><td>vishal.kokkula@latentviewo365.onmicrosoft.com</td><td>2024-10-16T10:02:36Z</td><td>null</td><td>DROP COLUMNS</td><td>date_of_business</td><td>13</td><td>2024-10-16T10:02:36Z</td><td>Inactive</td><td>2024-10-16T10:06:49.146324Z</td><td>Pending</td><td>NA</td></tr><tr><td>37</td><td>ds_training_1</td><td>ds_silver</td><td>customer_silver_vishal</td><td>13</td><td>vishal.kokkula@latentviewo365.onmicrosoft.com</td><td>vishal.kokkula@latentviewo365.onmicrosoft.com</td><td>2024-10-17T11:08:43Z</td><td>{\"customer_id\": \"INT\", \"name\": \"STRING\", \"age\": \"INT\", \"gender\": \"STRING\", \"phone_number\": \"STRING\", \"email\": \"STRING\", \"account_id\": \"INT\", \"account_type\": \"STRING\", \"balance\": \"INT\", \"opened_date\": \"DATE\", \"status\": \"STRING\", \"business_date\": \"STRING\", \"test_column\": \"DATE\", \"test_coloumn_vishal\": \"INT\"}</td><td>ADD COLUMNS</td><td>['test_coloumn_vishal']</td><td>18</td><td>2024-10-17T11:08:43Z</td><td>Inactive</td><td>2024-10-17T11:09:43.824667Z</td><td>Pending</td><td>NA</td></tr><tr><td>46</td><td>ds_training_1</td><td>ds_silver</td><td>customer_silver_vishal</td><td>14</td><td>vishal.kokkula@latentviewo365.onmicrosoft.com</td><td>vishal.kokkula@latentviewo365.onmicrosoft.com</td><td>2024-10-18T07:59:35Z</td><td>{\"customer_id\": \"INT\", \"name\": \"STRING\", \"age\": \"INT\", \"gender\": \"STRING\", \"phone_number\": \"STRING\", \"email\": \"STRING\", \"account_id\": \"INT\", \"account_type\": \"STRING\", \"balance\": \"INT\", \"opened_date\": \"DATE\", \"status\": \"STRING\", \"business_date\": \"STRING\", \"test_column\": \"DATE\", \"test_column_18_10_24\": \"INT\"}</td><td>RENAME COLUMN</td><td>test_column_18_10_24</td><td>19</td><td>2024-10-18T07:59:35Z</td><td>Inactive</td><td>2024-10-18T08:31:42.277231Z</td><td>Pending</td><td>NA</td></tr></tbody></table></div>"
      ]
     },
     "metadata": {
      "application/vnd.databricks.v1+output": {
       "addedWidgets": {},
       "aggData": [],
       "aggError": "",
       "aggOverflow": false,
       "aggSchema": [],
       "aggSeriesLimitReached": false,
       "aggType": "",
       "arguments": {},
       "columnCustomDisplayInfos": {},
       "data": [
        [
         29,
         "ds_training_1",
         "ds_silver",
         "customer_silver_vishal",
         10,
         "vishal.kokkula@latentviewo365.onmicrosoft.com",
         "vishal.kokkula@latentviewo365.onmicrosoft.com",
         "2024-10-16T10:00:25Z",
         null,
         "RENAME COLUMN",
         "test_column",
         12,
         "2024-10-16T10:00:25Z",
         "Inactive",
         "2024-10-16T10:06:49.146321Z",
         "Pending",
         "NA"
        ],
        [
         30,
         "ds_training_1",
         "ds_silver",
         "customer_silver_vishal",
         11,
         "vishal.kokkula@latentviewo365.onmicrosoft.com",
         "vishal.kokkula@latentviewo365.onmicrosoft.com",
         "2024-10-16T10:02:36Z",
         null,
         "DROP COLUMNS",
         "date_of_business",
         13,
         "2024-10-16T10:02:36Z",
         "Inactive",
         "2024-10-16T10:06:49.146324Z",
         "Pending",
         "NA"
        ],
        [
         37,
         "ds_training_1",
         "ds_silver",
         "customer_silver_vishal",
         13,
         "vishal.kokkula@latentviewo365.onmicrosoft.com",
         "vishal.kokkula@latentviewo365.onmicrosoft.com",
         "2024-10-17T11:08:43Z",
         "{\"customer_id\": \"INT\", \"name\": \"STRING\", \"age\": \"INT\", \"gender\": \"STRING\", \"phone_number\": \"STRING\", \"email\": \"STRING\", \"account_id\": \"INT\", \"account_type\": \"STRING\", \"balance\": \"INT\", \"opened_date\": \"DATE\", \"status\": \"STRING\", \"business_date\": \"STRING\", \"test_column\": \"DATE\", \"test_coloumn_vishal\": \"INT\"}",
         "ADD COLUMNS",
         "['test_coloumn_vishal']",
         18,
         "2024-10-17T11:08:43Z",
         "Inactive",
         "2024-10-17T11:09:43.824667Z",
         "Pending",
         "NA"
        ],
        [
         46,
         "ds_training_1",
         "ds_silver",
         "customer_silver_vishal",
         14,
         "vishal.kokkula@latentviewo365.onmicrosoft.com",
         "vishal.kokkula@latentviewo365.onmicrosoft.com",
         "2024-10-18T07:59:35Z",
         "{\"customer_id\": \"INT\", \"name\": \"STRING\", \"age\": \"INT\", \"gender\": \"STRING\", \"phone_number\": \"STRING\", \"email\": \"STRING\", \"account_id\": \"INT\", \"account_type\": \"STRING\", \"balance\": \"INT\", \"opened_date\": \"DATE\", \"status\": \"STRING\", \"business_date\": \"STRING\", \"test_column\": \"DATE\", \"test_column_18_10_24\": \"INT\"}",
         "RENAME COLUMN",
         "test_column_18_10_24",
         19,
         "2024-10-18T07:59:35Z",
         "Inactive",
         "2024-10-18T08:31:42.277231Z",
         "Pending",
         "NA"
        ]
       ],
       "datasetInfos": [],
       "dbfsResultPath": null,
       "isJsonSchema": true,
       "metadata": {},
       "overflow": false,
       "plotOptions": {
        "customPlotOptions": {},
        "displayType": "table",
        "pivotAggregation": null,
        "pivotColumns": null,
        "xColumns": null,
        "yColumns": null
       },
       "removedWidgets": [],
       "schema": [
        {
         "metadata": "{}",
         "name": "id",
         "type": "\"long\""
        },
        {
         "metadata": "{\"__CHAR_VARCHAR_TYPE_STRING\":\"varchar(255)\"}",
         "name": "catalog_name",
         "type": "\"string\""
        },
        {
         "metadata": "{\"__CHAR_VARCHAR_TYPE_STRING\":\"varchar(255)\"}",
         "name": "schema_name",
         "type": "\"string\""
        },
        {
         "metadata": "{\"__CHAR_VARCHAR_TYPE_STRING\":\"varchar(255)\"}",
         "name": "table_name",
         "type": "\"string\""
        },
        {
         "metadata": "{}",
         "name": "schema_version",
         "type": "\"integer\""
        },
        {
         "metadata": "{\"__CHAR_VARCHAR_TYPE_STRING\":\"varchar(255)\"}",
         "name": "created_by",
         "type": "\"string\""
        },
        {
         "metadata": "{\"__CHAR_VARCHAR_TYPE_STRING\":\"varchar(255)\"}",
         "name": "modified_by",
         "type": "\"string\""
        },
        {
         "metadata": "{}",
         "name": "modified_timestamp",
         "type": "\"timestamp\""
        },
        {
         "metadata": "{}",
         "name": "schema_json",
         "type": "\"string\""
        },
        {
         "metadata": "{\"__CHAR_VARCHAR_TYPE_STRING\":\"varchar(50)\"}",
         "name": "change_type",
         "type": "\"string\""
        },
        {
         "metadata": "{\"__CHAR_VARCHAR_TYPE_STRING\":\"varchar(255)\"}",
         "name": "column_name",
         "type": "\"string\""
        },
        {
         "metadata": "{}",
         "name": "table_version",
         "type": "\"integer\""
        },
        {
         "metadata": "{}",
         "name": "table_version_timestamp",
         "type": "\"timestamp\""
        },
        {
         "metadata": "{\"__CHAR_VARCHAR_TYPE_STRING\":\"varchar(50)\"}",
         "name": "status",
         "type": "\"string\""
        },
        {
         "metadata": "{}",
         "name": "check_timestamp",
         "type": "\"timestamp\""
        },
        {
         "metadata": "{\"__CHAR_VARCHAR_TYPE_STRING\":\"varchar(50)\"}",
         "name": "schema_change_alert_status",
         "type": "\"string\""
        },
        {
         "metadata": "{\"__CHAR_VARCHAR_TYPE_STRING\":\"varchar(50)\"}",
         "name": "rollback_notification_status",
         "type": "\"string\""
        }
       ],
       "type": "table"
      }
     },
     "output_type": "display_data"
    }
   ],
   "source": [
    "display(df)"
   ]
  },
  {
   "cell_type": "code",
   "execution_count": 0,
   "metadata": {
    "application/vnd.databricks.v1+cell": {
     "cellMetadata": {
      "byteLimit": 2048000,
      "rowLimit": 10000
     },
     "inputWidgets": {},
     "nuid": "3e01dae1-e46c-4ef7-b2d9-d8bd428ef27c",
     "showTitle": false,
     "title": ""
    }
   },
   "outputs": [],
   "source": [
    "# Function to retrieve email_id using entra_id\n",
    "def get_email_id_spark(entra_id):\n",
    "    try:\n",
    "        # Define the SQL query to get the email_id for a given entra_id\n",
    "        sql_query = f\"\"\"\n",
    "            SELECT email_id\n",
    "            FROM ds_training_1.default.email_library\n",
    "            WHERE entra_id = '{entra_id}'\n",
    "            LIMIT 1\n",
    "        \"\"\"\n",
    "        \n",
    "        # Execute the SQL query\n",
    "        email_id_df = spark.sql(sql_query)\n",
    "        \n",
    "        # Collect the result as a Python dictionary\n",
    "        email_id_row = email_id_df.collect()\n",
    "        \n",
    "        # Check if any result was returned\n",
    "        if email_id_row:\n",
    "            return email_id_row[0]['email_id']\n",
    "        else:\n",
    "            return \"N/A\"  # Return \"N/A\" if no match is found\n",
    "        \n",
    "    except Exception as e:\n",
    "        print(f\"Failed to retrieve email ID for {entra_id}: {e}\")\n",
    "        return \"N/A\"\n",
    "\n",
    "# Example usage of the function\n",
    "# entra_id = \"alagar.kumar@latentviewo365.onmicrosoft.com\"\n",
    "# email_id = get_email_id_spark(entra_id)\n",
    "# print(f\"The email ID for {entra_id} is {email_id}\")\n"
   ]
  },
  {
   "cell_type": "code",
   "execution_count": 0,
   "metadata": {
    "application/vnd.databricks.v1+cell": {
     "cellMetadata": {
      "byteLimit": 2048000,
      "rowLimit": 10000
     },
     "inputWidgets": {},
     "nuid": "3a5414d3-e6f1-42dc-8f32-24c026ea945e",
     "showTitle": false,
     "title": ""
    }
   },
   "outputs": [],
   "source": [
    "import requests\n",
    "import json\n",
    "\n",
    "\n",
    "\n",
    "# Function to retrieve SQL query name by query ID\n",
    "def get_sql_query_name(query_id):\n",
    "    url = f\"https://{databricks_instance}/api/2.0/preview/sql/queries/{query_id}\"\n",
    "    headers = {\n",
    "        \"Content-Type\": \"application/json\",\n",
    "        \"Authorization\": f\"Bearer {databricks_token}\"\n",
    "    }\n",
    "\n",
    "    # Make the API request to get query details\n",
    "    response = requests.get(url, headers=headers)\n",
    "\n",
    "    # Check if the request was successful\n",
    "    if response.status_code == 200:\n",
    "        # Parse the response JSON\n",
    "        query_data = response.json()\n",
    "        # Extract the query name if available\n",
    "        query_name = query_data.get('name', 'N/A')  # Replace 'N/A' with a default if the name is not found\n",
    "        #print(f\"SQL Query Name for query ID {query_id}: {query_name}\")\n",
    "        return query_name\n",
    "    else:\n",
    "        print(f\"Failed to retrieve query details for query ID {query_id}. Status code: {response.status_code}\")\n",
    "        print(f\"Response: {response.text}\")\n",
    "        return None\n",
    "\n",
    "\n"
   ]
  },
  {
   "cell_type": "code",
   "execution_count": 0,
   "metadata": {
    "application/vnd.databricks.v1+cell": {
     "cellMetadata": {
      "byteLimit": 2048000,
      "rowLimit": 10000
     },
     "inputWidgets": {},
     "nuid": "c708a0aa-54ac-4a37-91b1-e4e4387a18d5",
     "showTitle": false,
     "title": ""
    }
   },
   "outputs": [],
   "source": [
    "def fetch_created_by(workspace_id, entity_type, entity_id):\n",
    "    # Check if inputs are valid and not None\n",
    "    if not entity_id or not entity_type or not workspace_id:\n",
    "        print(f\"Invalid input: workspace_id={workspace_id}, entity_type={entity_type}, entity_id={entity_id}\")\n",
    "        return None\n",
    "    \n",
    "    # Construct the SQL command with proper string formatting\n",
    "    sql_command = (\n",
    "        f\"SELECT DISTINCT created_by \"\n",
    "        f\"FROM `system`.access.table_lineage \"\n",
    "        f\"WHERE entity_id = '{entity_id}' \"  # Ensure entity_id is treated as a string\n",
    "        f\"AND entity_type = '{entity_type}' \"  # Ensure entity_type is treated as a string\n",
    "        f\"AND workspace_id = '{workspace_id}'\"  # Ensure workspace_id is treated as a string\n",
    "    )\n",
    "    \n",
    "    try:\n",
    "        # Execute the SQL command\n",
    "        created_by_df = spark.sql(sql_command)\n",
    "        \n",
    "        # Convert the result to a list of dictionaries for easy access\n",
    "        created_by_data = created_by_df.toPandas().to_dict(orient='records')\n",
    "        \n",
    "        # Return the created_by value if available, otherwise return 'N/A'\n",
    "        if created_by_data and 'created_by' in created_by_data[0]:\n",
    "            return created_by_data[0]['created_by']\n",
    "        else:\n",
    "            return 'N/A'\n",
    "    except Exception as e:\n",
    "        print(f\"Failed to fetch created_by for {entity_type} with ID {entity_id}: {e}\")\n",
    "        return 'N/A'\n"
   ]
  },
  {
   "cell_type": "code",
   "execution_count": 0,
   "metadata": {
    "application/vnd.databricks.v1+cell": {
     "cellMetadata": {
      "byteLimit": 2048000,
      "rowLimit": 10000
     },
     "inputWidgets": {},
     "nuid": "8f3a5ede-e088-4c03-aae1-24d484648670",
     "showTitle": false,
     "title": ""
    }
   },
   "outputs": [],
   "source": [
    "def fetch_table_created_by(catalog_name, schema_name, table_name):\n",
    "    sql_command = (\n",
    "        f\"\"\"select table_owner from `system`.information_schema.tables \n",
    "        where table_catalog = '{catalog_name}' \n",
    "        and table_schema = '{schema_name}' \n",
    "        and table_name = '{table_name}'\"\"\"\n",
    "    )\n",
    "    try:\n",
    "        # Execute the SQL command\n",
    "        created_by_df = spark.sql(sql_command)\n",
    "        \n",
    "        # Convert the result to a list of dictionaries for easy access\n",
    "        created_by_data = created_by_df.toPandas().to_dict(orient='records')\n",
    "        \n",
    "        # Return the created_by value if available, otherwise return 'N/A'\n",
    "        if created_by_data and 'table_owner' in created_by_data[0]:\n",
    "            return created_by_data[0]['table_owner']\n",
    "        else:\n",
    "            return 'N/A'\n",
    "    except Exception as e:\n",
    "        print(f\"Failed to fetch created_by for table with ID:{table_name},{schema_name},{catalog_name}: {e}\")\n",
    "        return 'N/A'"
   ]
  },
  {
   "cell_type": "code",
   "execution_count": 0,
   "metadata": {
    "application/vnd.databricks.v1+cell": {
     "cellMetadata": {
      "byteLimit": 2048000,
      "rowLimit": 10000
     },
     "inputWidgets": {},
     "nuid": "101f7553-613c-45e6-9cf6-4fd863a18486",
     "showTitle": false,
     "title": ""
    }
   },
   "outputs": [],
   "source": [
    "import requests\n",
    "import json\n",
    "\n",
    "# Function to retrieve job name by job ID\n",
    "def get_job_name(job_id):\n",
    "    # Construct the API URL for getting job details\n",
    "    job_url = f\"https://{databricks_instance}/api/2.1/jobs/get?job_id={job_id}\"\n",
    "    response = requests.get(job_url, headers=headers)\n",
    "    \n",
    "    # Check if the request was successful\n",
    "    if response.status_code == 200:\n",
    "        job_details = response.json()\n",
    "        \n",
    "        # Extract the job name from the response\n",
    "        job_name = job_details.get('settings', {}).get('name')\n",
    "        \n",
    "        # Print the job name for debugging\n",
    "        \n",
    "        # Return the job name\n",
    "        return job_name\n",
    "    else:\n",
    "        # Handle errors\n",
    "        print(f\"Failed to retrieve job name for Job ID {job_id}: {response.status_code}\")\n",
    "        print(f\"Error details: {response.text}\")\n",
    "        return None\n"
   ]
  },
  {
   "cell_type": "code",
   "execution_count": 0,
   "metadata": {
    "application/vnd.databricks.v1+cell": {
     "cellMetadata": {
      "byteLimit": 2048000,
      "rowLimit": 10000
     },
     "inputWidgets": {},
     "nuid": "d5c2be57-2ce0-49c5-afb1-37ddf17f14eb",
     "showTitle": false,
     "title": ""
    }
   },
   "outputs": [],
   "source": [
    "def fetch_email_by_member(members):\n",
    "    email_ids = []\n",
    "    for member in members:\n",
    "        sql_command = f\"\"\"\n",
    "            SELECT email_id\n",
    "            FROM ds_training_1.default.email_library\n",
    "            WHERE entra_id = '{member}'\n",
    "            LIMIT 1\n",
    "        \"\"\"\n",
    "        try:\n",
    "            email_df = spark.sql(sql_command)\n",
    "            email_data = email_df.toPandas().to_dict(orient='records')\n",
    "            if email_data and 'email_id' in email_data[0]:\n",
    "                email_ids.append(email_data[0]['email_id'])\n",
    "            else:\n",
    "                email_ids.append('N/A')\n",
    "        except Exception as e:\n",
    "            print(f\"Failed to fetch email for {member}: {e}\")\n",
    "            email_ids.append('N/A')\n",
    "    return email_ids\n",
    "\n",
    "# Function to fetch email using the mapping table\n",
    "def fetch_email_by_entra_id(entra_id):\n",
    "    # Perform SQL query on the mapping data table to get the email ID\n",
    "    sql_command = f\"\"\"\n",
    "            SELECT email_id\n",
    "            FROM ds_training_1.default.email_library\n",
    "            WHERE entra_id = '{entra_id}'\n",
    "            LIMIT 1\n",
    "        \"\"\"\n",
    "    try:\n",
    "        email_df = spark.sql(sql_command)\n",
    "        email_data = email_df.toPandas().to_dict(orient='records')\n",
    "        if email_data and 'email_id' in email_data[0]:\n",
    "            return email_data[0]['email_id']\n",
    "        return 'N/A'\n",
    "    except Exception as e:\n",
    "        print(f\"Failed to fetch email for {entra_id}: {e}\")\n",
    "        return 'N/A'"
   ]
  },
  {
   "cell_type": "code",
   "execution_count": 0,
   "metadata": {
    "application/vnd.databricks.v1+cell": {
     "cellMetadata": {
      "byteLimit": 2048000,
      "rowLimit": 10000
     },
     "inputWidgets": {},
     "nuid": "1fe79330-afa7-4622-975f-d54a6126d03e",
     "showTitle": false,
     "title": ""
    }
   },
   "outputs": [],
   "source": [
    "import requests\n",
    "import json\n",
    "import pandas as pd\n",
    "from pyspark.sql import SparkSession\n",
    "\n",
    "# Initialize Spark session\n",
    "spark = SparkSession.builder.getOrCreate()\n",
    "\n",
    "\n",
    "headers = {\n",
    "    \"Authorization\": f\"Bearer {databricks_token}\",\n",
    "    \"Content-Type\": \"application/json\"\n",
    "}\n",
    "\n",
    "# API endpoint for group retrieval\n",
    "group_url = f\"https://{databricks_instance}/api/2.0/preview/scim/v2/Groups\"\n",
    "\n",
    "# Function to fetch version information and append record_id\n",
    "\n",
    "\n",
    "\n",
    "\n",
    "\n",
    "def fetch_table_permissions_with_record_id(table_info):\n",
    "    permission_info_with_id = []\n",
    "    if isinstance(table_info, dict):\n",
    "        table_info = [table_info]\n",
    "    for table in table_info:\n",
    "        if all(key in table for key in ['catalog_name', 'schema_name', 'name']):\n",
    "            table_path = f\"{table['catalog_name']}.{table['schema_name']}.{table['name']}\"\n",
    "            permissions_data = fetch_table_permissions_spark(table_path)  # Fetch actual permissions\n",
    "            permission_info_with_id.append(permissions_data)\n",
    "    return permission_info_with_id\n",
    "\n",
    "# Function to process info types (e.g., TableInfo, JobInfo, NotebookInfo, DashboardInfo, etc.) and add record_id\n",
    "# Sample function to process entries and add record_id\n",
    "def process_info_with_record_id(info_list, record_id, entity_type):\n",
    "    if isinstance(info_list, dict):\n",
    "        info_list = [info_list]\n",
    "\n",
    "    for info in info_list:\n",
    "        # Retrieve 'created_by' using the function with workspace_id, entity_type, and entity_id\n",
    "        workspace_id = info.get('workspace_id')\n",
    "        entity_id = str(info.get('job_id') or info.get('notebook_id') or info.get('dashboard_id') or info.get('query_id'))\n",
    "\n",
    "        # Debugging print\n",
    "        print(f\"Processing record {record_id}: workspace_id={workspace_id}, entity_id={entity_id}\")\n",
    "             \n",
    "        created_by = fetch_created_by(workspace_id, entity_type, entity_id)\n",
    "        \n",
    "        if entity_type == 'Table':\n",
    "            info['created_by'] = fetch_table_created_by(info.get('catalog_name'), info.get('schema_name'), info.get('name'))\n",
    "        else:\n",
    "            info['created_by'] = created_by\n",
    "        \n",
    "        info['created_by_email'] = get_email_id_spark(info.get('created_by'))\n",
    "\n",
    "        # Check if 'created_by' and 'created_by_email' are valid after fetching\n",
    "        print(f\"Record {record_id} created_by: {info['created_by']}, created_by_email: {info['created_by_email']}\")\n",
    "\n",
    "        # Set entity_name based on the entity type\n",
    "        if entity_type == 'JOB':\n",
    "            info['entity_name'] = get_job_name(info.get('job_id'))\n",
    "        elif entity_type == 'DBSQL_QUERY':\n",
    "            info['entity_name'] = get_sql_query_name(info.get('query_id'))\n",
    "        else:\n",
    "            info['entity_name'] = 'N/A'  # Placeholder; replace with actual name if available\n",
    "        \n",
    "        info['record_id'] = record_id\n",
    "\n",
    "    return info_list\n",
    "# Function to fetch all groups using pagination\n",
    "def fetch_all_groups():\n",
    "    start_index = 1\n",
    "    count = 100  # Number of groups to retrieve per API call\n",
    "    all_groups = []\n",
    "\n",
    "    # Fetch all groups using pagination\n",
    "    while True:\n",
    "        response = requests.get(group_url, headers=headers, params={\"startIndex\": start_index, \"count\": count})\n",
    "        if response.status_code == 200:\n",
    "            group_data = response.json().get('Resources', [])\n",
    "            if not group_data:\n",
    "                break  # Exit loop if no more groups are found\n",
    "            all_groups.extend(group_data)\n",
    "            start_index += count\n",
    "        else:\n",
    "            print(f\"Failed to retrieve group details: Status Code {response.status_code}\")\n",
    "            break\n",
    "    return all_groups\n",
    "\n",
    "# Function to process group details into JSON format\n",
    "def process_group_details(groups):\n",
    "    group_list = []\n",
    "    for group in groups:\n",
    "        members = [member.get('display', 'N/A') for member in group.get('members', [])]\n",
    "        email_ids = fetch_email_by_member(members)\n",
    "        group_info = {\n",
    "            \"Group ID\": group.get('id', 'N/A'),\n",
    "            \"Group Name\": group.get('displayName', 'N/A'),\n",
    "            \"Members Count\": len(group.get('members', [])),\n",
    "            \"Members\": [member.get('display', 'N/A') for member in group.get('members', [])],\n",
    "            \"Email IDs\": email_ids\n",
    "        }\n",
    "        group_list.append(group_info)\n",
    "    return group_list\n",
    "\n",
    "# Fetch and process all groups at once\n",
    "all_groups = fetch_all_groups()\n",
    "group_data_map = {group[\"Group Name\"]: group for group in process_group_details(all_groups)}\n",
    "\n",
    "# Function to fetch table permissions using SHOW GRANTS ON\n",
    "def fetch_table_permissions_spark(table_path):\n",
    "    if table_path is None or 'None' in table_path:  # Check if table path is valid\n",
    "        print(f\"Skipping SHOW GRANTS ON because table path is invalid: {table_path}\")\n",
    "        return None\n",
    "    sql_command = f\"SHOW GRANTS ON {table_path}\"\n",
    "    try:\n",
    "        grants_df = spark.sql(sql_command)\n",
    "        grants_data = grants_df.toPandas().to_dict(orient='records')\n",
    "        return grants_data  # Return as a list of dictionaries\n",
    "    except Exception as e:\n",
    "        print(f\"Failed to fetch grants for {table_path}: {e}\")\n",
    "        return None\n",
    "\n",
    "\n",
    "\n",
    "\n",
    "def process_permissions_and_groups(principal):\n",
    "    group_info_list = []\n",
    "    \n",
    "    if principal is None:\n",
    "        return group_info_list \n",
    "        \n",
    "        # Check if principal is a group (not containing 'o365.onmicrosoft.com')\n",
    "    if principal not in group_data_map and \"o365.onmicrosoft.com\" not in principal:\n",
    "        group_info = fetch_group_info(principal)\n",
    "        if group_info:\n",
    "                # Append the actual group info\n",
    "            group_info_list.append(group_info)\n",
    "        \n",
    "    elif principal in group_data_map:\n",
    "            # Append data from group_data_map for existing groups\n",
    "            group_info_list.append(group_data_map[principal])\n",
    "    \n",
    "    return group_info_list\n",
    "\n",
    "# Function to fetch group info for a specific principal\n",
    "def fetch_group_info(principal):\n",
    "    if principal in group_data_map:\n",
    "        return group_data_map[principal]\n",
    "    return \n",
    "    {\n",
    "        \"Group ID\": \"N/A\",\n",
    "        \"Group Name\": principal,\n",
    "        \"Members Count\": 0,\n",
    "        \"Members\": []\n",
    "    }\n",
    "\n",
    "\n"
   ]
  },
  {
   "cell_type": "code",
   "execution_count": 0,
   "metadata": {
    "application/vnd.databricks.v1+cell": {
     "cellMetadata": {
      "byteLimit": 2048000,
      "rowLimit": 10000
     },
     "inputWidgets": {},
     "nuid": "9ba13ade-7ec8-42bb-b5a1-7dd8ef84b326",
     "showTitle": false,
     "title": ""
    }
   },
   "outputs": [
    {
     "name": "stdout",
     "output_type": "stream",
     "text": [
      "Table Lineage Data:\n",
      "Processing record 0: workspace_id=None, entity_id=None\n",
      "Invalid input: workspace_id=None, entity_type=Table, entity_id=None\n",
      "Record 0 created_by: N/A, created_by_email: N/A\n",
      "Processing record 0: workspace_id=2376768479807879, entity_id=4438279648331977\n",
      "Record 0 created_by: vishal.kokkula@latentviewo365.onmicrosoft.com, created_by_email: vishal.kokkula@latentview.com\n",
      "Processing record 1: workspace_id=2376768479807879, entity_id=3477860330566096\n",
      "Record 1 created_by: vishal.kokkula@latentviewo365.onmicrosoft.com, created_by_email: vishal.kokkula@latentview.com\n",
      "Processing record 2: workspace_id=2376768479807879, entity_id=3477860330566379\n",
      "Record 2 created_by: vishal.kokkula@latentviewo365.onmicrosoft.com, created_by_email: vishal.kokkula@latentview.com\n",
      "Processing record 3: workspace_id=2376768479807879, entity_id=3852443579535474\n",
      "Record 3 created_by: vishal.kokkula@latentviewo365.onmicrosoft.com, created_by_email: vishal.kokkula@latentview.com\n",
      "Processing record 4: workspace_id=2376768479807879, entity_id=673539338302310\n",
      "Record 4 created_by: vishal.kokkula@latentviewo365.onmicrosoft.com, created_by_email: vishal.kokkula@latentview.com\n",
      "Processing record 5: workspace_id=2376768479807879, entity_id=673539338303002\n",
      "Record 5 created_by: vishal.kokkula@latentviewo365.onmicrosoft.com, created_by_email: vishal.kokkula@latentview.com\n",
      "Processing record 6: workspace_id=2376768479807879, entity_id=673539338301903\n",
      "Record 6 created_by: vishal.kokkula@latentviewo365.onmicrosoft.com, created_by_email: vishal.kokkula@latentview.com\n",
      "Processing record 0: workspace_id=None, entity_id=None\n",
      "Invalid input: workspace_id=None, entity_type=Table, entity_id=None\n",
      "Record 0 created_by: vishal.kokkula@latentviewo365.onmicrosoft.com, created_by_email: vishal.kokkula@latentview.com\n",
      "[{'Principal': 'Data Engineer', 'ActionType': 'ALL PRIVILEGES', 'ObjectType': 'TABLE', 'ObjectKey': 'ds_training_1.ds_gold.customer_transaction_summary'}, {'Principal': 'sample', 'ActionType': 'ALL PRIVILEGES', 'ObjectType': 'TABLE', 'ObjectKey': 'ds_training_1.ds_gold.customer_transaction_summary'}, {'Principal': 'danduprolu.stuthi@latentviewo365.onmicrosoft.com', 'ActionType': 'ALL PRIVILEGES', 'ObjectType': 'TABLE', 'ObjectKey': 'ds_training_1.ds_gold.customer_transaction_summary'}, {'Principal': 'account users', 'ActionType': 'ALL PRIVILEGES', 'ObjectType': 'CATALOG', 'ObjectKey': 'ds_training_1'}]\n",
      "{'Principal': 'Data Engineer', 'ActionType': 'ALL PRIVILEGES', 'ObjectType': 'TABLE', 'ObjectKey': 'ds_training_1.ds_gold.customer_transaction_summary'}\n",
      "{'Principal': 'sample', 'ActionType': 'ALL PRIVILEGES', 'ObjectType': 'TABLE', 'ObjectKey': 'ds_training_1.ds_gold.customer_transaction_summary'}\n",
      "{'Principal': 'danduprolu.stuthi@latentviewo365.onmicrosoft.com', 'ActionType': 'ALL PRIVILEGES', 'ObjectType': 'TABLE', 'ObjectKey': 'ds_training_1.ds_gold.customer_transaction_summary', 'created_by_email_id': 'danduprolu.stuthi@latentview.com'}\n",
      "{'Principal': 'account users', 'ActionType': 'ALL PRIVILEGES', 'ObjectType': 'CATALOG', 'ObjectKey': 'ds_training_1'}\n",
      "Processing record 0: workspace_id=2376768479807879, entity_id=776564016740257\n",
      "Record 0 created_by: vishal.kokkula@latentviewo365.onmicrosoft.com, created_by_email: vishal.kokkula@latentview.com\n",
      "Failed to retrieve job name for Job ID 776564016740257: 400\n",
      "Error details: {\"error_code\":\"INVALID_PARAMETER_VALUE\",\"message\":\"Job 776564016740257 does not exist.\"}\n",
      "Processing record 1: workspace_id=2376768479807879, entity_id=539953870834493\n",
      "Record 1 created_by: vishal.kokkula@latentviewo365.onmicrosoft.com, created_by_email: vishal.kokkula@latentview.com\n",
      "Failed to retrieve job name for Job ID 539953870834493: 400\n",
      "Error details: {\"error_code\":\"INVALID_PARAMETER_VALUE\",\"message\":\"Job 539953870834493 does not exist.\"}\n",
      "Processing record 2: workspace_id=2376768479807879, entity_id=642259009613085\n",
      "Record 2 created_by: vishal.kokkula@latentviewo365.onmicrosoft.com, created_by_email: vishal.kokkula@latentview.com\n",
      "Failed to retrieve job name for Job ID 642259009613085: 400\n",
      "Error details: {\"error_code\":\"INVALID_PARAMETER_VALUE\",\"message\":\"Job 642259009613085 does not exist.\"}\n",
      "Processing record 3: workspace_id=2376768479807879, entity_id=40710675392154\n",
      "Record 3 created_by: vishal.kokkula@latentviewo365.onmicrosoft.com, created_by_email: vishal.kokkula@latentview.com\n",
      "Failed to retrieve job name for Job ID 40710675392154: 400\n",
      "Error details: {\"error_code\":\"INVALID_PARAMETER_VALUE\",\"message\":\"Job 40710675392154 does not exist.\"}\n",
      "Processing record 4: workspace_id=2376768479807879, entity_id=158830438318304\n",
      "Record 4 created_by: vishal.kokkula@latentviewo365.onmicrosoft.com, created_by_email: vishal.kokkula@latentview.com\n",
      "Failed to retrieve job name for Job ID 158830438318304: 400\n",
      "Error details: {\"error_code\":\"INVALID_PARAMETER_VALUE\",\"message\":\"Job 158830438318304 does not exist.\"}\n",
      "Processing record 5: workspace_id=2376768479807879, entity_id=631425637127538\n",
      "Record 5 created_by: vishal.kokkula@latentviewo365.onmicrosoft.com, created_by_email: vishal.kokkula@latentview.com\n",
      "Failed to retrieve job name for Job ID 631425637127538: 400\n",
      "Error details: {\"error_code\":\"INVALID_PARAMETER_VALUE\",\"message\":\"Job 631425637127538 does not exist.\"}\n",
      "Processing record 6: workspace_id=2376768479807879, entity_id=1090453796940635\n",
      "Record 6 created_by: vishal.kokkula@latentviewo365.onmicrosoft.com, created_by_email: vishal.kokkula@latentview.com\n",
      "Failed to retrieve job name for Job ID 1090453796940635: 400\n",
      "Error details: {\"error_code\":\"INVALID_PARAMETER_VALUE\",\"message\":\"Job 1090453796940635 does not exist.\"}\n",
      "Processing record 7: workspace_id=2376768479807879, entity_id=172815366144315\n",
      "Record 7 created_by: vishal.kokkula@latentviewo365.onmicrosoft.com, created_by_email: vishal.kokkula@latentview.com\n",
      "Failed to retrieve job name for Job ID 172815366144315: 400\n",
      "Error details: {\"error_code\":\"INVALID_PARAMETER_VALUE\",\"message\":\"Job 172815366144315 does not exist.\"}\n",
      "Processing record 8: workspace_id=2376768479807879, entity_id=1054443590945001\n",
      "Record 8 created_by: vishal.kokkula@latentviewo365.onmicrosoft.com, created_by_email: vishal.kokkula@latentview.com\n",
      "Failed to retrieve job name for Job ID 1054443590945001: 400\n",
      "Error details: {\"error_code\":\"INVALID_PARAMETER_VALUE\",\"message\":\"Job 1054443590945001 does not exist.\"}\n",
      "Processing record 0: workspace_id=2376768479807879, entity_id=3720149794624477\n",
      "Record 0 created_by: vishal.kokkula@latentviewo365.onmicrosoft.com, created_by_email: vishal.kokkula@latentview.com\n",
      "Processing record 1: workspace_id=2376768479807879, entity_id=673539338302308\n",
      "Record 1 created_by: vishal.kokkula@latentviewo365.onmicrosoft.com, created_by_email: vishal.kokkula@latentview.com\n"
     ]
    },
    {
     "data": {
      "text/html": [
       "<style scoped>\n",
       "  .table-result-container {\n",
       "    max-height: 300px;\n",
       "    overflow: auto;\n",
       "  }\n",
       "  table, th, td {\n",
       "    border: 1px solid black;\n",
       "    border-collapse: collapse;\n",
       "  }\n",
       "  th, td {\n",
       "    padding: 5px;\n",
       "  }\n",
       "  th {\n",
       "    text-align: left;\n",
       "  }\n",
       "</style><div class='table-result-container'><table class='table-result'><thead style='background-color: white'><tr><th>Type</th><th>source_table</th><th>table_owner</th><th>upstream_changed_schema_info</th><th>TablesInfo</th><th>PermissionInfo</th><th>GroupInfo</th><th>JobInfo</th><th>NotebookInfo</th><th>DashboardInfo</th><th>QueryInfo</th><th>PipelineInfo</th><th>ModelsInfo</th><th>FileInfo</th></tr></thead><tbody><tr><td>Downstream</td><td>ds_training_1.ds_silver.customer_silver_vishal</td><td>vishal.kokkula@latentview.com</td><td>List(List(ds_training_1, RENAME COLUMN, 2024-10-16T10:06:49.146321, test_column, vishal.kokkula@latentviewo365.onmicrosoft.com, 29, vishal.kokkula@latentviewo365.onmicrosoft.com, 2024-10-16T10:00:25, NA, Pending, null, ds_silver, 10, Inactive, customer_silver_vishal, 12, 2024-10-16T10:00:25), List(ds_training_1, DROP COLUMNS, 2024-10-16T10:06:49.146324, date_of_business, vishal.kokkula@latentviewo365.onmicrosoft.com, 30, vishal.kokkula@latentviewo365.onmicrosoft.com, 2024-10-16T10:02:36, NA, Pending, null, ds_silver, 11, Inactive, customer_silver_vishal, 13, 2024-10-16T10:02:36), List(ds_training_1, ADD COLUMNS, 2024-10-17T11:09:43.824667, ['test_coloumn_vishal'], vishal.kokkula@latentviewo365.onmicrosoft.com, 37, vishal.kokkula@latentviewo365.onmicrosoft.com, 2024-10-17T11:08:43, NA, Pending, {\"customer_id\": \"INT\", \"name\": \"STRING\", \"age\": \"INT\", \"gender\": \"STRING\", \"phone_number\": \"STRING\", \"email\": \"STRING\", \"account_id\": \"INT\", \"account_type\": \"STRING\", \"balance\": \"INT\", \"opened_date\": \"DATE\", \"status\": \"STRING\", \"business_date\": \"STRING\", \"test_column\": \"DATE\", \"test_coloumn_vishal\": \"INT\"}, ds_silver, 13, Inactive, customer_silver_vishal, 18, 2024-10-17T11:08:43), List(ds_training_1, RENAME COLUMN, 2024-10-18T08:31:42.277231, test_column_18_10_24, vishal.kokkula@latentviewo365.onmicrosoft.com, 46, vishal.kokkula@latentviewo365.onmicrosoft.com, 2024-10-18T07:59:35, NA, Pending, {\"customer_id\": \"INT\", \"name\": \"STRING\", \"age\": \"INT\", \"gender\": \"STRING\", \"phone_number\": \"STRING\", \"email\": \"STRING\", \"account_id\": \"INT\", \"account_type\": \"STRING\", \"balance\": \"INT\", \"opened_date\": \"DATE\", \"status\": \"STRING\", \"business_date\": \"STRING\", \"test_column\": \"DATE\", \"test_column_18_10_24\": \"INT\"}, ds_silver, 14, Inactive, customer_silver_vishal, 19, 2024-10-18T07:59:35))</td><td>List(List(List(ds_training_1, vishal.kokkula@latentviewo365.onmicrosoft.com, vishal.kokkula@latentview.com, N/A, 2024-09-22 18:48:26.0, customer_transaction_summary, 0, ds_gold, TABLE)))</td><td>List(List(ALL PRIVILEGES, ds_training_1.ds_gold.customer_transaction_summary, TABLE, danduprolu.stuthi@latentviewo365.onmicrosoft.com, danduprolu.stuthi@latentview.com))</td><td>List(List(ds_training_1.ds_gold.customer_transaction_summary, ALL PRIVILEGES, List(List(List(kudumalauday.kumarreddy@latentview.com, danduprolu.stuthi@latentview.com), 485080529618658, Data Engineer, List(kudumalauday.kumarreddy@latentviewo365.onmicrosoft.com, danduprolu.stuthi@latentviewo365.onmicrosoft.com), 2))), List(ds_training_1.ds_gold.customer_transaction_summary, ALL PRIVILEGES, List(List(List(brindavivek.kotha@latentview.com, danduprolu.stuthi@latentview.com), 823552377244743, sample, List(brindavivek.kotha@latentviewo365.onmicrosoft.com, danduprolu.stuthi@latentviewo365.onmicrosoft.com), 2))), List(ds_training_1, ALL PRIVILEGES, List()))</td><td>List(List(List(vishal.kokkula@latentviewo365.onmicrosoft.com, vishal.kokkula@latentview.com, null, 776564016740257, 2024-09-22 18:48:26.0, 0, 2376768479807879)), List(List(vishal.kokkula@latentviewo365.onmicrosoft.com, vishal.kokkula@latentview.com, null, 539953870834493, 2024-09-20 04:45:51.0, 1, 2376768479807879)), List(List(vishal.kokkula@latentviewo365.onmicrosoft.com, vishal.kokkula@latentview.com, null, 642259009613085, 2024-09-20 04:36:59.0, 2, 2376768479807879)), List(List(vishal.kokkula@latentviewo365.onmicrosoft.com, vishal.kokkula@latentview.com, null, 40710675392154, 2024-09-19 18:39:52.0, 3, 2376768479807879)), List(List(vishal.kokkula@latentviewo365.onmicrosoft.com, vishal.kokkula@latentview.com, null, 158830438318304, 2024-09-19 09:41:27.0, 4, 2376768479807879)), List(List(vishal.kokkula@latentviewo365.onmicrosoft.com, vishal.kokkula@latentview.com, null, 631425637127538, 2024-09-19 06:25:38.0, 5, 2376768479807879)), List(List(vishal.kokkula@latentviewo365.onmicrosoft.com, vishal.kokkula@latentview.com, null, 1090453796940635, 2024-09-19 05:09:16.0, 6, 2376768479807879)), List(List(vishal.kokkula@latentviewo365.onmicrosoft.com, vishal.kokkula@latentview.com, null, 172815366144315, 2024-09-19 05:05:18.0, 7, 2376768479807879)), List(List(vishal.kokkula@latentviewo365.onmicrosoft.com, vishal.kokkula@latentview.com, null, 1054443590945001, 2024-09-16 09:43:50.0, 8, 2376768479807879)))</td><td>List(List(List(vishal.kokkula@latentviewo365.onmicrosoft.com, vishal.kokkula@latentview.com, N/A, 2024-10-23 10:41:35.0, 4438279648331977, 0, 2376768479807879)), List(List(vishal.kokkula@latentviewo365.onmicrosoft.com, vishal.kokkula@latentview.com, N/A, 2024-10-18 07:59:43.0, 3477860330566096, 1, 2376768479807879)), List(List(vishal.kokkula@latentviewo365.onmicrosoft.com, vishal.kokkula@latentview.com, N/A, 2024-10-17 11:08:56.0, 3477860330566379, 2, 2376768479807879)), List(List(vishal.kokkula@latentviewo365.onmicrosoft.com, vishal.kokkula@latentview.com, N/A, 2024-10-16 10:04:18.0, 3852443579535474, 3, 2376768479807879)), List(List(vishal.kokkula@latentviewo365.onmicrosoft.com, vishal.kokkula@latentview.com, N/A, 2024-09-20 04:32:20.0, 673539338302310, 4, 2376768479807879)), List(List(vishal.kokkula@latentviewo365.onmicrosoft.com, vishal.kokkula@latentview.com, N/A, 2024-09-16 10:20:46.0, 673539338303002, 5, 2376768479807879)), List(List(vishal.kokkula@latentviewo365.onmicrosoft.com, vishal.kokkula@latentview.com, N/A, 2024-09-16 10:20:33.0, 673539338301903, 6, 2376768479807879)), List(List(vishal.kokkula@latentviewo365.onmicrosoft.com, vishal.kokkula@latentview.com, N/A, 2024-09-19 05:02:41.0, 3720149794624477, 0, 2376768479807879)), List(List(vishal.kokkula@latentviewo365.onmicrosoft.com, vishal.kokkula@latentview.com, N/A, 2024-09-16 09:02:23.0, 673539338302308, 1, 2376768479807879)))</td><td>List()</td><td>List()</td><td>List()</td><td>List()</td><td>List()</td></tr><tr><td>Downstream</td><td>ds_training_1.ds_silver.customer_silver_vishal</td><td>vishal.kokkula@latentview.com</td><td>List(List(ds_training_1, RENAME COLUMN, 2024-10-16T10:06:49.146321, test_column, vishal.kokkula@latentviewo365.onmicrosoft.com, 29, vishal.kokkula@latentviewo365.onmicrosoft.com, 2024-10-16T10:00:25, NA, Pending, null, ds_silver, 10, Inactive, customer_silver_vishal, 12, 2024-10-16T10:00:25), List(ds_training_1, DROP COLUMNS, 2024-10-16T10:06:49.146324, date_of_business, vishal.kokkula@latentviewo365.onmicrosoft.com, 30, vishal.kokkula@latentviewo365.onmicrosoft.com, 2024-10-16T10:02:36, NA, Pending, null, ds_silver, 11, Inactive, customer_silver_vishal, 13, 2024-10-16T10:02:36), List(ds_training_1, ADD COLUMNS, 2024-10-17T11:09:43.824667, ['test_coloumn_vishal'], vishal.kokkula@latentviewo365.onmicrosoft.com, 37, vishal.kokkula@latentviewo365.onmicrosoft.com, 2024-10-17T11:08:43, NA, Pending, {\"customer_id\": \"INT\", \"name\": \"STRING\", \"age\": \"INT\", \"gender\": \"STRING\", \"phone_number\": \"STRING\", \"email\": \"STRING\", \"account_id\": \"INT\", \"account_type\": \"STRING\", \"balance\": \"INT\", \"opened_date\": \"DATE\", \"status\": \"STRING\", \"business_date\": \"STRING\", \"test_column\": \"DATE\", \"test_coloumn_vishal\": \"INT\"}, ds_silver, 13, Inactive, customer_silver_vishal, 18, 2024-10-17T11:08:43), List(ds_training_1, RENAME COLUMN, 2024-10-18T08:31:42.277231, test_column_18_10_24, vishal.kokkula@latentviewo365.onmicrosoft.com, 46, vishal.kokkula@latentviewo365.onmicrosoft.com, 2024-10-18T07:59:35, NA, Pending, {\"customer_id\": \"INT\", \"name\": \"STRING\", \"age\": \"INT\", \"gender\": \"STRING\", \"phone_number\": \"STRING\", \"email\": \"STRING\", \"account_id\": \"INT\", \"account_type\": \"STRING\", \"balance\": \"INT\", \"opened_date\": \"DATE\", \"status\": \"STRING\", \"business_date\": \"STRING\", \"test_column\": \"DATE\", \"test_column_18_10_24\": \"INT\"}, ds_silver, 14, Inactive, customer_silver_vishal, 19, 2024-10-18T07:59:35))</td><td>List(List(List(ds_training_1, vishal.kokkula@latentviewo365.onmicrosoft.com, vishal.kokkula@latentview.com, N/A, 2024-09-22 18:48:26.0, customer_transaction_summary, 0, ds_gold, TABLE)))</td><td>List(List(ALL PRIVILEGES, ds_training_1.ds_gold.customer_transaction_summary, TABLE, danduprolu.stuthi@latentviewo365.onmicrosoft.com, danduprolu.stuthi@latentview.com))</td><td>List(List(ds_training_1.ds_gold.customer_transaction_summary, ALL PRIVILEGES, List(List(List(kudumalauday.kumarreddy@latentview.com, danduprolu.stuthi@latentview.com), 485080529618658, Data Engineer, List(kudumalauday.kumarreddy@latentviewo365.onmicrosoft.com, danduprolu.stuthi@latentviewo365.onmicrosoft.com), 2))), List(ds_training_1.ds_gold.customer_transaction_summary, ALL PRIVILEGES, List(List(List(brindavivek.kotha@latentview.com, danduprolu.stuthi@latentview.com), 823552377244743, sample, List(brindavivek.kotha@latentviewo365.onmicrosoft.com, danduprolu.stuthi@latentviewo365.onmicrosoft.com), 2))), List(ds_training_1, ALL PRIVILEGES, List()))</td><td>List(List(List(vishal.kokkula@latentviewo365.onmicrosoft.com, vishal.kokkula@latentview.com, null, 776564016740257, 2024-09-22 18:48:26.0, 0, 2376768479807879)), List(List(vishal.kokkula@latentviewo365.onmicrosoft.com, vishal.kokkula@latentview.com, null, 539953870834493, 2024-09-20 04:45:51.0, 1, 2376768479807879)), List(List(vishal.kokkula@latentviewo365.onmicrosoft.com, vishal.kokkula@latentview.com, null, 642259009613085, 2024-09-20 04:36:59.0, 2, 2376768479807879)), List(List(vishal.kokkula@latentviewo365.onmicrosoft.com, vishal.kokkula@latentview.com, null, 40710675392154, 2024-09-19 18:39:52.0, 3, 2376768479807879)), List(List(vishal.kokkula@latentviewo365.onmicrosoft.com, vishal.kokkula@latentview.com, null, 158830438318304, 2024-09-19 09:41:27.0, 4, 2376768479807879)), List(List(vishal.kokkula@latentviewo365.onmicrosoft.com, vishal.kokkula@latentview.com, null, 631425637127538, 2024-09-19 06:25:38.0, 5, 2376768479807879)), List(List(vishal.kokkula@latentviewo365.onmicrosoft.com, vishal.kokkula@latentview.com, null, 1090453796940635, 2024-09-19 05:09:16.0, 6, 2376768479807879)), List(List(vishal.kokkula@latentviewo365.onmicrosoft.com, vishal.kokkula@latentview.com, null, 172815366144315, 2024-09-19 05:05:18.0, 7, 2376768479807879)), List(List(vishal.kokkula@latentviewo365.onmicrosoft.com, vishal.kokkula@latentview.com, null, 1054443590945001, 2024-09-16 09:43:50.0, 8, 2376768479807879)))</td><td>List(List(List(vishal.kokkula@latentviewo365.onmicrosoft.com, vishal.kokkula@latentview.com, N/A, 2024-10-23 10:41:35.0, 4438279648331977, 0, 2376768479807879)), List(List(vishal.kokkula@latentviewo365.onmicrosoft.com, vishal.kokkula@latentview.com, N/A, 2024-10-18 07:59:43.0, 3477860330566096, 1, 2376768479807879)), List(List(vishal.kokkula@latentviewo365.onmicrosoft.com, vishal.kokkula@latentview.com, N/A, 2024-10-17 11:08:56.0, 3477860330566379, 2, 2376768479807879)), List(List(vishal.kokkula@latentviewo365.onmicrosoft.com, vishal.kokkula@latentview.com, N/A, 2024-10-16 10:04:18.0, 3852443579535474, 3, 2376768479807879)), List(List(vishal.kokkula@latentviewo365.onmicrosoft.com, vishal.kokkula@latentview.com, N/A, 2024-09-20 04:32:20.0, 673539338302310, 4, 2376768479807879)), List(List(vishal.kokkula@latentviewo365.onmicrosoft.com, vishal.kokkula@latentview.com, N/A, 2024-09-16 10:20:46.0, 673539338303002, 5, 2376768479807879)), List(List(vishal.kokkula@latentviewo365.onmicrosoft.com, vishal.kokkula@latentview.com, N/A, 2024-09-16 10:20:33.0, 673539338301903, 6, 2376768479807879)), List(List(vishal.kokkula@latentviewo365.onmicrosoft.com, vishal.kokkula@latentview.com, N/A, 2024-09-19 05:02:41.0, 3720149794624477, 0, 2376768479807879)), List(List(vishal.kokkula@latentviewo365.onmicrosoft.com, vishal.kokkula@latentview.com, N/A, 2024-09-16 09:02:23.0, 673539338302308, 1, 2376768479807879)))</td><td>List()</td><td>List()</td><td>List()</td><td>List()</td><td>List()</td></tr></tbody></table></div>"
      ]
     },
     "metadata": {
      "application/vnd.databricks.v1+output": {
       "addedWidgets": {},
       "aggData": [],
       "aggError": "",
       "aggOverflow": false,
       "aggSchema": [],
       "aggSeriesLimitReached": false,
       "aggType": "",
       "arguments": {},
       "columnCustomDisplayInfos": {},
       "data": [
        [
         "Downstream",
         "ds_training_1.ds_silver.customer_silver_vishal",
         "vishal.kokkula@latentview.com",
         [
          [
           "ds_training_1",
           "RENAME COLUMN",
           "2024-10-16T10:06:49.146321",
           "test_column",
           "vishal.kokkula@latentviewo365.onmicrosoft.com",
           29,
           "vishal.kokkula@latentviewo365.onmicrosoft.com",
           "2024-10-16T10:00:25",
           "NA",
           "Pending",
           null,
           "ds_silver",
           10,
           "Inactive",
           "customer_silver_vishal",
           12,
           "2024-10-16T10:00:25"
          ],
          [
           "ds_training_1",
           "DROP COLUMNS",
           "2024-10-16T10:06:49.146324",
           "date_of_business",
           "vishal.kokkula@latentviewo365.onmicrosoft.com",
           30,
           "vishal.kokkula@latentviewo365.onmicrosoft.com",
           "2024-10-16T10:02:36",
           "NA",
           "Pending",
           null,
           "ds_silver",
           11,
           "Inactive",
           "customer_silver_vishal",
           13,
           "2024-10-16T10:02:36"
          ],
          [
           "ds_training_1",
           "ADD COLUMNS",
           "2024-10-17T11:09:43.824667",
           "['test_coloumn_vishal']",
           "vishal.kokkula@latentviewo365.onmicrosoft.com",
           37,
           "vishal.kokkula@latentviewo365.onmicrosoft.com",
           "2024-10-17T11:08:43",
           "NA",
           "Pending",
           "{\"customer_id\": \"INT\", \"name\": \"STRING\", \"age\": \"INT\", \"gender\": \"STRING\", \"phone_number\": \"STRING\", \"email\": \"STRING\", \"account_id\": \"INT\", \"account_type\": \"STRING\", \"balance\": \"INT\", \"opened_date\": \"DATE\", \"status\": \"STRING\", \"business_date\": \"STRING\", \"test_column\": \"DATE\", \"test_coloumn_vishal\": \"INT\"}",
           "ds_silver",
           13,
           "Inactive",
           "customer_silver_vishal",
           18,
           "2024-10-17T11:08:43"
          ],
          [
           "ds_training_1",
           "RENAME COLUMN",
           "2024-10-18T08:31:42.277231",
           "test_column_18_10_24",
           "vishal.kokkula@latentviewo365.onmicrosoft.com",
           46,
           "vishal.kokkula@latentviewo365.onmicrosoft.com",
           "2024-10-18T07:59:35",
           "NA",
           "Pending",
           "{\"customer_id\": \"INT\", \"name\": \"STRING\", \"age\": \"INT\", \"gender\": \"STRING\", \"phone_number\": \"STRING\", \"email\": \"STRING\", \"account_id\": \"INT\", \"account_type\": \"STRING\", \"balance\": \"INT\", \"opened_date\": \"DATE\", \"status\": \"STRING\", \"business_date\": \"STRING\", \"test_column\": \"DATE\", \"test_column_18_10_24\": \"INT\"}",
           "ds_silver",
           14,
           "Inactive",
           "customer_silver_vishal",
           19,
           "2024-10-18T07:59:35"
          ]
         ],
         [
          [
           [
            "ds_training_1",
            "vishal.kokkula@latentviewo365.onmicrosoft.com",
            "vishal.kokkula@latentview.com",
            "N/A",
            "2024-09-22 18:48:26.0",
            "customer_transaction_summary",
            0,
            "ds_gold",
            "TABLE"
           ]
          ]
         ],
         [
          [
           "ALL PRIVILEGES",
           "ds_training_1.ds_gold.customer_transaction_summary",
           "TABLE",
           "danduprolu.stuthi@latentviewo365.onmicrosoft.com",
           "danduprolu.stuthi@latentview.com"
          ]
         ],
         [
          [
           "ds_training_1.ds_gold.customer_transaction_summary",
           "ALL PRIVILEGES",
           [
            [
             [
              "kudumalauday.kumarreddy@latentview.com",
              "danduprolu.stuthi@latentview.com"
             ],
             "485080529618658",
             "Data Engineer",
             [
              "kudumalauday.kumarreddy@latentviewo365.onmicrosoft.com",
              "danduprolu.stuthi@latentviewo365.onmicrosoft.com"
             ],
             2
            ]
           ]
          ],
          [
           "ds_training_1.ds_gold.customer_transaction_summary",
           "ALL PRIVILEGES",
           [
            [
             [
              "brindavivek.kotha@latentview.com",
              "danduprolu.stuthi@latentview.com"
             ],
             "823552377244743",
             "sample",
             [
              "brindavivek.kotha@latentviewo365.onmicrosoft.com",
              "danduprolu.stuthi@latentviewo365.onmicrosoft.com"
             ],
             2
            ]
           ]
          ],
          [
           "ds_training_1",
           "ALL PRIVILEGES",
           []
          ]
         ],
         [
          [
           [
            "vishal.kokkula@latentviewo365.onmicrosoft.com",
            "vishal.kokkula@latentview.com",
            null,
            776564016740257,
            "2024-09-22 18:48:26.0",
            0,
            2376768479807879
           ]
          ],
          [
           [
            "vishal.kokkula@latentviewo365.onmicrosoft.com",
            "vishal.kokkula@latentview.com",
            null,
            539953870834493,
            "2024-09-20 04:45:51.0",
            1,
            2376768479807879
           ]
          ],
          [
           [
            "vishal.kokkula@latentviewo365.onmicrosoft.com",
            "vishal.kokkula@latentview.com",
            null,
            642259009613085,
            "2024-09-20 04:36:59.0",
            2,
            2376768479807879
           ]
          ],
          [
           [
            "vishal.kokkula@latentviewo365.onmicrosoft.com",
            "vishal.kokkula@latentview.com",
            null,
            40710675392154,
            "2024-09-19 18:39:52.0",
            3,
            2376768479807879
           ]
          ],
          [
           [
            "vishal.kokkula@latentviewo365.onmicrosoft.com",
            "vishal.kokkula@latentview.com",
            null,
            158830438318304,
            "2024-09-19 09:41:27.0",
            4,
            2376768479807879
           ]
          ],
          [
           [
            "vishal.kokkula@latentviewo365.onmicrosoft.com",
            "vishal.kokkula@latentview.com",
            null,
            631425637127538,
            "2024-09-19 06:25:38.0",
            5,
            2376768479807879
           ]
          ],
          [
           [
            "vishal.kokkula@latentviewo365.onmicrosoft.com",
            "vishal.kokkula@latentview.com",
            null,
            1090453796940635,
            "2024-09-19 05:09:16.0",
            6,
            2376768479807879
           ]
          ],
          [
           [
            "vishal.kokkula@latentviewo365.onmicrosoft.com",
            "vishal.kokkula@latentview.com",
            null,
            172815366144315,
            "2024-09-19 05:05:18.0",
            7,
            2376768479807879
           ]
          ],
          [
           [
            "vishal.kokkula@latentviewo365.onmicrosoft.com",
            "vishal.kokkula@latentview.com",
            null,
            1054443590945001,
            "2024-09-16 09:43:50.0",
            8,
            2376768479807879
           ]
          ]
         ],
         [
          [
           [
            "vishal.kokkula@latentviewo365.onmicrosoft.com",
            "vishal.kokkula@latentview.com",
            "N/A",
            "2024-10-23 10:41:35.0",
            4438279648331977,
            0,
            2376768479807879
           ]
          ],
          [
           [
            "vishal.kokkula@latentviewo365.onmicrosoft.com",
            "vishal.kokkula@latentview.com",
            "N/A",
            "2024-10-18 07:59:43.0",
            3477860330566096,
            1,
            2376768479807879
           ]
          ],
          [
           [
            "vishal.kokkula@latentviewo365.onmicrosoft.com",
            "vishal.kokkula@latentview.com",
            "N/A",
            "2024-10-17 11:08:56.0",
            3477860330566379,
            2,
            2376768479807879
           ]
          ],
          [
           [
            "vishal.kokkula@latentviewo365.onmicrosoft.com",
            "vishal.kokkula@latentview.com",
            "N/A",
            "2024-10-16 10:04:18.0",
            3852443579535474,
            3,
            2376768479807879
           ]
          ],
          [
           [
            "vishal.kokkula@latentviewo365.onmicrosoft.com",
            "vishal.kokkula@latentview.com",
            "N/A",
            "2024-09-20 04:32:20.0",
            673539338302310,
            4,
            2376768479807879
           ]
          ],
          [
           [
            "vishal.kokkula@latentviewo365.onmicrosoft.com",
            "vishal.kokkula@latentview.com",
            "N/A",
            "2024-09-16 10:20:46.0",
            673539338303002,
            5,
            2376768479807879
           ]
          ],
          [
           [
            "vishal.kokkula@latentviewo365.onmicrosoft.com",
            "vishal.kokkula@latentview.com",
            "N/A",
            "2024-09-16 10:20:33.0",
            673539338301903,
            6,
            2376768479807879
           ]
          ],
          [
           [
            "vishal.kokkula@latentviewo365.onmicrosoft.com",
            "vishal.kokkula@latentview.com",
            "N/A",
            "2024-09-19 05:02:41.0",
            3720149794624477,
            0,
            2376768479807879
           ]
          ],
          [
           [
            "vishal.kokkula@latentviewo365.onmicrosoft.com",
            "vishal.kokkula@latentview.com",
            "N/A",
            "2024-09-16 09:02:23.0",
            673539338302308,
            1,
            2376768479807879
           ]
          ]
         ],
         [],
         [],
         [],
         [],
         []
        ],
        [
         "Downstream",
         "ds_training_1.ds_silver.customer_silver_vishal",
         "vishal.kokkula@latentview.com",
         [
          [
           "ds_training_1",
           "RENAME COLUMN",
           "2024-10-16T10:06:49.146321",
           "test_column",
           "vishal.kokkula@latentviewo365.onmicrosoft.com",
           29,
           "vishal.kokkula@latentviewo365.onmicrosoft.com",
           "2024-10-16T10:00:25",
           "NA",
           "Pending",
           null,
           "ds_silver",
           10,
           "Inactive",
           "customer_silver_vishal",
           12,
           "2024-10-16T10:00:25"
          ],
          [
           "ds_training_1",
           "DROP COLUMNS",
           "2024-10-16T10:06:49.146324",
           "date_of_business",
           "vishal.kokkula@latentviewo365.onmicrosoft.com",
           30,
           "vishal.kokkula@latentviewo365.onmicrosoft.com",
           "2024-10-16T10:02:36",
           "NA",
           "Pending",
           null,
           "ds_silver",
           11,
           "Inactive",
           "customer_silver_vishal",
           13,
           "2024-10-16T10:02:36"
          ],
          [
           "ds_training_1",
           "ADD COLUMNS",
           "2024-10-17T11:09:43.824667",
           "['test_coloumn_vishal']",
           "vishal.kokkula@latentviewo365.onmicrosoft.com",
           37,
           "vishal.kokkula@latentviewo365.onmicrosoft.com",
           "2024-10-17T11:08:43",
           "NA",
           "Pending",
           "{\"customer_id\": \"INT\", \"name\": \"STRING\", \"age\": \"INT\", \"gender\": \"STRING\", \"phone_number\": \"STRING\", \"email\": \"STRING\", \"account_id\": \"INT\", \"account_type\": \"STRING\", \"balance\": \"INT\", \"opened_date\": \"DATE\", \"status\": \"STRING\", \"business_date\": \"STRING\", \"test_column\": \"DATE\", \"test_coloumn_vishal\": \"INT\"}",
           "ds_silver",
           13,
           "Inactive",
           "customer_silver_vishal",
           18,
           "2024-10-17T11:08:43"
          ],
          [
           "ds_training_1",
           "RENAME COLUMN",
           "2024-10-18T08:31:42.277231",
           "test_column_18_10_24",
           "vishal.kokkula@latentviewo365.onmicrosoft.com",
           46,
           "vishal.kokkula@latentviewo365.onmicrosoft.com",
           "2024-10-18T07:59:35",
           "NA",
           "Pending",
           "{\"customer_id\": \"INT\", \"name\": \"STRING\", \"age\": \"INT\", \"gender\": \"STRING\", \"phone_number\": \"STRING\", \"email\": \"STRING\", \"account_id\": \"INT\", \"account_type\": \"STRING\", \"balance\": \"INT\", \"opened_date\": \"DATE\", \"status\": \"STRING\", \"business_date\": \"STRING\", \"test_column\": \"DATE\", \"test_column_18_10_24\": \"INT\"}",
           "ds_silver",
           14,
           "Inactive",
           "customer_silver_vishal",
           19,
           "2024-10-18T07:59:35"
          ]
         ],
         [
          [
           [
            "ds_training_1",
            "vishal.kokkula@latentviewo365.onmicrosoft.com",
            "vishal.kokkula@latentview.com",
            "N/A",
            "2024-09-22 18:48:26.0",
            "customer_transaction_summary",
            0,
            "ds_gold",
            "TABLE"
           ]
          ]
         ],
         [
          [
           "ALL PRIVILEGES",
           "ds_training_1.ds_gold.customer_transaction_summary",
           "TABLE",
           "danduprolu.stuthi@latentviewo365.onmicrosoft.com",
           "danduprolu.stuthi@latentview.com"
          ]
         ],
         [
          [
           "ds_training_1.ds_gold.customer_transaction_summary",
           "ALL PRIVILEGES",
           [
            [
             [
              "kudumalauday.kumarreddy@latentview.com",
              "danduprolu.stuthi@latentview.com"
             ],
             "485080529618658",
             "Data Engineer",
             [
              "kudumalauday.kumarreddy@latentviewo365.onmicrosoft.com",
              "danduprolu.stuthi@latentviewo365.onmicrosoft.com"
             ],
             2
            ]
           ]
          ],
          [
           "ds_training_1.ds_gold.customer_transaction_summary",
           "ALL PRIVILEGES",
           [
            [
             [
              "brindavivek.kotha@latentview.com",
              "danduprolu.stuthi@latentview.com"
             ],
             "823552377244743",
             "sample",
             [
              "brindavivek.kotha@latentviewo365.onmicrosoft.com",
              "danduprolu.stuthi@latentviewo365.onmicrosoft.com"
             ],
             2
            ]
           ]
          ],
          [
           "ds_training_1",
           "ALL PRIVILEGES",
           []
          ]
         ],
         [
          [
           [
            "vishal.kokkula@latentviewo365.onmicrosoft.com",
            "vishal.kokkula@latentview.com",
            null,
            776564016740257,
            "2024-09-22 18:48:26.0",
            0,
            2376768479807879
           ]
          ],
          [
           [
            "vishal.kokkula@latentviewo365.onmicrosoft.com",
            "vishal.kokkula@latentview.com",
            null,
            539953870834493,
            "2024-09-20 04:45:51.0",
            1,
            2376768479807879
           ]
          ],
          [
           [
            "vishal.kokkula@latentviewo365.onmicrosoft.com",
            "vishal.kokkula@latentview.com",
            null,
            642259009613085,
            "2024-09-20 04:36:59.0",
            2,
            2376768479807879
           ]
          ],
          [
           [
            "vishal.kokkula@latentviewo365.onmicrosoft.com",
            "vishal.kokkula@latentview.com",
            null,
            40710675392154,
            "2024-09-19 18:39:52.0",
            3,
            2376768479807879
           ]
          ],
          [
           [
            "vishal.kokkula@latentviewo365.onmicrosoft.com",
            "vishal.kokkula@latentview.com",
            null,
            158830438318304,
            "2024-09-19 09:41:27.0",
            4,
            2376768479807879
           ]
          ],
          [
           [
            "vishal.kokkula@latentviewo365.onmicrosoft.com",
            "vishal.kokkula@latentview.com",
            null,
            631425637127538,
            "2024-09-19 06:25:38.0",
            5,
            2376768479807879
           ]
          ],
          [
           [
            "vishal.kokkula@latentviewo365.onmicrosoft.com",
            "vishal.kokkula@latentview.com",
            null,
            1090453796940635,
            "2024-09-19 05:09:16.0",
            6,
            2376768479807879
           ]
          ],
          [
           [
            "vishal.kokkula@latentviewo365.onmicrosoft.com",
            "vishal.kokkula@latentview.com",
            null,
            172815366144315,
            "2024-09-19 05:05:18.0",
            7,
            2376768479807879
           ]
          ],
          [
           [
            "vishal.kokkula@latentviewo365.onmicrosoft.com",
            "vishal.kokkula@latentview.com",
            null,
            1054443590945001,
            "2024-09-16 09:43:50.0",
            8,
            2376768479807879
           ]
          ]
         ],
         [
          [
           [
            "vishal.kokkula@latentviewo365.onmicrosoft.com",
            "vishal.kokkula@latentview.com",
            "N/A",
            "2024-10-23 10:41:35.0",
            4438279648331977,
            0,
            2376768479807879
           ]
          ],
          [
           [
            "vishal.kokkula@latentviewo365.onmicrosoft.com",
            "vishal.kokkula@latentview.com",
            "N/A",
            "2024-10-18 07:59:43.0",
            3477860330566096,
            1,
            2376768479807879
           ]
          ],
          [
           [
            "vishal.kokkula@latentviewo365.onmicrosoft.com",
            "vishal.kokkula@latentview.com",
            "N/A",
            "2024-10-17 11:08:56.0",
            3477860330566379,
            2,
            2376768479807879
           ]
          ],
          [
           [
            "vishal.kokkula@latentviewo365.onmicrosoft.com",
            "vishal.kokkula@latentview.com",
            "N/A",
            "2024-10-16 10:04:18.0",
            3852443579535474,
            3,
            2376768479807879
           ]
          ],
          [
           [
            "vishal.kokkula@latentviewo365.onmicrosoft.com",
            "vishal.kokkula@latentview.com",
            "N/A",
            "2024-09-20 04:32:20.0",
            673539338302310,
            4,
            2376768479807879
           ]
          ],
          [
           [
            "vishal.kokkula@latentviewo365.onmicrosoft.com",
            "vishal.kokkula@latentview.com",
            "N/A",
            "2024-09-16 10:20:46.0",
            673539338303002,
            5,
            2376768479807879
           ]
          ],
          [
           [
            "vishal.kokkula@latentviewo365.onmicrosoft.com",
            "vishal.kokkula@latentview.com",
            "N/A",
            "2024-09-16 10:20:33.0",
            673539338301903,
            6,
            2376768479807879
           ]
          ],
          [
           [
            "vishal.kokkula@latentviewo365.onmicrosoft.com",
            "vishal.kokkula@latentview.com",
            "N/A",
            "2024-09-19 05:02:41.0",
            3720149794624477,
            0,
            2376768479807879
           ]
          ],
          [
           [
            "vishal.kokkula@latentviewo365.onmicrosoft.com",
            "vishal.kokkula@latentview.com",
            "N/A",
            "2024-09-16 09:02:23.0",
            673539338302308,
            1,
            2376768479807879
           ]
          ]
         ],
         [],
         [],
         [],
         [],
         []
        ]
       ],
       "datasetInfos": [],
       "dbfsResultPath": null,
       "isJsonSchema": true,
       "metadata": {},
       "overflow": false,
       "plotOptions": {
        "customPlotOptions": {},
        "displayType": "table",
        "pivotAggregation": null,
        "pivotColumns": null,
        "xColumns": null,
        "yColumns": null
       },
       "removedWidgets": [],
       "schema": [
        {
         "metadata": "{}",
         "name": "Type",
         "type": "\"string\""
        },
        {
         "metadata": "{}",
         "name": "source_table",
         "type": "\"string\""
        },
        {
         "metadata": "{}",
         "name": "table_owner",
         "type": "\"string\""
        },
        {
         "metadata": "{}",
         "name": "upstream_changed_schema_info",
         "type": "{\"type\":\"array\",\"elementType\":{\"type\":\"struct\",\"fields\":[{\"name\":\"catalog_name\",\"type\":\"string\",\"nullable\":true,\"metadata\":{}},{\"name\":\"change_type\",\"type\":\"string\",\"nullable\":true,\"metadata\":{}},{\"name\":\"check_timestamp\",\"type\":\"string\",\"nullable\":true,\"metadata\":{}},{\"name\":\"column_name\",\"type\":\"string\",\"nullable\":true,\"metadata\":{}},{\"name\":\"created_by\",\"type\":\"string\",\"nullable\":true,\"metadata\":{}},{\"name\":\"id\",\"type\":\"long\",\"nullable\":true,\"metadata\":{}},{\"name\":\"modified_by\",\"type\":\"string\",\"nullable\":true,\"metadata\":{}},{\"name\":\"modified_timestamp\",\"type\":\"string\",\"nullable\":true,\"metadata\":{}},{\"name\":\"rollback_notification_status\",\"type\":\"string\",\"nullable\":true,\"metadata\":{}},{\"name\":\"schema_change_alert_status\",\"type\":\"string\",\"nullable\":true,\"metadata\":{}},{\"name\":\"schema_json\",\"type\":\"string\",\"nullable\":true,\"metadata\":{}},{\"name\":\"schema_name\",\"type\":\"string\",\"nullable\":true,\"metadata\":{}},{\"name\":\"schema_version\",\"type\":\"long\",\"nullable\":true,\"metadata\":{}},{\"name\":\"status\",\"type\":\"string\",\"nullable\":true,\"metadata\":{}},{\"name\":\"table_name\",\"type\":\"string\",\"nullable\":true,\"metadata\":{}},{\"name\":\"table_version\",\"type\":\"long\",\"nullable\":true,\"metadata\":{}},{\"name\":\"table_version_timestamp\",\"type\":\"string\",\"nullable\":true,\"metadata\":{}}]},\"containsNull\":true}"
        },
        {
         "metadata": "{}",
         "name": "TablesInfo",
         "type": "{\"type\":\"array\",\"elementType\":{\"type\":\"array\",\"elementType\":{\"type\":\"struct\",\"fields\":[{\"name\":\"catalog_name\",\"type\":\"string\",\"nullable\":true,\"metadata\":{}},{\"name\":\"created_by\",\"type\":\"string\",\"nullable\":true,\"metadata\":{}},{\"name\":\"created_by_email\",\"type\":\"string\",\"nullable\":true,\"metadata\":{}},{\"name\":\"entity_name\",\"type\":\"string\",\"nullable\":true,\"metadata\":{}},{\"name\":\"lineage_timestamp\",\"type\":\"string\",\"nullable\":true,\"metadata\":{}},{\"name\":\"name\",\"type\":\"string\",\"nullable\":true,\"metadata\":{}},{\"name\":\"record_id\",\"type\":\"long\",\"nullable\":true,\"metadata\":{}},{\"name\":\"schema_name\",\"type\":\"string\",\"nullable\":true,\"metadata\":{}},{\"name\":\"table_type\",\"type\":\"string\",\"nullable\":true,\"metadata\":{}}]},\"containsNull\":true},\"containsNull\":true}"
        },
        {
         "metadata": "{}",
         "name": "PermissionInfo",
         "type": "{\"type\":\"array\",\"elementType\":{\"type\":\"struct\",\"fields\":[{\"name\":\"ActionType\",\"type\":\"string\",\"nullable\":true,\"metadata\":{}},{\"name\":\"ObjectKey\",\"type\":\"string\",\"nullable\":true,\"metadata\":{}},{\"name\":\"ObjectType\",\"type\":\"string\",\"nullable\":true,\"metadata\":{}},{\"name\":\"Principal\",\"type\":\"string\",\"nullable\":true,\"metadata\":{}},{\"name\":\"created_by_email_id\",\"type\":\"string\",\"nullable\":true,\"metadata\":{}}]},\"containsNull\":true}"
        },
        {
         "metadata": "{}",
         "name": "GroupInfo",
         "type": "{\"type\":\"array\",\"elementType\":{\"type\":\"struct\",\"fields\":[{\"name\":\"ObjectKey\",\"type\":\"string\",\"nullable\":true,\"metadata\":{}},{\"name\":\"Previleges\",\"type\":\"string\",\"nullable\":true,\"metadata\":{}},{\"name\":\"group_details\",\"type\":{\"type\":\"array\",\"elementType\":{\"type\":\"struct\",\"fields\":[{\"name\":\"Email IDs\",\"type\":{\"type\":\"array\",\"elementType\":\"string\",\"containsNull\":true},\"nullable\":true,\"metadata\":{}},{\"name\":\"Group ID\",\"type\":\"string\",\"nullable\":true,\"metadata\":{}},{\"name\":\"Group Name\",\"type\":\"string\",\"nullable\":true,\"metadata\":{}},{\"name\":\"Members\",\"type\":{\"type\":\"array\",\"elementType\":\"string\",\"containsNull\":true},\"nullable\":true,\"metadata\":{}},{\"name\":\"Members Count\",\"type\":\"long\",\"nullable\":true,\"metadata\":{}}]},\"containsNull\":true},\"nullable\":true,\"metadata\":{}}]},\"containsNull\":true}"
        },
        {
         "metadata": "{}",
         "name": "JobInfo",
         "type": "{\"type\":\"array\",\"elementType\":{\"type\":\"array\",\"elementType\":{\"type\":\"struct\",\"fields\":[{\"name\":\"created_by\",\"type\":\"string\",\"nullable\":true,\"metadata\":{}},{\"name\":\"created_by_email\",\"type\":\"string\",\"nullable\":true,\"metadata\":{}},{\"name\":\"entity_name\",\"type\":\"void\",\"nullable\":true,\"metadata\":{}},{\"name\":\"job_id\",\"type\":\"long\",\"nullable\":true,\"metadata\":{}},{\"name\":\"lineage_timestamp\",\"type\":\"string\",\"nullable\":true,\"metadata\":{}},{\"name\":\"record_id\",\"type\":\"long\",\"nullable\":true,\"metadata\":{}},{\"name\":\"workspace_id\",\"type\":\"long\",\"nullable\":true,\"metadata\":{}}]},\"containsNull\":true},\"containsNull\":true}"
        },
        {
         "metadata": "{}",
         "name": "NotebookInfo",
         "type": "{\"type\":\"array\",\"elementType\":{\"type\":\"array\",\"elementType\":{\"type\":\"struct\",\"fields\":[{\"name\":\"created_by\",\"type\":\"string\",\"nullable\":true,\"metadata\":{}},{\"name\":\"created_by_email\",\"type\":\"string\",\"nullable\":true,\"metadata\":{}},{\"name\":\"entity_name\",\"type\":\"string\",\"nullable\":true,\"metadata\":{}},{\"name\":\"lineage_timestamp\",\"type\":\"string\",\"nullable\":true,\"metadata\":{}},{\"name\":\"notebook_id\",\"type\":\"long\",\"nullable\":true,\"metadata\":{}},{\"name\":\"record_id\",\"type\":\"long\",\"nullable\":true,\"metadata\":{}},{\"name\":\"workspace_id\",\"type\":\"long\",\"nullable\":true,\"metadata\":{}}]},\"containsNull\":true},\"containsNull\":true}"
        },
        {
         "metadata": "{}",
         "name": "DashboardInfo",
         "type": "{\"type\":\"array\",\"elementType\":\"void\",\"containsNull\":true}"
        },
        {
         "metadata": "{}",
         "name": "QueryInfo",
         "type": "{\"type\":\"array\",\"elementType\":\"void\",\"containsNull\":true}"
        },
        {
         "metadata": "{}",
         "name": "PipelineInfo",
         "type": "{\"type\":\"array\",\"elementType\":\"void\",\"containsNull\":true}"
        },
        {
         "metadata": "{}",
         "name": "ModelsInfo",
         "type": "{\"type\":\"array\",\"elementType\":\"void\",\"containsNull\":true}"
        },
        {
         "metadata": "{}",
         "name": "FileInfo",
         "type": "{\"type\":\"array\",\"elementType\":\"void\",\"containsNull\":true}"
        }
       ],
       "type": "table"
      }
     },
     "output_type": "display_data"
    }
   ],
   "source": [
    "# API call to fetch Table Lineage data\n",
    "lineage_api_url = f\"https://{databricks_instance}/api/2.0/lineage-tracking/table-lineage\"\n",
    "payload = {\n",
    "    \"table_name\": f\"{catalog_name}.{schema_name}.{name}\",\n",
    "    \"include_entity_lineage\": True\n",
    "}\n",
    "upstream_table_path = payload.get('table_name')\n",
    "\n",
    "response = requests.get(lineage_api_url, headers=headers, data=json.dumps(payload))\n",
    "\n",
    "if response.status_code == 200:\n",
    "    lineage_data = response.json()\n",
    "    print(\"Table Lineage Data:\")\n",
    "else:\n",
    "    print(f\"Failed to retrieve table lineage: {response.status_code}\")\n",
    "    lineage_data = {}\n",
    "\n",
    "# Process the lineage data and populate table columns\n",
    "lineage_rows = []\n",
    "table_rows = []\n",
    "permission_rows = [] \n",
    "group_rows = []\n",
    "job_rows = []\n",
    "notebook_rows = []\n",
    "dashboard_rows = []\n",
    "query_rows = []\n",
    "pipeline_rows = []\n",
    "model_rows = []\n",
    "file_rows = []\n",
    "upstream_schema_changed = json_dict\n",
    "downstreams = lineage_data.get('downstreams', [])\n",
    "record_id = 1\n",
    "current_id = 1\n",
    "\n",
    "def convert_timestamps_to_str(data):\n",
    "    for item in data:\n",
    "        for key, value in item.items():\n",
    "            if isinstance(value, pd.Timestamp):\n",
    "                item[key] = value.isoformat()\n",
    "    return data\n",
    "\n",
    "for downstream in downstreams:\n",
    "    # Process TableInfo\n",
    "    table_info = downstream.get('tableInfo', {})\n",
    "    record_id = 0\n",
    "    current_id = 0\n",
    "    # Ensure table_info is a list\n",
    "    if not isinstance(table_info, list):\n",
    "        table_info = [table_info]\n",
    "    for table in table_info:\n",
    "        table_data = process_info_with_record_id(table, record_id, 'Table')\n",
    "        if not isinstance(table_data, dict) and table_data[0]['created_by'] != 'N/A':\n",
    "            table_rows.append(table_data)\n",
    "            # Fetch PermissionInfo (already defined elsewhere)\n",
    "            permission_info_with_id = fetch_table_permissions_with_record_id(table)\n",
    "            permission=permission_info_with_id[0]\n",
    "            print(permission)\n",
    "            # Fetch GroupInfo based on permissions\n",
    "            group_info_with_id = []\n",
    "            if permission:\n",
    "\n",
    "                group_info = []\n",
    "                if isinstance(permission, list):\n",
    "                    for perm in permission:\n",
    "                        principal = perm['Principal']\n",
    "                        action_type=perm['ActionType']\n",
    "                        ObjectType=perm['ObjectType']\n",
    "                        ObjectKey=perm['ObjectKey']\n",
    "                        if '@latentviewo365.onmicrosoft.com' in principal:  # Check if it's a group (not an email address)\n",
    "                                # Fetch the email for the user if it's not a group\n",
    "                                email = fetch_email_by_entra_id(principal)\n",
    "                                perm['created_by_email_id'] = email\n",
    "                                print(perm)\n",
    "                                permission_rows.append(perm)\n",
    "                        else:\n",
    "                                print(perm)\n",
    "                                group_data = process_permissions_and_groups(principal)\n",
    "                                group_info={\n",
    "                                    \"Previleges\":action_type,\n",
    "                                    \"ObjectKey\":ObjectKey,\n",
    "                                    \"group_details\":group_data\n",
    "                                }\n",
    "                                group_rows.append(group_info)\n",
    "\n",
    "                    \n",
    "\n",
    "        \n",
    "\n",
    "        record_id += 1\n",
    "        current_id += 1\n",
    "\n",
    "    # Process JobInfo\n",
    "    job_info = downstream.get('jobInfos', [])\n",
    "    record_id = 0\n",
    "    current_id = 0\n",
    "    for job in job_info:\n",
    "        job_data = process_info_with_record_id(job, record_id, 'JOB')\n",
    "        job_rows.append(job_data)\n",
    "        record_id += 1\n",
    "        current_id += 1\n",
    "\n",
    "    # Process NotebookInfo\n",
    "    notebook_info = downstream.get('notebookInfos', [])\n",
    "    record_id = 0\n",
    "    current_id = 0\n",
    "    for notebook in notebook_info:\n",
    "        notebook_data = process_info_with_record_id(notebook, record_id, 'NOTEBOOK')\n",
    "        notebook_rows.append(notebook_data)\n",
    "        # Increment the record_id and current_id for the next entry\n",
    "        record_id += 1\n",
    "        current_id += 1\n",
    "\n",
    "    # Process DashboardInfo\n",
    "    dashboard_info = downstream.get('dashboardV3Infos', [])\n",
    "    record_id = 0\n",
    "    current_id = 0\n",
    "    for dashboard in dashboard_info:\n",
    "        dashboard_data = process_info_with_record_id(dashboard, record_id, 'DASHBOARD_V3')\n",
    "        dashboard_rows.append(dashboard_data)\n",
    "        record_id += 1\n",
    "        current_id += 1\n",
    "\n",
    "    # Process QueryInfo\n",
    "    query_info = downstream.get('queryInfos', [])\n",
    "    record_id = 0\n",
    "    current_id = 0\n",
    "    for query in query_info:\n",
    "        query_data = process_info_with_record_id(query, record_id, 'DBSQL_QUERY')\n",
    "        query_rows.append(query_data)\n",
    "        record_id += 1\n",
    "        current_id += 1\n",
    "\n",
    "    # Process FileInfo\n",
    "    file_info = downstream.get(\"fileInfo\", [])\n",
    "    record_id = 0\n",
    "    current_id = 0\n",
    "    for file in file_info:\n",
    "        file_data = process_info_with_record_id(file, record_id, 'FILE')\n",
    "        file_rows.append(file_data)\n",
    "        record_id += 1\n",
    "        current_id += 1\n",
    "\n",
    "    # Format all data into a single row (dictionary)\n",
    "    lineage_row = {\n",
    "        \"Type\": \"Downstream\",\n",
    "        \"source_table\": upstream_table_path,\n",
    "        \"table_owner\": fetch_email_by_entra_id(table_owner.collect()[0][\"created_by\"]),\n",
    "        \"upstream_changed_schema_info\": upstream_schema_changed,\n",
    "        \"TablesInfo\": table_rows,\n",
    "        \"PermissionInfo\": permission_rows,\n",
    "        \"GroupInfo\": group_rows,\n",
    "        \"JobInfo\": job_rows,\n",
    "        \"NotebookInfo\": notebook_rows,\n",
    "        \"DashboardInfo\": dashboard_rows,\n",
    "        \"QueryInfo\": query_rows,\n",
    "        \"PipelineInfo\": pipeline_rows,\n",
    "        \"ModelsInfo\": model_rows,\n",
    "        \"FileInfo\": file_rows\n",
    "    }\n",
    "\n",
    "    # Add the formatted row to the list\n",
    "    lineage_rows.append(lineage_row)\n",
    "    # Increment the record_id and current_id for the next entry\n",
    "    record_id += 1\n",
    "    current_id += 1\n",
    "\n",
    "# Convert to DataFrame and display\n",
    "if lineage_rows:\n",
    "    df_lineage = pd.DataFrame(lineage_rows)\n",
    "    display(df_lineage)\n",
    "elif upstream_table_path:\n",
    "     lineage_row = {\n",
    "            \"Type\": \"Downstream\",\n",
    "            \"source_table\": upstream_table_path,\n",
    "            \"table_owner\": fetch_email_by_entra_id(table_owner.collect()[0][\"created_by\"]),\n",
    "            \"upstream_changed_schema_info\": upstream_schema_changed,\n",
    "            \"TablesInfo\": [],  # Empty as no downstreams were processed\n",
    "            \"PermissionInfo\": [],\n",
    "            \"GroupInfo\": [],\n",
    "            \"JobInfo\": [],\n",
    "            \"NotebookInfo\": [],\n",
    "            \"DashboardInfo\": [],\n",
    "            \"QueryInfo\": [],\n",
    "            \"PipelineInfo\": [],\n",
    "            \"ModelsInfo\": [],\n",
    "            \"FileInfo\": []\n",
    "        } \n",
    "     lineage_rows.append(lineage_row)\n",
    "     df_lineage = pd.DataFrame(lineage_rows)\n",
    "     display(df_lineage)   \n",
    "else:\n",
    "    print(\"No lineage data available to display: No downstream entities found\")"
   ]
  },
  {
   "cell_type": "code",
   "execution_count": 0,
   "metadata": {
    "application/vnd.databricks.v1+cell": {
     "cellMetadata": {
      "byteLimit": 2048000,
      "rowLimit": 10000
     },
     "inputWidgets": {},
     "nuid": "ec72c2a7-a822-45de-bbce-c4cac3eadebe",
     "showTitle": false,
     "title": ""
    }
   },
   "outputs": [
    {
     "name": "stdout",
     "output_type": "stream",
     "text": [
      "<class 'pandas.core.frame.DataFrame'>\n"
     ]
    }
   ],
   "source": [
    "print(type(df_lineage))"
   ]
  },
  {
   "cell_type": "code",
   "execution_count": 0,
   "metadata": {
    "application/vnd.databricks.v1+cell": {
     "cellMetadata": {
      "byteLimit": 2048000,
      "rowLimit": 10000
     },
     "inputWidgets": {},
     "nuid": "b9e6f7b1-7e5e-4041-b8c2-70737b0b7281",
     "showTitle": false,
     "title": ""
    }
   },
   "outputs": [
    {
     "data": {
      "text/html": [
       "<style scoped>\n",
       "  .table-result-container {\n",
       "    max-height: 300px;\n",
       "    overflow: auto;\n",
       "  }\n",
       "  table, th, td {\n",
       "    border: 1px solid black;\n",
       "    border-collapse: collapse;\n",
       "  }\n",
       "  th, td {\n",
       "    padding: 5px;\n",
       "  }\n",
       "  th {\n",
       "    text-align: left;\n",
       "  }\n",
       "</style><div class='table-result-container'><table class='table-result'><thead style='background-color: white'><tr><th>Type</th><th>source_table</th><th>table_owner</th><th>upstream_changed_schema_info</th><th>TablesInfo</th><th>PermissionInfo</th><th>GroupInfo</th><th>JobInfo</th><th>NotebookInfo</th><th>DashboardInfo</th><th>QueryInfo</th><th>PipelineInfo</th><th>ModelsInfo</th><th>FileInfo</th></tr></thead><tbody><tr><td>Downstream</td><td>ds_training_1.ds_silver.customer_silver_vishal</td><td>vishal.kokkula@latentview.com</td><td>List(List(ds_training_1, RENAME COLUMN, 2024-10-16T10:06:49.146321, test_column, vishal.kokkula@latentviewo365.onmicrosoft.com, 29, vishal.kokkula@latentviewo365.onmicrosoft.com, 2024-10-16T10:00:25, NA, Pending, null, ds_silver, 10, Inactive, customer_silver_vishal, 12, 2024-10-16T10:00:25), List(ds_training_1, DROP COLUMNS, 2024-10-16T10:06:49.146324, date_of_business, vishal.kokkula@latentviewo365.onmicrosoft.com, 30, vishal.kokkula@latentviewo365.onmicrosoft.com, 2024-10-16T10:02:36, NA, Pending, null, ds_silver, 11, Inactive, customer_silver_vishal, 13, 2024-10-16T10:02:36), List(ds_training_1, ADD COLUMNS, 2024-10-17T11:09:43.824667, ['test_coloumn_vishal'], vishal.kokkula@latentviewo365.onmicrosoft.com, 37, vishal.kokkula@latentviewo365.onmicrosoft.com, 2024-10-17T11:08:43, NA, Pending, {\"customer_id\": \"INT\", \"name\": \"STRING\", \"age\": \"INT\", \"gender\": \"STRING\", \"phone_number\": \"STRING\", \"email\": \"STRING\", \"account_id\": \"INT\", \"account_type\": \"STRING\", \"balance\": \"INT\", \"opened_date\": \"DATE\", \"status\": \"STRING\", \"business_date\": \"STRING\", \"test_column\": \"DATE\", \"test_coloumn_vishal\": \"INT\"}, ds_silver, 13, Inactive, customer_silver_vishal, 18, 2024-10-17T11:08:43), List(ds_training_1, RENAME COLUMN, 2024-10-18T08:31:42.277231, test_column_18_10_24, vishal.kokkula@latentviewo365.onmicrosoft.com, 46, vishal.kokkula@latentviewo365.onmicrosoft.com, 2024-10-18T07:59:35, NA, Pending, {\"customer_id\": \"INT\", \"name\": \"STRING\", \"age\": \"INT\", \"gender\": \"STRING\", \"phone_number\": \"STRING\", \"email\": \"STRING\", \"account_id\": \"INT\", \"account_type\": \"STRING\", \"balance\": \"INT\", \"opened_date\": \"DATE\", \"status\": \"STRING\", \"business_date\": \"STRING\", \"test_column\": \"DATE\", \"test_column_18_10_24\": \"INT\"}, ds_silver, 14, Inactive, customer_silver_vishal, 19, 2024-10-18T07:59:35))</td><td>List(List(List(ds_training_1, vishal.kokkula@latentviewo365.onmicrosoft.com, vishal.kokkula@latentview.com, N/A, 2024-09-22 18:48:26.0, customer_transaction_summary, 0, ds_gold, TABLE)))</td><td>List(List(ALL PRIVILEGES, ds_training_1.ds_gold.customer_transaction_summary, TABLE, danduprolu.stuthi@latentviewo365.onmicrosoft.com, danduprolu.stuthi@latentview.com))</td><td>List(List(ds_training_1.ds_gold.customer_transaction_summary, ALL PRIVILEGES, List(List(List(kudumalauday.kumarreddy@latentview.com, danduprolu.stuthi@latentview.com), 485080529618658, Data Engineer, List(kudumalauday.kumarreddy@latentviewo365.onmicrosoft.com, danduprolu.stuthi@latentviewo365.onmicrosoft.com), 2))), List(ds_training_1.ds_gold.customer_transaction_summary, ALL PRIVILEGES, List(List(List(brindavivek.kotha@latentview.com, danduprolu.stuthi@latentview.com), 823552377244743, sample, List(brindavivek.kotha@latentviewo365.onmicrosoft.com, danduprolu.stuthi@latentviewo365.onmicrosoft.com), 2))), List(ds_training_1, ALL PRIVILEGES, List()))</td><td>List(List(List(vishal.kokkula@latentviewo365.onmicrosoft.com, vishal.kokkula@latentview.com, null, 776564016740257, 2024-09-22 18:48:26.0, 0, 2376768479807879)), List(List(vishal.kokkula@latentviewo365.onmicrosoft.com, vishal.kokkula@latentview.com, null, 539953870834493, 2024-09-20 04:45:51.0, 1, 2376768479807879)), List(List(vishal.kokkula@latentviewo365.onmicrosoft.com, vishal.kokkula@latentview.com, null, 642259009613085, 2024-09-20 04:36:59.0, 2, 2376768479807879)), List(List(vishal.kokkula@latentviewo365.onmicrosoft.com, vishal.kokkula@latentview.com, null, 40710675392154, 2024-09-19 18:39:52.0, 3, 2376768479807879)), List(List(vishal.kokkula@latentviewo365.onmicrosoft.com, vishal.kokkula@latentview.com, null, 158830438318304, 2024-09-19 09:41:27.0, 4, 2376768479807879)), List(List(vishal.kokkula@latentviewo365.onmicrosoft.com, vishal.kokkula@latentview.com, null, 631425637127538, 2024-09-19 06:25:38.0, 5, 2376768479807879)), List(List(vishal.kokkula@latentviewo365.onmicrosoft.com, vishal.kokkula@latentview.com, null, 1090453796940635, 2024-09-19 05:09:16.0, 6, 2376768479807879)), List(List(vishal.kokkula@latentviewo365.onmicrosoft.com, vishal.kokkula@latentview.com, null, 172815366144315, 2024-09-19 05:05:18.0, 7, 2376768479807879)), List(List(vishal.kokkula@latentviewo365.onmicrosoft.com, vishal.kokkula@latentview.com, null, 1054443590945001, 2024-09-16 09:43:50.0, 8, 2376768479807879)))</td><td>List(List(List(vishal.kokkula@latentviewo365.onmicrosoft.com, vishal.kokkula@latentview.com, N/A, 2024-10-23 10:41:35.0, 4438279648331977, 0, 2376768479807879)), List(List(vishal.kokkula@latentviewo365.onmicrosoft.com, vishal.kokkula@latentview.com, N/A, 2024-10-18 07:59:43.0, 3477860330566096, 1, 2376768479807879)), List(List(vishal.kokkula@latentviewo365.onmicrosoft.com, vishal.kokkula@latentview.com, N/A, 2024-10-17 11:08:56.0, 3477860330566379, 2, 2376768479807879)), List(List(vishal.kokkula@latentviewo365.onmicrosoft.com, vishal.kokkula@latentview.com, N/A, 2024-10-16 10:04:18.0, 3852443579535474, 3, 2376768479807879)), List(List(vishal.kokkula@latentviewo365.onmicrosoft.com, vishal.kokkula@latentview.com, N/A, 2024-09-20 04:32:20.0, 673539338302310, 4, 2376768479807879)), List(List(vishal.kokkula@latentviewo365.onmicrosoft.com, vishal.kokkula@latentview.com, N/A, 2024-09-16 10:20:46.0, 673539338303002, 5, 2376768479807879)), List(List(vishal.kokkula@latentviewo365.onmicrosoft.com, vishal.kokkula@latentview.com, N/A, 2024-09-16 10:20:33.0, 673539338301903, 6, 2376768479807879)), List(List(vishal.kokkula@latentviewo365.onmicrosoft.com, vishal.kokkula@latentview.com, N/A, 2024-09-19 05:02:41.0, 3720149794624477, 0, 2376768479807879)), List(List(vishal.kokkula@latentviewo365.onmicrosoft.com, vishal.kokkula@latentview.com, N/A, 2024-09-16 09:02:23.0, 673539338302308, 1, 2376768479807879)))</td><td>List()</td><td>List()</td><td>List()</td><td>List()</td><td>List()</td></tr></tbody></table></div>"
      ]
     },
     "metadata": {
      "application/vnd.databricks.v1+output": {
       "addedWidgets": {},
       "aggData": [],
       "aggError": "",
       "aggOverflow": false,
       "aggSchema": [],
       "aggSeriesLimitReached": false,
       "aggType": "",
       "arguments": {},
       "columnCustomDisplayInfos": {},
       "data": [
        [
         "Downstream",
         "ds_training_1.ds_silver.customer_silver_vishal",
         "vishal.kokkula@latentview.com",
         [
          [
           "ds_training_1",
           "RENAME COLUMN",
           "2024-10-16T10:06:49.146321",
           "test_column",
           "vishal.kokkula@latentviewo365.onmicrosoft.com",
           29,
           "vishal.kokkula@latentviewo365.onmicrosoft.com",
           "2024-10-16T10:00:25",
           "NA",
           "Pending",
           null,
           "ds_silver",
           10,
           "Inactive",
           "customer_silver_vishal",
           12,
           "2024-10-16T10:00:25"
          ],
          [
           "ds_training_1",
           "DROP COLUMNS",
           "2024-10-16T10:06:49.146324",
           "date_of_business",
           "vishal.kokkula@latentviewo365.onmicrosoft.com",
           30,
           "vishal.kokkula@latentviewo365.onmicrosoft.com",
           "2024-10-16T10:02:36",
           "NA",
           "Pending",
           null,
           "ds_silver",
           11,
           "Inactive",
           "customer_silver_vishal",
           13,
           "2024-10-16T10:02:36"
          ],
          [
           "ds_training_1",
           "ADD COLUMNS",
           "2024-10-17T11:09:43.824667",
           "['test_coloumn_vishal']",
           "vishal.kokkula@latentviewo365.onmicrosoft.com",
           37,
           "vishal.kokkula@latentviewo365.onmicrosoft.com",
           "2024-10-17T11:08:43",
           "NA",
           "Pending",
           "{\"customer_id\": \"INT\", \"name\": \"STRING\", \"age\": \"INT\", \"gender\": \"STRING\", \"phone_number\": \"STRING\", \"email\": \"STRING\", \"account_id\": \"INT\", \"account_type\": \"STRING\", \"balance\": \"INT\", \"opened_date\": \"DATE\", \"status\": \"STRING\", \"business_date\": \"STRING\", \"test_column\": \"DATE\", \"test_coloumn_vishal\": \"INT\"}",
           "ds_silver",
           13,
           "Inactive",
           "customer_silver_vishal",
           18,
           "2024-10-17T11:08:43"
          ],
          [
           "ds_training_1",
           "RENAME COLUMN",
           "2024-10-18T08:31:42.277231",
           "test_column_18_10_24",
           "vishal.kokkula@latentviewo365.onmicrosoft.com",
           46,
           "vishal.kokkula@latentviewo365.onmicrosoft.com",
           "2024-10-18T07:59:35",
           "NA",
           "Pending",
           "{\"customer_id\": \"INT\", \"name\": \"STRING\", \"age\": \"INT\", \"gender\": \"STRING\", \"phone_number\": \"STRING\", \"email\": \"STRING\", \"account_id\": \"INT\", \"account_type\": \"STRING\", \"balance\": \"INT\", \"opened_date\": \"DATE\", \"status\": \"STRING\", \"business_date\": \"STRING\", \"test_column\": \"DATE\", \"test_column_18_10_24\": \"INT\"}",
           "ds_silver",
           14,
           "Inactive",
           "customer_silver_vishal",
           19,
           "2024-10-18T07:59:35"
          ]
         ],
         [
          [
           [
            "ds_training_1",
            "vishal.kokkula@latentviewo365.onmicrosoft.com",
            "vishal.kokkula@latentview.com",
            "N/A",
            "2024-09-22 18:48:26.0",
            "customer_transaction_summary",
            0,
            "ds_gold",
            "TABLE"
           ]
          ]
         ],
         [
          [
           "ALL PRIVILEGES",
           "ds_training_1.ds_gold.customer_transaction_summary",
           "TABLE",
           "danduprolu.stuthi@latentviewo365.onmicrosoft.com",
           "danduprolu.stuthi@latentview.com"
          ]
         ],
         [
          [
           "ds_training_1.ds_gold.customer_transaction_summary",
           "ALL PRIVILEGES",
           [
            [
             [
              "kudumalauday.kumarreddy@latentview.com",
              "danduprolu.stuthi@latentview.com"
             ],
             "485080529618658",
             "Data Engineer",
             [
              "kudumalauday.kumarreddy@latentviewo365.onmicrosoft.com",
              "danduprolu.stuthi@latentviewo365.onmicrosoft.com"
             ],
             2
            ]
           ]
          ],
          [
           "ds_training_1.ds_gold.customer_transaction_summary",
           "ALL PRIVILEGES",
           [
            [
             [
              "brindavivek.kotha@latentview.com",
              "danduprolu.stuthi@latentview.com"
             ],
             "823552377244743",
             "sample",
             [
              "brindavivek.kotha@latentviewo365.onmicrosoft.com",
              "danduprolu.stuthi@latentviewo365.onmicrosoft.com"
             ],
             2
            ]
           ]
          ],
          [
           "ds_training_1",
           "ALL PRIVILEGES",
           []
          ]
         ],
         [
          [
           [
            "vishal.kokkula@latentviewo365.onmicrosoft.com",
            "vishal.kokkula@latentview.com",
            null,
            776564016740257,
            "2024-09-22 18:48:26.0",
            0,
            2376768479807879
           ]
          ],
          [
           [
            "vishal.kokkula@latentviewo365.onmicrosoft.com",
            "vishal.kokkula@latentview.com",
            null,
            539953870834493,
            "2024-09-20 04:45:51.0",
            1,
            2376768479807879
           ]
          ],
          [
           [
            "vishal.kokkula@latentviewo365.onmicrosoft.com",
            "vishal.kokkula@latentview.com",
            null,
            642259009613085,
            "2024-09-20 04:36:59.0",
            2,
            2376768479807879
           ]
          ],
          [
           [
            "vishal.kokkula@latentviewo365.onmicrosoft.com",
            "vishal.kokkula@latentview.com",
            null,
            40710675392154,
            "2024-09-19 18:39:52.0",
            3,
            2376768479807879
           ]
          ],
          [
           [
            "vishal.kokkula@latentviewo365.onmicrosoft.com",
            "vishal.kokkula@latentview.com",
            null,
            158830438318304,
            "2024-09-19 09:41:27.0",
            4,
            2376768479807879
           ]
          ],
          [
           [
            "vishal.kokkula@latentviewo365.onmicrosoft.com",
            "vishal.kokkula@latentview.com",
            null,
            631425637127538,
            "2024-09-19 06:25:38.0",
            5,
            2376768479807879
           ]
          ],
          [
           [
            "vishal.kokkula@latentviewo365.onmicrosoft.com",
            "vishal.kokkula@latentview.com",
            null,
            1090453796940635,
            "2024-09-19 05:09:16.0",
            6,
            2376768479807879
           ]
          ],
          [
           [
            "vishal.kokkula@latentviewo365.onmicrosoft.com",
            "vishal.kokkula@latentview.com",
            null,
            172815366144315,
            "2024-09-19 05:05:18.0",
            7,
            2376768479807879
           ]
          ],
          [
           [
            "vishal.kokkula@latentviewo365.onmicrosoft.com",
            "vishal.kokkula@latentview.com",
            null,
            1054443590945001,
            "2024-09-16 09:43:50.0",
            8,
            2376768479807879
           ]
          ]
         ],
         [
          [
           [
            "vishal.kokkula@latentviewo365.onmicrosoft.com",
            "vishal.kokkula@latentview.com",
            "N/A",
            "2024-10-23 10:41:35.0",
            4438279648331977,
            0,
            2376768479807879
           ]
          ],
          [
           [
            "vishal.kokkula@latentviewo365.onmicrosoft.com",
            "vishal.kokkula@latentview.com",
            "N/A",
            "2024-10-18 07:59:43.0",
            3477860330566096,
            1,
            2376768479807879
           ]
          ],
          [
           [
            "vishal.kokkula@latentviewo365.onmicrosoft.com",
            "vishal.kokkula@latentview.com",
            "N/A",
            "2024-10-17 11:08:56.0",
            3477860330566379,
            2,
            2376768479807879
           ]
          ],
          [
           [
            "vishal.kokkula@latentviewo365.onmicrosoft.com",
            "vishal.kokkula@latentview.com",
            "N/A",
            "2024-10-16 10:04:18.0",
            3852443579535474,
            3,
            2376768479807879
           ]
          ],
          [
           [
            "vishal.kokkula@latentviewo365.onmicrosoft.com",
            "vishal.kokkula@latentview.com",
            "N/A",
            "2024-09-20 04:32:20.0",
            673539338302310,
            4,
            2376768479807879
           ]
          ],
          [
           [
            "vishal.kokkula@latentviewo365.onmicrosoft.com",
            "vishal.kokkula@latentview.com",
            "N/A",
            "2024-09-16 10:20:46.0",
            673539338303002,
            5,
            2376768479807879
           ]
          ],
          [
           [
            "vishal.kokkula@latentviewo365.onmicrosoft.com",
            "vishal.kokkula@latentview.com",
            "N/A",
            "2024-09-16 10:20:33.0",
            673539338301903,
            6,
            2376768479807879
           ]
          ],
          [
           [
            "vishal.kokkula@latentviewo365.onmicrosoft.com",
            "vishal.kokkula@latentview.com",
            "N/A",
            "2024-09-19 05:02:41.0",
            3720149794624477,
            0,
            2376768479807879
           ]
          ],
          [
           [
            "vishal.kokkula@latentviewo365.onmicrosoft.com",
            "vishal.kokkula@latentview.com",
            "N/A",
            "2024-09-16 09:02:23.0",
            673539338302308,
            1,
            2376768479807879
           ]
          ]
         ],
         [],
         [],
         [],
         [],
         []
        ]
       ],
       "datasetInfos": [],
       "dbfsResultPath": null,
       "isJsonSchema": true,
       "metadata": {},
       "overflow": false,
       "plotOptions": {
        "customPlotOptions": {},
        "displayType": "table",
        "pivotAggregation": null,
        "pivotColumns": null,
        "xColumns": null,
        "yColumns": null
       },
       "removedWidgets": [],
       "schema": [
        {
         "metadata": "{}",
         "name": "Type",
         "type": "\"string\""
        },
        {
         "metadata": "{}",
         "name": "source_table",
         "type": "\"string\""
        },
        {
         "metadata": "{}",
         "name": "table_owner",
         "type": "\"string\""
        },
        {
         "metadata": "{}",
         "name": "upstream_changed_schema_info",
         "type": "{\"type\":\"array\",\"elementType\":{\"type\":\"struct\",\"fields\":[{\"name\":\"catalog_name\",\"type\":\"string\",\"nullable\":true,\"metadata\":{}},{\"name\":\"change_type\",\"type\":\"string\",\"nullable\":true,\"metadata\":{}},{\"name\":\"check_timestamp\",\"type\":\"string\",\"nullable\":true,\"metadata\":{}},{\"name\":\"column_name\",\"type\":\"string\",\"nullable\":true,\"metadata\":{}},{\"name\":\"created_by\",\"type\":\"string\",\"nullable\":true,\"metadata\":{}},{\"name\":\"id\",\"type\":\"long\",\"nullable\":true,\"metadata\":{}},{\"name\":\"modified_by\",\"type\":\"string\",\"nullable\":true,\"metadata\":{}},{\"name\":\"modified_timestamp\",\"type\":\"string\",\"nullable\":true,\"metadata\":{}},{\"name\":\"rollback_notification_status\",\"type\":\"string\",\"nullable\":true,\"metadata\":{}},{\"name\":\"schema_change_alert_status\",\"type\":\"string\",\"nullable\":true,\"metadata\":{}},{\"name\":\"schema_json\",\"type\":\"string\",\"nullable\":true,\"metadata\":{}},{\"name\":\"schema_name\",\"type\":\"string\",\"nullable\":true,\"metadata\":{}},{\"name\":\"schema_version\",\"type\":\"long\",\"nullable\":true,\"metadata\":{}},{\"name\":\"status\",\"type\":\"string\",\"nullable\":true,\"metadata\":{}},{\"name\":\"table_name\",\"type\":\"string\",\"nullable\":true,\"metadata\":{}},{\"name\":\"table_version\",\"type\":\"long\",\"nullable\":true,\"metadata\":{}},{\"name\":\"table_version_timestamp\",\"type\":\"string\",\"nullable\":true,\"metadata\":{}}]},\"containsNull\":true}"
        },
        {
         "metadata": "{}",
         "name": "TablesInfo",
         "type": "{\"type\":\"array\",\"elementType\":{\"type\":\"array\",\"elementType\":{\"type\":\"struct\",\"fields\":[{\"name\":\"catalog_name\",\"type\":\"string\",\"nullable\":true,\"metadata\":{}},{\"name\":\"created_by\",\"type\":\"string\",\"nullable\":true,\"metadata\":{}},{\"name\":\"created_by_email\",\"type\":\"string\",\"nullable\":true,\"metadata\":{}},{\"name\":\"entity_name\",\"type\":\"string\",\"nullable\":true,\"metadata\":{}},{\"name\":\"lineage_timestamp\",\"type\":\"string\",\"nullable\":true,\"metadata\":{}},{\"name\":\"name\",\"type\":\"string\",\"nullable\":true,\"metadata\":{}},{\"name\":\"record_id\",\"type\":\"long\",\"nullable\":true,\"metadata\":{}},{\"name\":\"schema_name\",\"type\":\"string\",\"nullable\":true,\"metadata\":{}},{\"name\":\"table_type\",\"type\":\"string\",\"nullable\":true,\"metadata\":{}}]},\"containsNull\":true},\"containsNull\":true}"
        },
        {
         "metadata": "{}",
         "name": "PermissionInfo",
         "type": "{\"type\":\"array\",\"elementType\":{\"type\":\"struct\",\"fields\":[{\"name\":\"ActionType\",\"type\":\"string\",\"nullable\":true,\"metadata\":{}},{\"name\":\"ObjectKey\",\"type\":\"string\",\"nullable\":true,\"metadata\":{}},{\"name\":\"ObjectType\",\"type\":\"string\",\"nullable\":true,\"metadata\":{}},{\"name\":\"Principal\",\"type\":\"string\",\"nullable\":true,\"metadata\":{}},{\"name\":\"created_by_email_id\",\"type\":\"string\",\"nullable\":true,\"metadata\":{}}]},\"containsNull\":true}"
        },
        {
         "metadata": "{}",
         "name": "GroupInfo",
         "type": "{\"type\":\"array\",\"elementType\":{\"type\":\"struct\",\"fields\":[{\"name\":\"ObjectKey\",\"type\":\"string\",\"nullable\":true,\"metadata\":{}},{\"name\":\"Previleges\",\"type\":\"string\",\"nullable\":true,\"metadata\":{}},{\"name\":\"group_details\",\"type\":{\"type\":\"array\",\"elementType\":{\"type\":\"struct\",\"fields\":[{\"name\":\"Email IDs\",\"type\":{\"type\":\"array\",\"elementType\":\"string\",\"containsNull\":true},\"nullable\":true,\"metadata\":{}},{\"name\":\"Group ID\",\"type\":\"string\",\"nullable\":true,\"metadata\":{}},{\"name\":\"Group Name\",\"type\":\"string\",\"nullable\":true,\"metadata\":{}},{\"name\":\"Members\",\"type\":{\"type\":\"array\",\"elementType\":\"string\",\"containsNull\":true},\"nullable\":true,\"metadata\":{}},{\"name\":\"Members Count\",\"type\":\"long\",\"nullable\":true,\"metadata\":{}}]},\"containsNull\":true},\"nullable\":true,\"metadata\":{}}]},\"containsNull\":true}"
        },
        {
         "metadata": "{}",
         "name": "JobInfo",
         "type": "{\"type\":\"array\",\"elementType\":{\"type\":\"array\",\"elementType\":{\"type\":\"struct\",\"fields\":[{\"name\":\"created_by\",\"type\":\"string\",\"nullable\":true,\"metadata\":{}},{\"name\":\"created_by_email\",\"type\":\"string\",\"nullable\":true,\"metadata\":{}},{\"name\":\"entity_name\",\"type\":\"void\",\"nullable\":true,\"metadata\":{}},{\"name\":\"job_id\",\"type\":\"long\",\"nullable\":true,\"metadata\":{}},{\"name\":\"lineage_timestamp\",\"type\":\"string\",\"nullable\":true,\"metadata\":{}},{\"name\":\"record_id\",\"type\":\"long\",\"nullable\":true,\"metadata\":{}},{\"name\":\"workspace_id\",\"type\":\"long\",\"nullable\":true,\"metadata\":{}}]},\"containsNull\":true},\"containsNull\":true}"
        },
        {
         "metadata": "{}",
         "name": "NotebookInfo",
         "type": "{\"type\":\"array\",\"elementType\":{\"type\":\"array\",\"elementType\":{\"type\":\"struct\",\"fields\":[{\"name\":\"created_by\",\"type\":\"string\",\"nullable\":true,\"metadata\":{}},{\"name\":\"created_by_email\",\"type\":\"string\",\"nullable\":true,\"metadata\":{}},{\"name\":\"entity_name\",\"type\":\"string\",\"nullable\":true,\"metadata\":{}},{\"name\":\"lineage_timestamp\",\"type\":\"string\",\"nullable\":true,\"metadata\":{}},{\"name\":\"notebook_id\",\"type\":\"long\",\"nullable\":true,\"metadata\":{}},{\"name\":\"record_id\",\"type\":\"long\",\"nullable\":true,\"metadata\":{}},{\"name\":\"workspace_id\",\"type\":\"long\",\"nullable\":true,\"metadata\":{}}]},\"containsNull\":true},\"containsNull\":true}"
        },
        {
         "metadata": "{}",
         "name": "DashboardInfo",
         "type": "{\"type\":\"array\",\"elementType\":\"void\",\"containsNull\":true}"
        },
        {
         "metadata": "{}",
         "name": "QueryInfo",
         "type": "{\"type\":\"array\",\"elementType\":\"void\",\"containsNull\":true}"
        },
        {
         "metadata": "{}",
         "name": "PipelineInfo",
         "type": "{\"type\":\"array\",\"elementType\":\"void\",\"containsNull\":true}"
        },
        {
         "metadata": "{}",
         "name": "ModelsInfo",
         "type": "{\"type\":\"array\",\"elementType\":\"void\",\"containsNull\":true}"
        },
        {
         "metadata": "{}",
         "name": "FileInfo",
         "type": "{\"type\":\"array\",\"elementType\":\"void\",\"containsNull\":true}"
        }
       ],
       "type": "table"
      }
     },
     "output_type": "display_data"
    }
   ],
   "source": [
    "df=df_lineage.iloc[0]\n",
    "df = df.to_frame().T\n",
    "display(df)\n"
   ]
  },
  {
   "cell_type": "code",
   "execution_count": 0,
   "metadata": {
    "application/vnd.databricks.v1+cell": {
     "cellMetadata": {
      "byteLimit": 2048000,
      "rowLimit": 10000
     },
     "inputWidgets": {},
     "nuid": "6c96fe51-c2cd-4ebd-8426-688e937e9098",
     "showTitle": false,
     "title": ""
    }
   },
   "outputs": [
    {
     "data": {
      "text/html": [
       "<style scoped>\n",
       "  .table-result-container {\n",
       "    max-height: 300px;\n",
       "    overflow: auto;\n",
       "  }\n",
       "  table, th, td {\n",
       "    border: 1px solid black;\n",
       "    border-collapse: collapse;\n",
       "  }\n",
       "  th, td {\n",
       "    padding: 5px;\n",
       "  }\n",
       "  th {\n",
       "    text-align: left;\n",
       "  }\n",
       "</style><div class='table-result-container'><table class='table-result'><thead style='background-color: white'><tr><th>Type</th><th>source_table</th><th>table_owner</th><th>upstream_changed_schema_info</th><th>TablesInfo</th><th>PermissionInfo</th><th>GroupInfo</th><th>JobInfo</th><th>NotebookInfo</th><th>DashboardInfo</th><th>QueryInfo</th><th>PipelineInfo</th><th>ModelsInfo</th><th>FileInfo</th></tr></thead><tbody><tr><td>Downstream</td><td>ds_training_1.ds_silver.customer_silver_vishal</td><td>vishal.kokkula@latentview.com</td><td>List(List(ds_training_1, RENAME COLUMN, 2024-10-16T10:06:49.146321, test_column, vishal.kokkula@latentviewo365.onmicrosoft.com, 29, vishal.kokkula@latentviewo365.onmicrosoft.com, 2024-10-16T10:00:25, NA, Pending, null, ds_silver, 10, Inactive, customer_silver_vishal, 12, 2024-10-16T10:00:25), List(ds_training_1, DROP COLUMNS, 2024-10-16T10:06:49.146324, date_of_business, vishal.kokkula@latentviewo365.onmicrosoft.com, 30, vishal.kokkula@latentviewo365.onmicrosoft.com, 2024-10-16T10:02:36, NA, Pending, null, ds_silver, 11, Inactive, customer_silver_vishal, 13, 2024-10-16T10:02:36), List(ds_training_1, ADD COLUMNS, 2024-10-17T11:09:43.824667, ['test_coloumn_vishal'], vishal.kokkula@latentviewo365.onmicrosoft.com, 37, vishal.kokkula@latentviewo365.onmicrosoft.com, 2024-10-17T11:08:43, NA, Pending, {\"customer_id\": \"INT\", \"name\": \"STRING\", \"age\": \"INT\", \"gender\": \"STRING\", \"phone_number\": \"STRING\", \"email\": \"STRING\", \"account_id\": \"INT\", \"account_type\": \"STRING\", \"balance\": \"INT\", \"opened_date\": \"DATE\", \"status\": \"STRING\", \"business_date\": \"STRING\", \"test_column\": \"DATE\", \"test_coloumn_vishal\": \"INT\"}, ds_silver, 13, Inactive, customer_silver_vishal, 18, 2024-10-17T11:08:43), List(ds_training_1, RENAME COLUMN, 2024-10-18T08:31:42.277231, test_column_18_10_24, vishal.kokkula@latentviewo365.onmicrosoft.com, 46, vishal.kokkula@latentviewo365.onmicrosoft.com, 2024-10-18T07:59:35, NA, Pending, {\"customer_id\": \"INT\", \"name\": \"STRING\", \"age\": \"INT\", \"gender\": \"STRING\", \"phone_number\": \"STRING\", \"email\": \"STRING\", \"account_id\": \"INT\", \"account_type\": \"STRING\", \"balance\": \"INT\", \"opened_date\": \"DATE\", \"status\": \"STRING\", \"business_date\": \"STRING\", \"test_column\": \"DATE\", \"test_column_18_10_24\": \"INT\"}, ds_silver, 14, Inactive, customer_silver_vishal, 19, 2024-10-18T07:59:35))</td><td>List(List(List(ds_training_1, vishal.kokkula@latentviewo365.onmicrosoft.com, vishal.kokkula@latentview.com, N/A, 2024-09-22 18:48:26.0, customer_transaction_summary, 0, ds_gold, TABLE)))</td><td>List(List(ALL PRIVILEGES, ds_training_1.ds_gold.customer_transaction_summary, TABLE, danduprolu.stuthi@latentviewo365.onmicrosoft.com, danduprolu.stuthi@latentview.com))</td><td>List(List(ds_training_1.ds_gold.customer_transaction_summary, ALL PRIVILEGES, List(List(List(kudumalauday.kumarreddy@latentview.com, danduprolu.stuthi@latentview.com), 485080529618658, Data Engineer, List(kudumalauday.kumarreddy@latentviewo365.onmicrosoft.com, danduprolu.stuthi@latentviewo365.onmicrosoft.com), 2))), List(ds_training_1.ds_gold.customer_transaction_summary, ALL PRIVILEGES, List(List(List(brindavivek.kotha@latentview.com, danduprolu.stuthi@latentview.com), 823552377244743, sample, List(brindavivek.kotha@latentviewo365.onmicrosoft.com, danduprolu.stuthi@latentviewo365.onmicrosoft.com), 2))), List(ds_training_1, ALL PRIVILEGES, List()))</td><td>List(List(List(vishal.kokkula@latentviewo365.onmicrosoft.com, vishal.kokkula@latentview.com, null, 776564016740257, 2024-09-22 18:48:26.0, 0, 2376768479807879)), List(List(vishal.kokkula@latentviewo365.onmicrosoft.com, vishal.kokkula@latentview.com, null, 539953870834493, 2024-09-20 04:45:51.0, 1, 2376768479807879)), List(List(vishal.kokkula@latentviewo365.onmicrosoft.com, vishal.kokkula@latentview.com, null, 642259009613085, 2024-09-20 04:36:59.0, 2, 2376768479807879)), List(List(vishal.kokkula@latentviewo365.onmicrosoft.com, vishal.kokkula@latentview.com, null, 40710675392154, 2024-09-19 18:39:52.0, 3, 2376768479807879)), List(List(vishal.kokkula@latentviewo365.onmicrosoft.com, vishal.kokkula@latentview.com, null, 158830438318304, 2024-09-19 09:41:27.0, 4, 2376768479807879)), List(List(vishal.kokkula@latentviewo365.onmicrosoft.com, vishal.kokkula@latentview.com, null, 631425637127538, 2024-09-19 06:25:38.0, 5, 2376768479807879)), List(List(vishal.kokkula@latentviewo365.onmicrosoft.com, vishal.kokkula@latentview.com, null, 1090453796940635, 2024-09-19 05:09:16.0, 6, 2376768479807879)), List(List(vishal.kokkula@latentviewo365.onmicrosoft.com, vishal.kokkula@latentview.com, null, 172815366144315, 2024-09-19 05:05:18.0, 7, 2376768479807879)), List(List(vishal.kokkula@latentviewo365.onmicrosoft.com, vishal.kokkula@latentview.com, null, 1054443590945001, 2024-09-16 09:43:50.0, 8, 2376768479807879)))</td><td>List(List(List(vishal.kokkula@latentviewo365.onmicrosoft.com, vishal.kokkula@latentview.com, N/A, 2024-10-23 10:41:35.0, 4438279648331977, 0, 2376768479807879)), List(List(vishal.kokkula@latentviewo365.onmicrosoft.com, vishal.kokkula@latentview.com, N/A, 2024-10-18 07:59:43.0, 3477860330566096, 1, 2376768479807879)), List(List(vishal.kokkula@latentviewo365.onmicrosoft.com, vishal.kokkula@latentview.com, N/A, 2024-10-17 11:08:56.0, 3477860330566379, 2, 2376768479807879)), List(List(vishal.kokkula@latentviewo365.onmicrosoft.com, vishal.kokkula@latentview.com, N/A, 2024-10-16 10:04:18.0, 3852443579535474, 3, 2376768479807879)), List(List(vishal.kokkula@latentviewo365.onmicrosoft.com, vishal.kokkula@latentview.com, N/A, 2024-09-20 04:32:20.0, 673539338302310, 4, 2376768479807879)), List(List(vishal.kokkula@latentviewo365.onmicrosoft.com, vishal.kokkula@latentview.com, N/A, 2024-09-16 10:20:46.0, 673539338303002, 5, 2376768479807879)), List(List(vishal.kokkula@latentviewo365.onmicrosoft.com, vishal.kokkula@latentview.com, N/A, 2024-09-16 10:20:33.0, 673539338301903, 6, 2376768479807879)), List(List(vishal.kokkula@latentviewo365.onmicrosoft.com, vishal.kokkula@latentview.com, N/A, 2024-09-19 05:02:41.0, 3720149794624477, 0, 2376768479807879)), List(List(vishal.kokkula@latentviewo365.onmicrosoft.com, vishal.kokkula@latentview.com, N/A, 2024-09-16 09:02:23.0, 673539338302308, 1, 2376768479807879)))</td><td>List()</td><td>List()</td><td>List()</td><td>List()</td><td>List()</td></tr></tbody></table></div>"
      ]
     },
     "metadata": {
      "application/vnd.databricks.v1+output": {
       "addedWidgets": {},
       "aggData": [],
       "aggError": "",
       "aggOverflow": false,
       "aggSchema": [],
       "aggSeriesLimitReached": false,
       "aggType": "",
       "arguments": {},
       "columnCustomDisplayInfos": {},
       "data": [
        [
         "Downstream",
         "ds_training_1.ds_silver.customer_silver_vishal",
         "vishal.kokkula@latentview.com",
         [
          [
           "ds_training_1",
           "RENAME COLUMN",
           "2024-10-16T10:06:49.146321",
           "test_column",
           "vishal.kokkula@latentviewo365.onmicrosoft.com",
           29,
           "vishal.kokkula@latentviewo365.onmicrosoft.com",
           "2024-10-16T10:00:25",
           "NA",
           "Pending",
           null,
           "ds_silver",
           10,
           "Inactive",
           "customer_silver_vishal",
           12,
           "2024-10-16T10:00:25"
          ],
          [
           "ds_training_1",
           "DROP COLUMNS",
           "2024-10-16T10:06:49.146324",
           "date_of_business",
           "vishal.kokkula@latentviewo365.onmicrosoft.com",
           30,
           "vishal.kokkula@latentviewo365.onmicrosoft.com",
           "2024-10-16T10:02:36",
           "NA",
           "Pending",
           null,
           "ds_silver",
           11,
           "Inactive",
           "customer_silver_vishal",
           13,
           "2024-10-16T10:02:36"
          ],
          [
           "ds_training_1",
           "ADD COLUMNS",
           "2024-10-17T11:09:43.824667",
           "['test_coloumn_vishal']",
           "vishal.kokkula@latentviewo365.onmicrosoft.com",
           37,
           "vishal.kokkula@latentviewo365.onmicrosoft.com",
           "2024-10-17T11:08:43",
           "NA",
           "Pending",
           "{\"customer_id\": \"INT\", \"name\": \"STRING\", \"age\": \"INT\", \"gender\": \"STRING\", \"phone_number\": \"STRING\", \"email\": \"STRING\", \"account_id\": \"INT\", \"account_type\": \"STRING\", \"balance\": \"INT\", \"opened_date\": \"DATE\", \"status\": \"STRING\", \"business_date\": \"STRING\", \"test_column\": \"DATE\", \"test_coloumn_vishal\": \"INT\"}",
           "ds_silver",
           13,
           "Inactive",
           "customer_silver_vishal",
           18,
           "2024-10-17T11:08:43"
          ],
          [
           "ds_training_1",
           "RENAME COLUMN",
           "2024-10-18T08:31:42.277231",
           "test_column_18_10_24",
           "vishal.kokkula@latentviewo365.onmicrosoft.com",
           46,
           "vishal.kokkula@latentviewo365.onmicrosoft.com",
           "2024-10-18T07:59:35",
           "NA",
           "Pending",
           "{\"customer_id\": \"INT\", \"name\": \"STRING\", \"age\": \"INT\", \"gender\": \"STRING\", \"phone_number\": \"STRING\", \"email\": \"STRING\", \"account_id\": \"INT\", \"account_type\": \"STRING\", \"balance\": \"INT\", \"opened_date\": \"DATE\", \"status\": \"STRING\", \"business_date\": \"STRING\", \"test_column\": \"DATE\", \"test_column_18_10_24\": \"INT\"}",
           "ds_silver",
           14,
           "Inactive",
           "customer_silver_vishal",
           19,
           "2024-10-18T07:59:35"
          ]
         ],
         [
          [
           [
            "ds_training_1",
            "vishal.kokkula@latentviewo365.onmicrosoft.com",
            "vishal.kokkula@latentview.com",
            "N/A",
            "2024-09-22 18:48:26.0",
            "customer_transaction_summary",
            0,
            "ds_gold",
            "TABLE"
           ]
          ]
         ],
         [
          [
           "ALL PRIVILEGES",
           "ds_training_1.ds_gold.customer_transaction_summary",
           "TABLE",
           "danduprolu.stuthi@latentviewo365.onmicrosoft.com",
           "danduprolu.stuthi@latentview.com"
          ]
         ],
         [
          [
           "ds_training_1.ds_gold.customer_transaction_summary",
           "ALL PRIVILEGES",
           [
            [
             [
              "kudumalauday.kumarreddy@latentview.com",
              "danduprolu.stuthi@latentview.com"
             ],
             "485080529618658",
             "Data Engineer",
             [
              "kudumalauday.kumarreddy@latentviewo365.onmicrosoft.com",
              "danduprolu.stuthi@latentviewo365.onmicrosoft.com"
             ],
             2
            ]
           ]
          ],
          [
           "ds_training_1.ds_gold.customer_transaction_summary",
           "ALL PRIVILEGES",
           [
            [
             [
              "brindavivek.kotha@latentview.com",
              "danduprolu.stuthi@latentview.com"
             ],
             "823552377244743",
             "sample",
             [
              "brindavivek.kotha@latentviewo365.onmicrosoft.com",
              "danduprolu.stuthi@latentviewo365.onmicrosoft.com"
             ],
             2
            ]
           ]
          ],
          [
           "ds_training_1",
           "ALL PRIVILEGES",
           []
          ]
         ],
         [
          [
           [
            "vishal.kokkula@latentviewo365.onmicrosoft.com",
            "vishal.kokkula@latentview.com",
            null,
            776564016740257,
            "2024-09-22 18:48:26.0",
            0,
            2376768479807879
           ]
          ],
          [
           [
            "vishal.kokkula@latentviewo365.onmicrosoft.com",
            "vishal.kokkula@latentview.com",
            null,
            539953870834493,
            "2024-09-20 04:45:51.0",
            1,
            2376768479807879
           ]
          ],
          [
           [
            "vishal.kokkula@latentviewo365.onmicrosoft.com",
            "vishal.kokkula@latentview.com",
            null,
            642259009613085,
            "2024-09-20 04:36:59.0",
            2,
            2376768479807879
           ]
          ],
          [
           [
            "vishal.kokkula@latentviewo365.onmicrosoft.com",
            "vishal.kokkula@latentview.com",
            null,
            40710675392154,
            "2024-09-19 18:39:52.0",
            3,
            2376768479807879
           ]
          ],
          [
           [
            "vishal.kokkula@latentviewo365.onmicrosoft.com",
            "vishal.kokkula@latentview.com",
            null,
            158830438318304,
            "2024-09-19 09:41:27.0",
            4,
            2376768479807879
           ]
          ],
          [
           [
            "vishal.kokkula@latentviewo365.onmicrosoft.com",
            "vishal.kokkula@latentview.com",
            null,
            631425637127538,
            "2024-09-19 06:25:38.0",
            5,
            2376768479807879
           ]
          ],
          [
           [
            "vishal.kokkula@latentviewo365.onmicrosoft.com",
            "vishal.kokkula@latentview.com",
            null,
            1090453796940635,
            "2024-09-19 05:09:16.0",
            6,
            2376768479807879
           ]
          ],
          [
           [
            "vishal.kokkula@latentviewo365.onmicrosoft.com",
            "vishal.kokkula@latentview.com",
            null,
            172815366144315,
            "2024-09-19 05:05:18.0",
            7,
            2376768479807879
           ]
          ],
          [
           [
            "vishal.kokkula@latentviewo365.onmicrosoft.com",
            "vishal.kokkula@latentview.com",
            null,
            1054443590945001,
            "2024-09-16 09:43:50.0",
            8,
            2376768479807879
           ]
          ]
         ],
         [
          [
           [
            "vishal.kokkula@latentviewo365.onmicrosoft.com",
            "vishal.kokkula@latentview.com",
            "N/A",
            "2024-10-23 10:41:35.0",
            4438279648331977,
            0,
            2376768479807879
           ]
          ],
          [
           [
            "vishal.kokkula@latentviewo365.onmicrosoft.com",
            "vishal.kokkula@latentview.com",
            "N/A",
            "2024-10-18 07:59:43.0",
            3477860330566096,
            1,
            2376768479807879
           ]
          ],
          [
           [
            "vishal.kokkula@latentviewo365.onmicrosoft.com",
            "vishal.kokkula@latentview.com",
            "N/A",
            "2024-10-17 11:08:56.0",
            3477860330566379,
            2,
            2376768479807879
           ]
          ],
          [
           [
            "vishal.kokkula@latentviewo365.onmicrosoft.com",
            "vishal.kokkula@latentview.com",
            "N/A",
            "2024-10-16 10:04:18.0",
            3852443579535474,
            3,
            2376768479807879
           ]
          ],
          [
           [
            "vishal.kokkula@latentviewo365.onmicrosoft.com",
            "vishal.kokkula@latentview.com",
            "N/A",
            "2024-09-20 04:32:20.0",
            673539338302310,
            4,
            2376768479807879
           ]
          ],
          [
           [
            "vishal.kokkula@latentviewo365.onmicrosoft.com",
            "vishal.kokkula@latentview.com",
            "N/A",
            "2024-09-16 10:20:46.0",
            673539338303002,
            5,
            2376768479807879
           ]
          ],
          [
           [
            "vishal.kokkula@latentviewo365.onmicrosoft.com",
            "vishal.kokkula@latentview.com",
            "N/A",
            "2024-09-16 10:20:33.0",
            673539338301903,
            6,
            2376768479807879
           ]
          ],
          [
           [
            "vishal.kokkula@latentviewo365.onmicrosoft.com",
            "vishal.kokkula@latentview.com",
            "N/A",
            "2024-09-19 05:02:41.0",
            3720149794624477,
            0,
            2376768479807879
           ]
          ],
          [
           [
            "vishal.kokkula@latentviewo365.onmicrosoft.com",
            "vishal.kokkula@latentview.com",
            "N/A",
            "2024-09-16 09:02:23.0",
            673539338302308,
            1,
            2376768479807879
           ]
          ]
         ],
         [],
         [],
         [],
         [],
         []
        ]
       ],
       "datasetInfos": [],
       "dbfsResultPath": null,
       "isJsonSchema": true,
       "metadata": {},
       "overflow": false,
       "plotOptions": {
        "customPlotOptions": {},
        "displayType": "table",
        "pivotAggregation": null,
        "pivotColumns": null,
        "xColumns": null,
        "yColumns": null
       },
       "removedWidgets": [],
       "schema": [
        {
         "metadata": "{}",
         "name": "Type",
         "type": "\"string\""
        },
        {
         "metadata": "{}",
         "name": "source_table",
         "type": "\"string\""
        },
        {
         "metadata": "{}",
         "name": "table_owner",
         "type": "\"string\""
        },
        {
         "metadata": "{}",
         "name": "upstream_changed_schema_info",
         "type": "{\"type\":\"array\",\"elementType\":{\"type\":\"struct\",\"fields\":[{\"name\":\"catalog_name\",\"type\":\"string\",\"nullable\":true,\"metadata\":{}},{\"name\":\"change_type\",\"type\":\"string\",\"nullable\":true,\"metadata\":{}},{\"name\":\"check_timestamp\",\"type\":\"string\",\"nullable\":true,\"metadata\":{}},{\"name\":\"column_name\",\"type\":\"string\",\"nullable\":true,\"metadata\":{}},{\"name\":\"created_by\",\"type\":\"string\",\"nullable\":true,\"metadata\":{}},{\"name\":\"id\",\"type\":\"long\",\"nullable\":true,\"metadata\":{}},{\"name\":\"modified_by\",\"type\":\"string\",\"nullable\":true,\"metadata\":{}},{\"name\":\"modified_timestamp\",\"type\":\"string\",\"nullable\":true,\"metadata\":{}},{\"name\":\"rollback_notification_status\",\"type\":\"string\",\"nullable\":true,\"metadata\":{}},{\"name\":\"schema_change_alert_status\",\"type\":\"string\",\"nullable\":true,\"metadata\":{}},{\"name\":\"schema_json\",\"type\":\"string\",\"nullable\":true,\"metadata\":{}},{\"name\":\"schema_name\",\"type\":\"string\",\"nullable\":true,\"metadata\":{}},{\"name\":\"schema_version\",\"type\":\"long\",\"nullable\":true,\"metadata\":{}},{\"name\":\"status\",\"type\":\"string\",\"nullable\":true,\"metadata\":{}},{\"name\":\"table_name\",\"type\":\"string\",\"nullable\":true,\"metadata\":{}},{\"name\":\"table_version\",\"type\":\"long\",\"nullable\":true,\"metadata\":{}},{\"name\":\"table_version_timestamp\",\"type\":\"string\",\"nullable\":true,\"metadata\":{}}]},\"containsNull\":true}"
        },
        {
         "metadata": "{}",
         "name": "TablesInfo",
         "type": "{\"type\":\"array\",\"elementType\":{\"type\":\"array\",\"elementType\":{\"type\":\"struct\",\"fields\":[{\"name\":\"catalog_name\",\"type\":\"string\",\"nullable\":true,\"metadata\":{}},{\"name\":\"created_by\",\"type\":\"string\",\"nullable\":true,\"metadata\":{}},{\"name\":\"created_by_email\",\"type\":\"string\",\"nullable\":true,\"metadata\":{}},{\"name\":\"entity_name\",\"type\":\"string\",\"nullable\":true,\"metadata\":{}},{\"name\":\"lineage_timestamp\",\"type\":\"string\",\"nullable\":true,\"metadata\":{}},{\"name\":\"name\",\"type\":\"string\",\"nullable\":true,\"metadata\":{}},{\"name\":\"record_id\",\"type\":\"long\",\"nullable\":true,\"metadata\":{}},{\"name\":\"schema_name\",\"type\":\"string\",\"nullable\":true,\"metadata\":{}},{\"name\":\"table_type\",\"type\":\"string\",\"nullable\":true,\"metadata\":{}}]},\"containsNull\":true},\"containsNull\":true}"
        },
        {
         "metadata": "{}",
         "name": "PermissionInfo",
         "type": "{\"type\":\"array\",\"elementType\":{\"type\":\"struct\",\"fields\":[{\"name\":\"ActionType\",\"type\":\"string\",\"nullable\":true,\"metadata\":{}},{\"name\":\"ObjectKey\",\"type\":\"string\",\"nullable\":true,\"metadata\":{}},{\"name\":\"ObjectType\",\"type\":\"string\",\"nullable\":true,\"metadata\":{}},{\"name\":\"Principal\",\"type\":\"string\",\"nullable\":true,\"metadata\":{}},{\"name\":\"created_by_email_id\",\"type\":\"string\",\"nullable\":true,\"metadata\":{}}]},\"containsNull\":true}"
        },
        {
         "metadata": "{}",
         "name": "GroupInfo",
         "type": "{\"type\":\"array\",\"elementType\":{\"type\":\"struct\",\"fields\":[{\"name\":\"ObjectKey\",\"type\":\"string\",\"nullable\":true,\"metadata\":{}},{\"name\":\"Previleges\",\"type\":\"string\",\"nullable\":true,\"metadata\":{}},{\"name\":\"group_details\",\"type\":{\"type\":\"array\",\"elementType\":{\"type\":\"struct\",\"fields\":[{\"name\":\"Email IDs\",\"type\":{\"type\":\"array\",\"elementType\":\"string\",\"containsNull\":true},\"nullable\":true,\"metadata\":{}},{\"name\":\"Group ID\",\"type\":\"string\",\"nullable\":true,\"metadata\":{}},{\"name\":\"Group Name\",\"type\":\"string\",\"nullable\":true,\"metadata\":{}},{\"name\":\"Members\",\"type\":{\"type\":\"array\",\"elementType\":\"string\",\"containsNull\":true},\"nullable\":true,\"metadata\":{}},{\"name\":\"Members Count\",\"type\":\"long\",\"nullable\":true,\"metadata\":{}}]},\"containsNull\":true},\"nullable\":true,\"metadata\":{}}]},\"containsNull\":true}"
        },
        {
         "metadata": "{}",
         "name": "JobInfo",
         "type": "{\"type\":\"array\",\"elementType\":{\"type\":\"array\",\"elementType\":{\"type\":\"struct\",\"fields\":[{\"name\":\"created_by\",\"type\":\"string\",\"nullable\":true,\"metadata\":{}},{\"name\":\"created_by_email\",\"type\":\"string\",\"nullable\":true,\"metadata\":{}},{\"name\":\"entity_name\",\"type\":\"void\",\"nullable\":true,\"metadata\":{}},{\"name\":\"job_id\",\"type\":\"long\",\"nullable\":true,\"metadata\":{}},{\"name\":\"lineage_timestamp\",\"type\":\"string\",\"nullable\":true,\"metadata\":{}},{\"name\":\"record_id\",\"type\":\"long\",\"nullable\":true,\"metadata\":{}},{\"name\":\"workspace_id\",\"type\":\"long\",\"nullable\":true,\"metadata\":{}}]},\"containsNull\":true},\"containsNull\":true}"
        },
        {
         "metadata": "{}",
         "name": "NotebookInfo",
         "type": "{\"type\":\"array\",\"elementType\":{\"type\":\"array\",\"elementType\":{\"type\":\"struct\",\"fields\":[{\"name\":\"created_by\",\"type\":\"string\",\"nullable\":true,\"metadata\":{}},{\"name\":\"created_by_email\",\"type\":\"string\",\"nullable\":true,\"metadata\":{}},{\"name\":\"entity_name\",\"type\":\"string\",\"nullable\":true,\"metadata\":{}},{\"name\":\"lineage_timestamp\",\"type\":\"string\",\"nullable\":true,\"metadata\":{}},{\"name\":\"notebook_id\",\"type\":\"long\",\"nullable\":true,\"metadata\":{}},{\"name\":\"record_id\",\"type\":\"long\",\"nullable\":true,\"metadata\":{}},{\"name\":\"workspace_id\",\"type\":\"long\",\"nullable\":true,\"metadata\":{}}]},\"containsNull\":true},\"containsNull\":true}"
        },
        {
         "metadata": "{}",
         "name": "DashboardInfo",
         "type": "{\"type\":\"array\",\"elementType\":\"void\",\"containsNull\":true}"
        },
        {
         "metadata": "{}",
         "name": "QueryInfo",
         "type": "{\"type\":\"array\",\"elementType\":\"void\",\"containsNull\":true}"
        },
        {
         "metadata": "{}",
         "name": "PipelineInfo",
         "type": "{\"type\":\"array\",\"elementType\":\"void\",\"containsNull\":true}"
        },
        {
         "metadata": "{}",
         "name": "ModelsInfo",
         "type": "{\"type\":\"array\",\"elementType\":\"void\",\"containsNull\":true}"
        },
        {
         "metadata": "{}",
         "name": "FileInfo",
         "type": "{\"type\":\"array\",\"elementType\":\"void\",\"containsNull\":true}"
        }
       ],
       "type": "table"
      }
     },
     "output_type": "display_data"
    }
   ],
   "source": [
    "# Remove duplicate columns\n",
    "df = df.loc[:, ~df.columns.duplicated()]\n",
    "display(df)"
   ]
  },
  {
   "cell_type": "code",
   "execution_count": 0,
   "metadata": {
    "application/vnd.databricks.v1+cell": {
     "cellMetadata": {
      "byteLimit": 2048000,
      "rowLimit": 10000
     },
     "inputWidgets": {},
     "nuid": "75ffe925-d26c-47e9-a921-01d0abfe1d76",
     "showTitle": false,
     "title": ""
    }
   },
   "outputs": [
    {
     "name": "stdout",
     "output_type": "stream",
     "text": [
      "<class 'list'>\n"
     ]
    }
   ],
   "source": [
    "#checking the type of the sample column\n",
    "print(type(df.at[0, 'GroupInfo']))"
   ]
  },
  {
   "cell_type": "code",
   "execution_count": 0,
   "metadata": {
    "application/vnd.databricks.v1+cell": {
     "cellMetadata": {
      "byteLimit": 2048000,
      "rowLimit": 10000
     },
     "inputWidgets": {},
     "nuid": "864a0807-086a-4660-bdb5-810fe0c7aad9",
     "showTitle": false,
     "title": ""
    }
   },
   "outputs": [
    {
     "data": {
      "text/html": [
       "<style scoped>\n",
       "  .table-result-container {\n",
       "    max-height: 300px;\n",
       "    overflow: auto;\n",
       "  }\n",
       "  table, th, td {\n",
       "    border: 1px solid black;\n",
       "    border-collapse: collapse;\n",
       "  }\n",
       "  th, td {\n",
       "    padding: 5px;\n",
       "  }\n",
       "  th {\n",
       "    text-align: left;\n",
       "  }\n",
       "</style><div class='table-result-container'><table class='table-result'><thead style='background-color: white'><tr><th>Type</th><th>source_table</th><th>table_owner</th><th>upstream_changed_schema_info</th><th>TablesInfo</th><th>PermissionInfo</th><th>GroupInfo</th><th>JobInfo</th><th>NotebookInfo</th><th>DashboardInfo</th><th>QueryInfo</th><th>PipelineInfo</th><th>ModelsInfo</th><th>FileInfo</th></tr></thead><tbody><tr><td>Downstream</td><td>ds_training_1.ds_silver.customer_silver_vishal</td><td>vishal.kokkula@latentview.com</td><td>[{\"id\": 29, \"catalog_name\": \"ds_training_1\", \"schema_name\": \"ds_silver\", \"table_name\": \"customer_silver_vishal\", \"schema_version\": 10, \"created_by\": \"vishal.kokkula@latentviewo365.onmicrosoft.com\", \"modified_by\": \"vishal.kokkula@latentviewo365.onmicrosoft.com\", \"modified_timestamp\": \"2024-10-16T10:00:25\", \"schema_json\": null, \"change_type\": \"RENAME COLUMN\", \"column_name\": \"test_column\", \"table_version\": 12, \"table_version_timestamp\": \"2024-10-16T10:00:25\", \"status\": \"Inactive\", \"check_timestamp\": \"2024-10-16T10:06:49.146321\", \"schema_change_alert_status\": \"Pending\", \"rollback_notification_status\": \"NA\"}, {\"id\": 30, \"catalog_name\": \"ds_training_1\", \"schema_name\": \"ds_silver\", \"table_name\": \"customer_silver_vishal\", \"schema_version\": 11, \"created_by\": \"vishal.kokkula@latentviewo365.onmicrosoft.com\", \"modified_by\": \"vishal.kokkula@latentviewo365.onmicrosoft.com\", \"modified_timestamp\": \"2024-10-16T10:02:36\", \"schema_json\": null, \"change_type\": \"DROP COLUMNS\", \"column_name\": \"date_of_business\", \"table_version\": 13, \"table_version_timestamp\": \"2024-10-16T10:02:36\", \"status\": \"Inactive\", \"check_timestamp\": \"2024-10-16T10:06:49.146324\", \"schema_change_alert_status\": \"Pending\", \"rollback_notification_status\": \"NA\"}, {\"id\": 37, \"catalog_name\": \"ds_training_1\", \"schema_name\": \"ds_silver\", \"table_name\": \"customer_silver_vishal\", \"schema_version\": 13, \"created_by\": \"vishal.kokkula@latentviewo365.onmicrosoft.com\", \"modified_by\": \"vishal.kokkula@latentviewo365.onmicrosoft.com\", \"modified_timestamp\": \"2024-10-17T11:08:43\", \"schema_json\": \"{\\\"customer_id\\\": \\\"INT\\\", \\\"name\\\": \\\"STRING\\\", \\\"age\\\": \\\"INT\\\", \\\"gender\\\": \\\"STRING\\\", \\\"phone_number\\\": \\\"STRING\\\", \\\"email\\\": \\\"STRING\\\", \\\"account_id\\\": \\\"INT\\\", \\\"account_type\\\": \\\"STRING\\\", \\\"balance\\\": \\\"INT\\\", \\\"opened_date\\\": \\\"DATE\\\", \\\"status\\\": \\\"STRING\\\", \\\"business_date\\\": \\\"STRING\\\", \\\"test_column\\\": \\\"DATE\\\", \\\"test_coloumn_vishal\\\": \\\"INT\\\"}\", \"change_type\": \"ADD COLUMNS\", \"column_name\": \"['test_coloumn_vishal']\", \"table_version\": 18, \"table_version_timestamp\": \"2024-10-17T11:08:43\", \"status\": \"Inactive\", \"check_timestamp\": \"2024-10-17T11:09:43.824667\", \"schema_change_alert_status\": \"Pending\", \"rollback_notification_status\": \"NA\"}, {\"id\": 46, \"catalog_name\": \"ds_training_1\", \"schema_name\": \"ds_silver\", \"table_name\": \"customer_silver_vishal\", \"schema_version\": 14, \"created_by\": \"vishal.kokkula@latentviewo365.onmicrosoft.com\", \"modified_by\": \"vishal.kokkula@latentviewo365.onmicrosoft.com\", \"modified_timestamp\": \"2024-10-18T07:59:35\", \"schema_json\": \"{\\\"customer_id\\\": \\\"INT\\\", \\\"name\\\": \\\"STRING\\\", \\\"age\\\": \\\"INT\\\", \\\"gender\\\": \\\"STRING\\\", \\\"phone_number\\\": \\\"STRING\\\", \\\"email\\\": \\\"STRING\\\", \\\"account_id\\\": \\\"INT\\\", \\\"account_type\\\": \\\"STRING\\\", \\\"balance\\\": \\\"INT\\\", \\\"opened_date\\\": \\\"DATE\\\", \\\"status\\\": \\\"STRING\\\", \\\"business_date\\\": \\\"STRING\\\", \\\"test_column\\\": \\\"DATE\\\", \\\"test_column_18_10_24\\\": \\\"INT\\\"}\", \"change_type\": \"RENAME COLUMN\", \"column_name\": \"test_column_18_10_24\", \"table_version\": 19, \"table_version_timestamp\": \"2024-10-18T07:59:35\", \"status\": \"Inactive\", \"check_timestamp\": \"2024-10-18T08:31:42.277231\", \"schema_change_alert_status\": \"Pending\", \"rollback_notification_status\": \"NA\"}]</td><td>[[{\"name\": \"customer_transaction_summary\", \"catalog_name\": \"ds_training_1\", \"schema_name\": \"ds_gold\", \"table_type\": \"TABLE\", \"lineage_timestamp\": \"2024-09-22 18:48:26.0\", \"created_by\": \"vishal.kokkula@latentviewo365.onmicrosoft.com\", \"created_by_email\": \"vishal.kokkula@latentview.com\", \"entity_name\": \"N/A\", \"record_id\": 0}]]</td><td>[{\"Principal\": \"danduprolu.stuthi@latentviewo365.onmicrosoft.com\", \"ActionType\": \"ALL PRIVILEGES\", \"ObjectType\": \"TABLE\", \"ObjectKey\": \"ds_training_1.ds_gold.customer_transaction_summary\", \"created_by_email_id\": \"danduprolu.stuthi@latentview.com\"}]</td><td>[{\"Previleges\": \"ALL PRIVILEGES\", \"ObjectKey\": \"ds_training_1.ds_gold.customer_transaction_summary\", \"group_details\": [{\"Group ID\": \"485080529618658\", \"Group Name\": \"Data Engineer\", \"Members Count\": 2, \"Members\": [\"kudumalauday.kumarreddy@latentviewo365.onmicrosoft.com\", \"danduprolu.stuthi@latentviewo365.onmicrosoft.com\"], \"Email IDs\": [\"kudumalauday.kumarreddy@latentview.com\", \"danduprolu.stuthi@latentview.com\"]}]}, {\"Previleges\": \"ALL PRIVILEGES\", \"ObjectKey\": \"ds_training_1.ds_gold.customer_transaction_summary\", \"group_details\": [{\"Group ID\": \"823552377244743\", \"Group Name\": \"sample\", \"Members Count\": 2, \"Members\": [\"brindavivek.kotha@latentviewo365.onmicrosoft.com\", \"danduprolu.stuthi@latentviewo365.onmicrosoft.com\"], \"Email IDs\": [\"brindavivek.kotha@latentview.com\", \"danduprolu.stuthi@latentview.com\"]}]}, {\"Previleges\": \"ALL PRIVILEGES\", \"ObjectKey\": \"ds_training_1\", \"group_details\": []}]</td><td>[[{\"workspace_id\": 2376768479807879, \"job_id\": 776564016740257, \"lineage_timestamp\": \"2024-09-22 18:48:26.0\", \"created_by\": \"vishal.kokkula@latentviewo365.onmicrosoft.com\", \"created_by_email\": \"vishal.kokkula@latentview.com\", \"entity_name\": null, \"record_id\": 0}], [{\"workspace_id\": 2376768479807879, \"job_id\": 539953870834493, \"lineage_timestamp\": \"2024-09-20 04:45:51.0\", \"created_by\": \"vishal.kokkula@latentviewo365.onmicrosoft.com\", \"created_by_email\": \"vishal.kokkula@latentview.com\", \"entity_name\": null, \"record_id\": 1}], [{\"workspace_id\": 2376768479807879, \"job_id\": 642259009613085, \"lineage_timestamp\": \"2024-09-20 04:36:59.0\", \"created_by\": \"vishal.kokkula@latentviewo365.onmicrosoft.com\", \"created_by_email\": \"vishal.kokkula@latentview.com\", \"entity_name\": null, \"record_id\": 2}], [{\"workspace_id\": 2376768479807879, \"job_id\": 40710675392154, \"lineage_timestamp\": \"2024-09-19 18:39:52.0\", \"created_by\": \"vishal.kokkula@latentviewo365.onmicrosoft.com\", \"created_by_email\": \"vishal.kokkula@latentview.com\", \"entity_name\": null, \"record_id\": 3}], [{\"workspace_id\": 2376768479807879, \"job_id\": 158830438318304, \"lineage_timestamp\": \"2024-09-19 09:41:27.0\", \"created_by\": \"vishal.kokkula@latentviewo365.onmicrosoft.com\", \"created_by_email\": \"vishal.kokkula@latentview.com\", \"entity_name\": null, \"record_id\": 4}], [{\"workspace_id\": 2376768479807879, \"job_id\": 631425637127538, \"lineage_timestamp\": \"2024-09-19 06:25:38.0\", \"created_by\": \"vishal.kokkula@latentviewo365.onmicrosoft.com\", \"created_by_email\": \"vishal.kokkula@latentview.com\", \"entity_name\": null, \"record_id\": 5}], [{\"workspace_id\": 2376768479807879, \"job_id\": 1090453796940635, \"lineage_timestamp\": \"2024-09-19 05:09:16.0\", \"created_by\": \"vishal.kokkula@latentviewo365.onmicrosoft.com\", \"created_by_email\": \"vishal.kokkula@latentview.com\", \"entity_name\": null, \"record_id\": 6}], [{\"workspace_id\": 2376768479807879, \"job_id\": 172815366144315, \"lineage_timestamp\": \"2024-09-19 05:05:18.0\", \"created_by\": \"vishal.kokkula@latentviewo365.onmicrosoft.com\", \"created_by_email\": \"vishal.kokkula@latentview.com\", \"entity_name\": null, \"record_id\": 7}], [{\"workspace_id\": 2376768479807879, \"job_id\": 1054443590945001, \"lineage_timestamp\": \"2024-09-16 09:43:50.0\", \"created_by\": \"vishal.kokkula@latentviewo365.onmicrosoft.com\", \"created_by_email\": \"vishal.kokkula@latentview.com\", \"entity_name\": null, \"record_id\": 8}]]</td><td>[[{\"workspace_id\": 2376768479807879, \"notebook_id\": 4438279648331977, \"lineage_timestamp\": \"2024-10-23 10:41:35.0\", \"created_by\": \"vishal.kokkula@latentviewo365.onmicrosoft.com\", \"created_by_email\": \"vishal.kokkula@latentview.com\", \"entity_name\": \"N/A\", \"record_id\": 0}], [{\"workspace_id\": 2376768479807879, \"notebook_id\": 3477860330566096, \"lineage_timestamp\": \"2024-10-18 07:59:43.0\", \"created_by\": \"vishal.kokkula@latentviewo365.onmicrosoft.com\", \"created_by_email\": \"vishal.kokkula@latentview.com\", \"entity_name\": \"N/A\", \"record_id\": 1}], [{\"workspace_id\": 2376768479807879, \"notebook_id\": 3477860330566379, \"lineage_timestamp\": \"2024-10-17 11:08:56.0\", \"created_by\": \"vishal.kokkula@latentviewo365.onmicrosoft.com\", \"created_by_email\": \"vishal.kokkula@latentview.com\", \"entity_name\": \"N/A\", \"record_id\": 2}], [{\"workspace_id\": 2376768479807879, \"notebook_id\": 3852443579535474, \"lineage_timestamp\": \"2024-10-16 10:04:18.0\", \"created_by\": \"vishal.kokkula@latentviewo365.onmicrosoft.com\", \"created_by_email\": \"vishal.kokkula@latentview.com\", \"entity_name\": \"N/A\", \"record_id\": 3}], [{\"workspace_id\": 2376768479807879, \"notebook_id\": 673539338302310, \"lineage_timestamp\": \"2024-09-20 04:32:20.0\", \"created_by\": \"vishal.kokkula@latentviewo365.onmicrosoft.com\", \"created_by_email\": \"vishal.kokkula@latentview.com\", \"entity_name\": \"N/A\", \"record_id\": 4}], [{\"workspace_id\": 2376768479807879, \"notebook_id\": 673539338303002, \"lineage_timestamp\": \"2024-09-16 10:20:46.0\", \"created_by\": \"vishal.kokkula@latentviewo365.onmicrosoft.com\", \"created_by_email\": \"vishal.kokkula@latentview.com\", \"entity_name\": \"N/A\", \"record_id\": 5}], [{\"workspace_id\": 2376768479807879, \"notebook_id\": 673539338301903, \"lineage_timestamp\": \"2024-09-16 10:20:33.0\", \"created_by\": \"vishal.kokkula@latentviewo365.onmicrosoft.com\", \"created_by_email\": \"vishal.kokkula@latentview.com\", \"entity_name\": \"N/A\", \"record_id\": 6}], [{\"workspace_id\": 2376768479807879, \"notebook_id\": 3720149794624477, \"lineage_timestamp\": \"2024-09-19 05:02:41.0\", \"created_by\": \"vishal.kokkula@latentviewo365.onmicrosoft.com\", \"created_by_email\": \"vishal.kokkula@latentview.com\", \"entity_name\": \"N/A\", \"record_id\": 0}], [{\"workspace_id\": 2376768479807879, \"notebook_id\": 673539338302308, \"lineage_timestamp\": \"2024-09-16 09:02:23.0\", \"created_by\": \"vishal.kokkula@latentviewo365.onmicrosoft.com\", \"created_by_email\": \"vishal.kokkula@latentview.com\", \"entity_name\": \"N/A\", \"record_id\": 1}]]</td><td>[]</td><td>[]</td><td>[]</td><td>[]</td><td>[]</td></tr></tbody></table></div>"
      ]
     },
     "metadata": {
      "application/vnd.databricks.v1+output": {
       "addedWidgets": {},
       "aggData": [],
       "aggError": "",
       "aggOverflow": false,
       "aggSchema": [],
       "aggSeriesLimitReached": false,
       "aggType": "",
       "arguments": {},
       "columnCustomDisplayInfos": {},
       "data": [
        [
         "Downstream",
         "ds_training_1.ds_silver.customer_silver_vishal",
         "vishal.kokkula@latentview.com",
         "[{\"id\": 29, \"catalog_name\": \"ds_training_1\", \"schema_name\": \"ds_silver\", \"table_name\": \"customer_silver_vishal\", \"schema_version\": 10, \"created_by\": \"vishal.kokkula@latentviewo365.onmicrosoft.com\", \"modified_by\": \"vishal.kokkula@latentviewo365.onmicrosoft.com\", \"modified_timestamp\": \"2024-10-16T10:00:25\", \"schema_json\": null, \"change_type\": \"RENAME COLUMN\", \"column_name\": \"test_column\", \"table_version\": 12, \"table_version_timestamp\": \"2024-10-16T10:00:25\", \"status\": \"Inactive\", \"check_timestamp\": \"2024-10-16T10:06:49.146321\", \"schema_change_alert_status\": \"Pending\", \"rollback_notification_status\": \"NA\"}, {\"id\": 30, \"catalog_name\": \"ds_training_1\", \"schema_name\": \"ds_silver\", \"table_name\": \"customer_silver_vishal\", \"schema_version\": 11, \"created_by\": \"vishal.kokkula@latentviewo365.onmicrosoft.com\", \"modified_by\": \"vishal.kokkula@latentviewo365.onmicrosoft.com\", \"modified_timestamp\": \"2024-10-16T10:02:36\", \"schema_json\": null, \"change_type\": \"DROP COLUMNS\", \"column_name\": \"date_of_business\", \"table_version\": 13, \"table_version_timestamp\": \"2024-10-16T10:02:36\", \"status\": \"Inactive\", \"check_timestamp\": \"2024-10-16T10:06:49.146324\", \"schema_change_alert_status\": \"Pending\", \"rollback_notification_status\": \"NA\"}, {\"id\": 37, \"catalog_name\": \"ds_training_1\", \"schema_name\": \"ds_silver\", \"table_name\": \"customer_silver_vishal\", \"schema_version\": 13, \"created_by\": \"vishal.kokkula@latentviewo365.onmicrosoft.com\", \"modified_by\": \"vishal.kokkula@latentviewo365.onmicrosoft.com\", \"modified_timestamp\": \"2024-10-17T11:08:43\", \"schema_json\": \"{\\\"customer_id\\\": \\\"INT\\\", \\\"name\\\": \\\"STRING\\\", \\\"age\\\": \\\"INT\\\", \\\"gender\\\": \\\"STRING\\\", \\\"phone_number\\\": \\\"STRING\\\", \\\"email\\\": \\\"STRING\\\", \\\"account_id\\\": \\\"INT\\\", \\\"account_type\\\": \\\"STRING\\\", \\\"balance\\\": \\\"INT\\\", \\\"opened_date\\\": \\\"DATE\\\", \\\"status\\\": \\\"STRING\\\", \\\"business_date\\\": \\\"STRING\\\", \\\"test_column\\\": \\\"DATE\\\", \\\"test_coloumn_vishal\\\": \\\"INT\\\"}\", \"change_type\": \"ADD COLUMNS\", \"column_name\": \"['test_coloumn_vishal']\", \"table_version\": 18, \"table_version_timestamp\": \"2024-10-17T11:08:43\", \"status\": \"Inactive\", \"check_timestamp\": \"2024-10-17T11:09:43.824667\", \"schema_change_alert_status\": \"Pending\", \"rollback_notification_status\": \"NA\"}, {\"id\": 46, \"catalog_name\": \"ds_training_1\", \"schema_name\": \"ds_silver\", \"table_name\": \"customer_silver_vishal\", \"schema_version\": 14, \"created_by\": \"vishal.kokkula@latentviewo365.onmicrosoft.com\", \"modified_by\": \"vishal.kokkula@latentviewo365.onmicrosoft.com\", \"modified_timestamp\": \"2024-10-18T07:59:35\", \"schema_json\": \"{\\\"customer_id\\\": \\\"INT\\\", \\\"name\\\": \\\"STRING\\\", \\\"age\\\": \\\"INT\\\", \\\"gender\\\": \\\"STRING\\\", \\\"phone_number\\\": \\\"STRING\\\", \\\"email\\\": \\\"STRING\\\", \\\"account_id\\\": \\\"INT\\\", \\\"account_type\\\": \\\"STRING\\\", \\\"balance\\\": \\\"INT\\\", \\\"opened_date\\\": \\\"DATE\\\", \\\"status\\\": \\\"STRING\\\", \\\"business_date\\\": \\\"STRING\\\", \\\"test_column\\\": \\\"DATE\\\", \\\"test_column_18_10_24\\\": \\\"INT\\\"}\", \"change_type\": \"RENAME COLUMN\", \"column_name\": \"test_column_18_10_24\", \"table_version\": 19, \"table_version_timestamp\": \"2024-10-18T07:59:35\", \"status\": \"Inactive\", \"check_timestamp\": \"2024-10-18T08:31:42.277231\", \"schema_change_alert_status\": \"Pending\", \"rollback_notification_status\": \"NA\"}]",
         "[[{\"name\": \"customer_transaction_summary\", \"catalog_name\": \"ds_training_1\", \"schema_name\": \"ds_gold\", \"table_type\": \"TABLE\", \"lineage_timestamp\": \"2024-09-22 18:48:26.0\", \"created_by\": \"vishal.kokkula@latentviewo365.onmicrosoft.com\", \"created_by_email\": \"vishal.kokkula@latentview.com\", \"entity_name\": \"N/A\", \"record_id\": 0}]]",
         "[{\"Principal\": \"danduprolu.stuthi@latentviewo365.onmicrosoft.com\", \"ActionType\": \"ALL PRIVILEGES\", \"ObjectType\": \"TABLE\", \"ObjectKey\": \"ds_training_1.ds_gold.customer_transaction_summary\", \"created_by_email_id\": \"danduprolu.stuthi@latentview.com\"}]",
         "[{\"Previleges\": \"ALL PRIVILEGES\", \"ObjectKey\": \"ds_training_1.ds_gold.customer_transaction_summary\", \"group_details\": [{\"Group ID\": \"485080529618658\", \"Group Name\": \"Data Engineer\", \"Members Count\": 2, \"Members\": [\"kudumalauday.kumarreddy@latentviewo365.onmicrosoft.com\", \"danduprolu.stuthi@latentviewo365.onmicrosoft.com\"], \"Email IDs\": [\"kudumalauday.kumarreddy@latentview.com\", \"danduprolu.stuthi@latentview.com\"]}]}, {\"Previleges\": \"ALL PRIVILEGES\", \"ObjectKey\": \"ds_training_1.ds_gold.customer_transaction_summary\", \"group_details\": [{\"Group ID\": \"823552377244743\", \"Group Name\": \"sample\", \"Members Count\": 2, \"Members\": [\"brindavivek.kotha@latentviewo365.onmicrosoft.com\", \"danduprolu.stuthi@latentviewo365.onmicrosoft.com\"], \"Email IDs\": [\"brindavivek.kotha@latentview.com\", \"danduprolu.stuthi@latentview.com\"]}]}, {\"Previleges\": \"ALL PRIVILEGES\", \"ObjectKey\": \"ds_training_1\", \"group_details\": []}]",
         "[[{\"workspace_id\": 2376768479807879, \"job_id\": 776564016740257, \"lineage_timestamp\": \"2024-09-22 18:48:26.0\", \"created_by\": \"vishal.kokkula@latentviewo365.onmicrosoft.com\", \"created_by_email\": \"vishal.kokkula@latentview.com\", \"entity_name\": null, \"record_id\": 0}], [{\"workspace_id\": 2376768479807879, \"job_id\": 539953870834493, \"lineage_timestamp\": \"2024-09-20 04:45:51.0\", \"created_by\": \"vishal.kokkula@latentviewo365.onmicrosoft.com\", \"created_by_email\": \"vishal.kokkula@latentview.com\", \"entity_name\": null, \"record_id\": 1}], [{\"workspace_id\": 2376768479807879, \"job_id\": 642259009613085, \"lineage_timestamp\": \"2024-09-20 04:36:59.0\", \"created_by\": \"vishal.kokkula@latentviewo365.onmicrosoft.com\", \"created_by_email\": \"vishal.kokkula@latentview.com\", \"entity_name\": null, \"record_id\": 2}], [{\"workspace_id\": 2376768479807879, \"job_id\": 40710675392154, \"lineage_timestamp\": \"2024-09-19 18:39:52.0\", \"created_by\": \"vishal.kokkula@latentviewo365.onmicrosoft.com\", \"created_by_email\": \"vishal.kokkula@latentview.com\", \"entity_name\": null, \"record_id\": 3}], [{\"workspace_id\": 2376768479807879, \"job_id\": 158830438318304, \"lineage_timestamp\": \"2024-09-19 09:41:27.0\", \"created_by\": \"vishal.kokkula@latentviewo365.onmicrosoft.com\", \"created_by_email\": \"vishal.kokkula@latentview.com\", \"entity_name\": null, \"record_id\": 4}], [{\"workspace_id\": 2376768479807879, \"job_id\": 631425637127538, \"lineage_timestamp\": \"2024-09-19 06:25:38.0\", \"created_by\": \"vishal.kokkula@latentviewo365.onmicrosoft.com\", \"created_by_email\": \"vishal.kokkula@latentview.com\", \"entity_name\": null, \"record_id\": 5}], [{\"workspace_id\": 2376768479807879, \"job_id\": 1090453796940635, \"lineage_timestamp\": \"2024-09-19 05:09:16.0\", \"created_by\": \"vishal.kokkula@latentviewo365.onmicrosoft.com\", \"created_by_email\": \"vishal.kokkula@latentview.com\", \"entity_name\": null, \"record_id\": 6}], [{\"workspace_id\": 2376768479807879, \"job_id\": 172815366144315, \"lineage_timestamp\": \"2024-09-19 05:05:18.0\", \"created_by\": \"vishal.kokkula@latentviewo365.onmicrosoft.com\", \"created_by_email\": \"vishal.kokkula@latentview.com\", \"entity_name\": null, \"record_id\": 7}], [{\"workspace_id\": 2376768479807879, \"job_id\": 1054443590945001, \"lineage_timestamp\": \"2024-09-16 09:43:50.0\", \"created_by\": \"vishal.kokkula@latentviewo365.onmicrosoft.com\", \"created_by_email\": \"vishal.kokkula@latentview.com\", \"entity_name\": null, \"record_id\": 8}]]",
         "[[{\"workspace_id\": 2376768479807879, \"notebook_id\": 4438279648331977, \"lineage_timestamp\": \"2024-10-23 10:41:35.0\", \"created_by\": \"vishal.kokkula@latentviewo365.onmicrosoft.com\", \"created_by_email\": \"vishal.kokkula@latentview.com\", \"entity_name\": \"N/A\", \"record_id\": 0}], [{\"workspace_id\": 2376768479807879, \"notebook_id\": 3477860330566096, \"lineage_timestamp\": \"2024-10-18 07:59:43.0\", \"created_by\": \"vishal.kokkula@latentviewo365.onmicrosoft.com\", \"created_by_email\": \"vishal.kokkula@latentview.com\", \"entity_name\": \"N/A\", \"record_id\": 1}], [{\"workspace_id\": 2376768479807879, \"notebook_id\": 3477860330566379, \"lineage_timestamp\": \"2024-10-17 11:08:56.0\", \"created_by\": \"vishal.kokkula@latentviewo365.onmicrosoft.com\", \"created_by_email\": \"vishal.kokkula@latentview.com\", \"entity_name\": \"N/A\", \"record_id\": 2}], [{\"workspace_id\": 2376768479807879, \"notebook_id\": 3852443579535474, \"lineage_timestamp\": \"2024-10-16 10:04:18.0\", \"created_by\": \"vishal.kokkula@latentviewo365.onmicrosoft.com\", \"created_by_email\": \"vishal.kokkula@latentview.com\", \"entity_name\": \"N/A\", \"record_id\": 3}], [{\"workspace_id\": 2376768479807879, \"notebook_id\": 673539338302310, \"lineage_timestamp\": \"2024-09-20 04:32:20.0\", \"created_by\": \"vishal.kokkula@latentviewo365.onmicrosoft.com\", \"created_by_email\": \"vishal.kokkula@latentview.com\", \"entity_name\": \"N/A\", \"record_id\": 4}], [{\"workspace_id\": 2376768479807879, \"notebook_id\": 673539338303002, \"lineage_timestamp\": \"2024-09-16 10:20:46.0\", \"created_by\": \"vishal.kokkula@latentviewo365.onmicrosoft.com\", \"created_by_email\": \"vishal.kokkula@latentview.com\", \"entity_name\": \"N/A\", \"record_id\": 5}], [{\"workspace_id\": 2376768479807879, \"notebook_id\": 673539338301903, \"lineage_timestamp\": \"2024-09-16 10:20:33.0\", \"created_by\": \"vishal.kokkula@latentviewo365.onmicrosoft.com\", \"created_by_email\": \"vishal.kokkula@latentview.com\", \"entity_name\": \"N/A\", \"record_id\": 6}], [{\"workspace_id\": 2376768479807879, \"notebook_id\": 3720149794624477, \"lineage_timestamp\": \"2024-09-19 05:02:41.0\", \"created_by\": \"vishal.kokkula@latentviewo365.onmicrosoft.com\", \"created_by_email\": \"vishal.kokkula@latentview.com\", \"entity_name\": \"N/A\", \"record_id\": 0}], [{\"workspace_id\": 2376768479807879, \"notebook_id\": 673539338302308, \"lineage_timestamp\": \"2024-09-16 09:02:23.0\", \"created_by\": \"vishal.kokkula@latentviewo365.onmicrosoft.com\", \"created_by_email\": \"vishal.kokkula@latentview.com\", \"entity_name\": \"N/A\", \"record_id\": 1}]]",
         "[]",
         "[]",
         "[]",
         "[]",
         "[]"
        ]
       ],
       "datasetInfos": [],
       "dbfsResultPath": null,
       "isJsonSchema": true,
       "metadata": {},
       "overflow": false,
       "plotOptions": {
        "customPlotOptions": {},
        "displayType": "table",
        "pivotAggregation": null,
        "pivotColumns": null,
        "xColumns": null,
        "yColumns": null
       },
       "removedWidgets": [],
       "schema": [
        {
         "metadata": "{}",
         "name": "Type",
         "type": "\"string\""
        },
        {
         "metadata": "{}",
         "name": "source_table",
         "type": "\"string\""
        },
        {
         "metadata": "{}",
         "name": "table_owner",
         "type": "\"string\""
        },
        {
         "metadata": "{}",
         "name": "upstream_changed_schema_info",
         "type": "\"string\""
        },
        {
         "metadata": "{}",
         "name": "TablesInfo",
         "type": "\"string\""
        },
        {
         "metadata": "{}",
         "name": "PermissionInfo",
         "type": "\"string\""
        },
        {
         "metadata": "{}",
         "name": "GroupInfo",
         "type": "\"string\""
        },
        {
         "metadata": "{}",
         "name": "JobInfo",
         "type": "\"string\""
        },
        {
         "metadata": "{}",
         "name": "NotebookInfo",
         "type": "\"string\""
        },
        {
         "metadata": "{}",
         "name": "DashboardInfo",
         "type": "\"string\""
        },
        {
         "metadata": "{}",
         "name": "QueryInfo",
         "type": "\"string\""
        },
        {
         "metadata": "{}",
         "name": "PipelineInfo",
         "type": "\"string\""
        },
        {
         "metadata": "{}",
         "name": "ModelsInfo",
         "type": "\"string\""
        },
        {
         "metadata": "{}",
         "name": "FileInfo",
         "type": "\"string\""
        }
       ],
       "type": "table"
      }
     },
     "output_type": "display_data"
    }
   ],
   "source": [
    "import pandas as pd\n",
    "import json\n",
    "\n",
    "# Create the DataFrame\n",
    "df_lineage = pd.DataFrame(df)\n",
    "\n",
    "# Function to convert complex nested structures to JSON strings\n",
    "def convert_to_json(value):\n",
    "    return json.dumps(value) if isinstance(value, (list, dict)) else value\n",
    "\n",
    "# Apply the conversion function to all required columns\n",
    "columns_to_convert = ['upstream_changed_schema_info', 'TablesInfo', 'PermissionInfo', 'GroupInfo','JobInfo','NotebookInfo','DashboardInfo','QueryInfo','PipelineInfo','ModelsInfo','FileInfo']\n",
    "\n",
    "for col in columns_to_convert:\n",
    "    df_lineage[col] = df_lineage[col].apply(convert_to_json)\n",
    "\n",
    "# Display the converted DataFrame\n",
    "display(df_lineage)\n"
   ]
  },
  {
   "cell_type": "code",
   "execution_count": 0,
   "metadata": {
    "application/vnd.databricks.v1+cell": {
     "cellMetadata": {
      "byteLimit": 2048000,
      "rowLimit": 10000
     },
     "inputWidgets": {},
     "nuid": "fd8ba3db-6d75-4c76-8070-39f70beb2924",
     "showTitle": false,
     "title": ""
    }
   },
   "outputs": [
    {
     "name": "stdout",
     "output_type": "stream",
     "text": [
      "ds_training_1.ds_silver.customer_silver_vishal\n"
     ]
    }
   ],
   "source": [
    "print(df_lineage['source_table'][0])"
   ]
  },
  {
   "cell_type": "code",
   "execution_count": 0,
   "metadata": {
    "application/vnd.databricks.v1+cell": {
     "cellMetadata": {
      "byteLimit": 2048000,
      "rowLimit": 10000
     },
     "inputWidgets": {},
     "nuid": "ae065142-7a38-470f-a465-98c398059c96",
     "showTitle": false,
     "title": ""
    }
   },
   "outputs": [],
   "source": [
    "# Convert Pandas DataFrame to Spark DataFrame\n",
    "df_spark = spark.createDataFrame(df_lineage)\n",
    "\n",
    "# Rename columns to make them unique\n",
    "df = df.rename(columns=lambda x: f\"{x}_{df.columns.tolist().count(x)}\" if df.columns.tolist().count(x) > 1 else x)\n",
    "\n",
    "# Convert to Spark DataFrame\n",
    "df_spark = spark.createDataFrame(df)\n",
    "\n",
    "# Write the Spark DataFrame to the Delta table\n",
    "df_spark.write.format(\"delta\").mode(\"append\").saveAsTable(\"ds_training_1.default.downstream_audit\")\n"
   ]
  },
  {
   "cell_type": "code",
   "execution_count": 0,
   "metadata": {
    "application/vnd.databricks.v1+cell": {
     "cellMetadata": {
      "byteLimit": 2048000,
      "rowLimit": 10000
     },
     "inputWidgets": {},
     "nuid": "27cb2365-85a3-4769-a0f1-9e6fbce267bf",
     "showTitle": false,
     "title": ""
    }
   },
   "outputs": [],
   "source": [
    "id = spark.sql(f\"\"\"\n",
    "    SELECT ID \n",
    "    FROM ds_training_1.default.downstream_audit\n",
    "    order by ID desc\n",
    "    limit 1\n",
    "\"\"\")"
   ]
  },
  {
   "cell_type": "code",
   "execution_count": 0,
   "metadata": {
    "application/vnd.databricks.v1+cell": {
     "cellMetadata": {
      "byteLimit": 2048000,
      "rowLimit": 10000
     },
     "inputWidgets": {},
     "nuid": "44ffb919-b3f8-4123-b2ee-deee493f963b",
     "showTitle": false,
     "title": ""
    }
   },
   "outputs": [
    {
     "name": "stdout",
     "output_type": "stream",
     "text": [
      "<class 'pyspark.sql.connect.dataframe.DataFrame'>\n"
     ]
    }
   ],
   "source": [
    "print(type(id))"
   ]
  },
  {
   "cell_type": "code",
   "execution_count": 0,
   "metadata": {
    "application/vnd.databricks.v1+cell": {
     "cellMetadata": {
      "byteLimit": 2048000,
      "rowLimit": 10000
     },
     "inputWidgets": {},
     "nuid": "ceb0e845-2145-452b-904c-440fb17a5ed3",
     "showTitle": false,
     "title": ""
    }
   },
   "outputs": [
    {
     "name": "stdout",
     "output_type": "stream",
     "text": [
      "12\n",
      "<class 'int'>\n"
     ]
    }
   ],
   "source": [
    "id=id.collect()[0][0]\n",
    "print(id)\n",
    "print(type(id))"
   ]
  },
  {
   "cell_type": "code",
   "execution_count": 0,
   "metadata": {
    "application/vnd.databricks.v1+cell": {
     "cellMetadata": {
      "byteLimit": 2048000,
      "rowLimit": 10000
     },
     "inputWidgets": {},
     "nuid": "5dc95778-03e2-4914-bc2c-430f1a750ca9",
     "showTitle": false,
     "title": ""
    }
   },
   "outputs": [
    {
     "name": "stdout",
     "output_type": "stream",
     "text": [
      "Calling email alert notebook\n",
      "Email alert notebook executed successfully.\n"
     ]
    }
   ],
   "source": [
    "try:\n",
    "    print(\"Calling email alert notebook\")\n",
    "    # Setting a timeout value (e.g., 300 seconds)\n",
    "    audit_notebook_result = dbutils.notebook.run(\n",
    "        \"Email_alert\", timeout_seconds=300, arguments={\"id\": str(id)}\n",
    "    )\n",
    "    print(\"Email alert notebook executed successfully.\")\n",
    "except Exception as e:\n",
    "    print(f\"Email alert notebook failed: {e}\")\n",
    "\n",
    "    "
   ]
  }
 ],
 "metadata": {
  "application/vnd.databricks.v1+notebook": {
   "dashboards": [],
   "environmentMetadata": null,
   "language": "python",
   "notebookMetadata": {
    "pythonIndentUnit": 4
   },
   "notebookName": "downstream_audit",
   "widgets": {
    "catalog_name": {
     "currentValue": "ds_training_1",
     "nuid": "c4d6e582-42c7-4eea-8c8b-001013ea0a9a",
     "typedWidgetInfo": {
      "autoCreated": false,
      "defaultValue": "",
      "label": null,
      "name": "catalog_name",
      "options": {
       "validationRegex": null,
       "widgetDisplayType": "Text"
      },
      "parameterDataType": "String"
     },
     "widgetInfo": {
      "defaultValue": "",
      "label": null,
      "name": "catalog_name",
      "options": {
       "autoCreated": null,
       "validationRegex": null,
       "widgetType": "text"
      },
      "widgetType": "text"
     }
    },
    "schema_name": {
     "currentValue": "ds_silver",
     "nuid": "5e9fc0ad-74a4-44f2-a4ae-a5a5afdd2f5a",
     "typedWidgetInfo": {
      "autoCreated": false,
      "defaultValue": "",
      "label": null,
      "name": "schema_name",
      "options": {
       "validationRegex": null,
       "widgetDisplayType": "Text"
      },
      "parameterDataType": "String"
     },
     "widgetInfo": {
      "defaultValue": "",
      "label": null,
      "name": "schema_name",
      "options": {
       "autoCreated": null,
       "validationRegex": null,
       "widgetType": "text"
      },
      "widgetType": "text"
     }
    },
    "table_name": {
     "currentValue": "customer_silver_vishal",
     "nuid": "673117cb-435b-4488-8632-290c9a6bab60",
     "typedWidgetInfo": {
      "autoCreated": false,
      "defaultValue": "",
      "label": null,
      "name": "table_name",
      "options": {
       "validationRegex": null,
       "widgetDisplayType": "Text"
      },
      "parameterDataType": "String"
     },
     "widgetInfo": {
      "defaultValue": "",
      "label": null,
      "name": "table_name",
      "options": {
       "autoCreated": null,
       "validationRegex": null,
       "widgetType": "text"
      },
      "widgetType": "text"
     }
    }
   }
  },
  "language_info": {
   "name": "python"
  }
 },
 "nbformat": 4,
 "nbformat_minor": 0
}
