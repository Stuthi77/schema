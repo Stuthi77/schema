{
 "cells": [
  {
   "cell_type": "code",
   "execution_count": 0,
   "metadata": {
    "application/vnd.databricks.v1+cell": {
     "cellMetadata": {
      "byteLimit": 2048000,
      "rowLimit": 10000
     },
     "inputWidgets": {},
     "nuid": "54427f26-8be8-4bf0-8f01-7185909f9d71",
     "showTitle": false,
     "title": ""
    }
   },
   "outputs": [
    {
     "output_type": "display_data",
     "data": {
      "text/html": [
       "<style scoped>\n",
       "  .table-result-container {\n",
       "    max-height: 300px;\n",
       "    overflow: auto;\n",
       "  }\n",
       "  table, th, td {\n",
       "    border: 1px solid black;\n",
       "    border-collapse: collapse;\n",
       "  }\n",
       "  th, td {\n",
       "    padding: 5px;\n",
       "  }\n",
       "  th {\n",
       "    text-align: left;\n",
       "  }\n",
       "</style><div class='table-result-container'><table class='table-result'><thead style='background-color: white'><tr><th>ID</th><th>Type</th><th>source_table</th><th>table_owner</th><th>upstream_changed_schema_info</th><th>TablesInfo</th><th>PermissionInfo</th><th>GroupInfo</th><th>JobInfo</th><th>NotebookInfo</th><th>DashboardInfo</th><th>QueryInfo</th><th>PipelineInfo</th><th>ModelsInfo</th><th>FileInfo</th></tr></thead><tbody><tr><td>7</td><td>Downstream</td><td>ds_training_1.ds_silver.customer_silver_vishal</td><td>vishal.kokkula@latentview.com</td><td>[{\"id\": 31, \"catalog_name\": \"ds_training_1\", \"schema_name\": \"ds_silver\", \"table_name\": \"customer_silver_vishal\", \"schema_version\": 12, \"created_by\": \"vishal.kokkula@latentviewo365.onmicrosoft.com\", \"modified_by\": \"vishal.kokkula@latentviewo365.onmicrosoft.com\", \"modified_timestamp\": \"2024-10-16T09:59:19\", \"schema_json\": \"{\\\"customer_id\\\": \\\"INT\\\", \\\"name\\\": \\\"STRING\\\", \\\"age\\\": \\\"INT\\\", \\\"gender\\\": \\\"STRING\\\", \\\"phone_number\\\": \\\"STRING\\\", \\\"email\\\": \\\"STRING\\\", \\\"account_id\\\": \\\"INT\\\", \\\"account_type\\\": \\\"STRING\\\", \\\"balance\\\": \\\"INT\\\", \\\"opened_date\\\": \\\"DATE\\\", \\\"status\\\": \\\"STRING\\\", \\\"business_date\\\": \\\"STRING\\\", \\\"test_column\\\": \\\"DATE\\\"}\", \"change_type\": \"DATA TYPE CHANGE\", \"column_name\": \"test_column\", \"table_version\": 14, \"table_version_timestamp\": \"2024-10-16T10:03:24\", \"status\": \"Inactive\", \"check_timestamp\": \"2024-10-16T10:06:49.150455\", \"schema_change_alert_status\": \"Pending\", \"rollback_notification_status\": \"NA\"}, {\"id\": 26, \"catalog_name\": \"ds_training_1\", \"schema_name\": \"ds_silver\", \"table_name\": \"customer_silver_vishal\", \"schema_version\": 7, \"created_by\": \"vishal.kokkula@latentviewo365.onmicrosoft.com\", \"modified_by\": \"vishal.kokkula@latentviewo365.onmicrosoft.com\", \"modified_timestamp\": \"2024-10-16T09:59:19\", \"schema_json\": null, \"change_type\": \"ADD COLUMNS\", \"column_name\": \"['test_column_latest']\", \"table_version\": 9, \"table_version_timestamp\": \"2024-10-16T09:59:19\", \"status\": \"Inactive\", \"check_timestamp\": \"2024-10-16T10:06:49.146306\", \"schema_change_alert_status\": \"Pending\", \"rollback_notification_status\": \"NA\"}, {\"id\": 27, \"catalog_name\": \"ds_training_1\", \"schema_name\": \"ds_silver\", \"table_name\": \"customer_silver_vishal\", \"schema_version\": 8, \"created_by\": \"vishal.kokkula@latentviewo365.onmicrosoft.com\", \"modified_by\": \"vishal.kokkula@latentviewo365.onmicrosoft.com\", \"modified_timestamp\": \"2024-10-16T09:59:32\", \"schema_json\": null, \"change_type\": \"UPDATE\", \"column_name\": \"['test_column_latest2']\", \"table_version\": 10, \"table_version_timestamp\": \"2024-10-16T09:59:32\", \"status\": \"Inactive\", \"check_timestamp\": \"2024-10-16T10:06:49.146315\", \"schema_change_alert_status\": \"Pending\", \"rollback_notification_status\": \"NA\"}, {\"id\": 28, \"catalog_name\": \"ds_training_1\", \"schema_name\": \"ds_silver\", \"table_name\": \"customer_silver_vishal\", \"schema_version\": 9, \"created_by\": \"vishal.kokkula@latentviewo365.onmicrosoft.com\", \"modified_by\": \"vishal.kokkula@latentviewo365.onmicrosoft.com\", \"modified_timestamp\": \"2024-10-16T09:59:40\", \"schema_json\": null, \"change_type\": \"DROP COLUMNS\", \"column_name\": \"test_column\", \"table_version\": 11, \"table_version_timestamp\": \"2024-10-16T09:59:40\", \"status\": \"Inactive\", \"check_timestamp\": \"2024-10-16T10:06:49.146319\", \"schema_change_alert_status\": \"Pending\", \"rollback_notification_status\": \"NA\"}]</td><td>[[{\"name\": \"customer_transaction_summary\", \"catalog_name\": \"ds_training_1\", \"schema_name\": \"ds_gold\", \"table_type\": \"TABLE\", \"lineage_timestamp\": \"2024-09-22 18:48:26.0\", \"created_by\": \"vishal.kokkula@latentviewo365.onmicrosoft.com\", \"created_by_email\": \"vishal.kokkula@latentview.com\", \"entity_name\": \"N/A\", \"record_id\": 0}]]</td><td>[{\"Principal\": \"danduprolu.stuthi@latentviewo365.onmicrosoft.com\", \"ActionType\": \"ALL PRIVILEGES\", \"ObjectType\": \"TABLE\", \"ObjectKey\": \"ds_training_1.ds_gold.customer_transaction_summary\", \"created_by_email_id\": \"danduprolu.stuthi@latentview.com\"}]</td><td>[{\"Previleges\": \"ALL PRIVILEGES\", \"ObjectKey\": \"ds_training_1.ds_gold.customer_transaction_summary\", \"group_details\": [{\"Group ID\": \"485080529618658\", \"Group Name\": \"Data Engineer\", \"Members Count\": 2, \"Members\": [\"kudumalauday.kumarreddy@latentviewo365.onmicrosoft.com\", \"danduprolu.stuthi@latentviewo365.onmicrosoft.com\"], \"Email IDs\": [\"kudumalauday.kumarreddy@latentview.com\", \"danduprolu.stuthi@latentview.com\"]}]}, {\"Previleges\": \"ALL PRIVILEGES\", \"ObjectKey\": \"ds_training_1.ds_gold.customer_transaction_summary\", \"group_details\": [{\"Group ID\": \"823552377244743\", \"Group Name\": \"sample\", \"Members Count\": 2, \"Members\": [\"brindavivek.kotha@latentviewo365.onmicrosoft.com\", \"danduprolu.stuthi@latentviewo365.onmicrosoft.com\"], \"Email IDs\": [\"brindavivek.kotha@latentview.com\", \"danduprolu.stuthi@latentview.com\"]}]}, {\"Previleges\": \"ALL PRIVILEGES\", \"ObjectKey\": \"ds_training_1\", \"group_details\": []}]</td><td>[[{\"workspace_id\": 2376768479807879, \"job_id\": 776564016740257, \"lineage_timestamp\": \"2024-09-22 18:48:26.0\", \"created_by\": \"vishal.kokkula@latentviewo365.onmicrosoft.com\", \"created_by_email\": \"vishal.kokkula@latentview.com\", \"entity_name\": null, \"record_id\": 0}], [{\"workspace_id\": 2376768479807879, \"job_id\": 539953870834493, \"lineage_timestamp\": \"2024-09-20 04:45:51.0\", \"created_by\": \"vishal.kokkula@latentviewo365.onmicrosoft.com\", \"created_by_email\": \"vishal.kokkula@latentview.com\", \"entity_name\": null, \"record_id\": 1}], [{\"workspace_id\": 2376768479807879, \"job_id\": 642259009613085, \"lineage_timestamp\": \"2024-09-20 04:36:59.0\", \"created_by\": \"vishal.kokkula@latentviewo365.onmicrosoft.com\", \"created_by_email\": \"vishal.kokkula@latentview.com\", \"entity_name\": null, \"record_id\": 2}], [{\"workspace_id\": 2376768479807879, \"job_id\": 40710675392154, \"lineage_timestamp\": \"2024-09-19 18:39:52.0\", \"created_by\": \"vishal.kokkula@latentviewo365.onmicrosoft.com\", \"created_by_email\": \"vishal.kokkula@latentview.com\", \"entity_name\": null, \"record_id\": 3}], [{\"workspace_id\": 2376768479807879, \"job_id\": 158830438318304, \"lineage_timestamp\": \"2024-09-19 09:41:27.0\", \"created_by\": \"vishal.kokkula@latentviewo365.onmicrosoft.com\", \"created_by_email\": \"vishal.kokkula@latentview.com\", \"entity_name\": null, \"record_id\": 4}], [{\"workspace_id\": 2376768479807879, \"job_id\": 631425637127538, \"lineage_timestamp\": \"2024-09-19 06:25:38.0\", \"created_by\": \"vishal.kokkula@latentviewo365.onmicrosoft.com\", \"created_by_email\": \"vishal.kokkula@latentview.com\", \"entity_name\": null, \"record_id\": 5}], [{\"workspace_id\": 2376768479807879, \"job_id\": 1090453796940635, \"lineage_timestamp\": \"2024-09-19 05:09:16.0\", \"created_by\": \"vishal.kokkula@latentviewo365.onmicrosoft.com\", \"created_by_email\": \"vishal.kokkula@latentview.com\", \"entity_name\": null, \"record_id\": 6}], [{\"workspace_id\": 2376768479807879, \"job_id\": 172815366144315, \"lineage_timestamp\": \"2024-09-19 05:05:18.0\", \"created_by\": \"vishal.kokkula@latentviewo365.onmicrosoft.com\", \"created_by_email\": \"vishal.kokkula@latentview.com\", \"entity_name\": null, \"record_id\": 7}], [{\"workspace_id\": 2376768479807879, \"job_id\": 1054443590945001, \"lineage_timestamp\": \"2024-09-16 09:43:50.0\", \"created_by\": \"vishal.kokkula@latentviewo365.onmicrosoft.com\", \"created_by_email\": \"vishal.kokkula@latentview.com\", \"entity_name\": null, \"record_id\": 8}]]</td><td>[[{\"workspace_id\": 2376768479807879, \"notebook_id\": 3477860330566379, \"lineage_timestamp\": \"2024-10-17 11:08:56.0\", \"created_by\": \"N/A\", \"created_by_email\": \"N/A\", \"entity_name\": \"N/A\", \"record_id\": 0}], [{\"workspace_id\": 2376768479807879, \"notebook_id\": 3852443579535474, \"lineage_timestamp\": \"2024-10-16 10:04:18.0\", \"created_by\": \"vishal.kokkula@latentviewo365.onmicrosoft.com\", \"created_by_email\": \"vishal.kokkula@latentview.com\", \"entity_name\": \"N/A\", \"record_id\": 1}], [{\"workspace_id\": 2376768479807879, \"notebook_id\": 673539338302310, \"lineage_timestamp\": \"2024-09-20 04:32:20.0\", \"created_by\": \"vishal.kokkula@latentviewo365.onmicrosoft.com\", \"created_by_email\": \"vishal.kokkula@latentview.com\", \"entity_name\": \"N/A\", \"record_id\": 2}], [{\"workspace_id\": 2376768479807879, \"notebook_id\": 673539338303002, \"lineage_timestamp\": \"2024-09-16 10:20:46.0\", \"created_by\": \"vishal.kokkula@latentviewo365.onmicrosoft.com\", \"created_by_email\": \"vishal.kokkula@latentview.com\", \"entity_name\": \"N/A\", \"record_id\": 3}], [{\"workspace_id\": 2376768479807879, \"notebook_id\": 673539338301903, \"lineage_timestamp\": \"2024-09-16 10:20:33.0\", \"created_by\": \"vishal.kokkula@latentviewo365.onmicrosoft.com\", \"created_by_email\": \"vishal.kokkula@latentview.com\", \"entity_name\": \"N/A\", \"record_id\": 4}], [{\"workspace_id\": 2376768479807879, \"notebook_id\": 3720149794624477, \"lineage_timestamp\": \"2024-09-19 05:02:41.0\", \"created_by\": \"vishal.kokkula@latentviewo365.onmicrosoft.com\", \"created_by_email\": \"vishal.kokkula@latentview.com\", \"entity_name\": \"N/A\", \"record_id\": 0}], [{\"workspace_id\": 2376768479807879, \"notebook_id\": 673539338302308, \"lineage_timestamp\": \"2024-09-16 09:02:23.0\", \"created_by\": \"vishal.kokkula@latentviewo365.onmicrosoft.com\", \"created_by_email\": \"vishal.kokkula@latentview.com\", \"entity_name\": \"N/A\", \"record_id\": 1}]]</td><td>[]</td><td>[]</td><td>[]</td><td>[]</td><td>[]</td></tr></tbody></table></div>"
      ]
     },
     "metadata": {
      "application/vnd.databricks.v1+output": {
       "addedWidgets": {},
       "aggData": [],
       "aggError": "",
       "aggOverflow": false,
       "aggSchema": [],
       "aggSeriesLimitReached": false,
       "aggType": "",
       "arguments": {},
       "columnCustomDisplayInfos": {},
       "data": [
        [
         7,
         "Downstream",
         "ds_training_1.ds_silver.customer_silver_vishal",
         "vishal.kokkula@latentview.com",
         "[{\"id\": 31, \"catalog_name\": \"ds_training_1\", \"schema_name\": \"ds_silver\", \"table_name\": \"customer_silver_vishal\", \"schema_version\": 12, \"created_by\": \"vishal.kokkula@latentviewo365.onmicrosoft.com\", \"modified_by\": \"vishal.kokkula@latentviewo365.onmicrosoft.com\", \"modified_timestamp\": \"2024-10-16T09:59:19\", \"schema_json\": \"{\\\"customer_id\\\": \\\"INT\\\", \\\"name\\\": \\\"STRING\\\", \\\"age\\\": \\\"INT\\\", \\\"gender\\\": \\\"STRING\\\", \\\"phone_number\\\": \\\"STRING\\\", \\\"email\\\": \\\"STRING\\\", \\\"account_id\\\": \\\"INT\\\", \\\"account_type\\\": \\\"STRING\\\", \\\"balance\\\": \\\"INT\\\", \\\"opened_date\\\": \\\"DATE\\\", \\\"status\\\": \\\"STRING\\\", \\\"business_date\\\": \\\"STRING\\\", \\\"test_column\\\": \\\"DATE\\\"}\", \"change_type\": \"DATA TYPE CHANGE\", \"column_name\": \"test_column\", \"table_version\": 14, \"table_version_timestamp\": \"2024-10-16T10:03:24\", \"status\": \"Inactive\", \"check_timestamp\": \"2024-10-16T10:06:49.150455\", \"schema_change_alert_status\": \"Pending\", \"rollback_notification_status\": \"NA\"}, {\"id\": 26, \"catalog_name\": \"ds_training_1\", \"schema_name\": \"ds_silver\", \"table_name\": \"customer_silver_vishal\", \"schema_version\": 7, \"created_by\": \"vishal.kokkula@latentviewo365.onmicrosoft.com\", \"modified_by\": \"vishal.kokkula@latentviewo365.onmicrosoft.com\", \"modified_timestamp\": \"2024-10-16T09:59:19\", \"schema_json\": null, \"change_type\": \"ADD COLUMNS\", \"column_name\": \"['test_column_latest']\", \"table_version\": 9, \"table_version_timestamp\": \"2024-10-16T09:59:19\", \"status\": \"Inactive\", \"check_timestamp\": \"2024-10-16T10:06:49.146306\", \"schema_change_alert_status\": \"Pending\", \"rollback_notification_status\": \"NA\"}, {\"id\": 27, \"catalog_name\": \"ds_training_1\", \"schema_name\": \"ds_silver\", \"table_name\": \"customer_silver_vishal\", \"schema_version\": 8, \"created_by\": \"vishal.kokkula@latentviewo365.onmicrosoft.com\", \"modified_by\": \"vishal.kokkula@latentviewo365.onmicrosoft.com\", \"modified_timestamp\": \"2024-10-16T09:59:32\", \"schema_json\": null, \"change_type\": \"UPDATE\", \"column_name\": \"['test_column_latest2']\", \"table_version\": 10, \"table_version_timestamp\": \"2024-10-16T09:59:32\", \"status\": \"Inactive\", \"check_timestamp\": \"2024-10-16T10:06:49.146315\", \"schema_change_alert_status\": \"Pending\", \"rollback_notification_status\": \"NA\"}, {\"id\": 28, \"catalog_name\": \"ds_training_1\", \"schema_name\": \"ds_silver\", \"table_name\": \"customer_silver_vishal\", \"schema_version\": 9, \"created_by\": \"vishal.kokkula@latentviewo365.onmicrosoft.com\", \"modified_by\": \"vishal.kokkula@latentviewo365.onmicrosoft.com\", \"modified_timestamp\": \"2024-10-16T09:59:40\", \"schema_json\": null, \"change_type\": \"DROP COLUMNS\", \"column_name\": \"test_column\", \"table_version\": 11, \"table_version_timestamp\": \"2024-10-16T09:59:40\", \"status\": \"Inactive\", \"check_timestamp\": \"2024-10-16T10:06:49.146319\", \"schema_change_alert_status\": \"Pending\", \"rollback_notification_status\": \"NA\"}]",
         "[[{\"name\": \"customer_transaction_summary\", \"catalog_name\": \"ds_training_1\", \"schema_name\": \"ds_gold\", \"table_type\": \"TABLE\", \"lineage_timestamp\": \"2024-09-22 18:48:26.0\", \"created_by\": \"vishal.kokkula@latentviewo365.onmicrosoft.com\", \"created_by_email\": \"vishal.kokkula@latentview.com\", \"entity_name\": \"N/A\", \"record_id\": 0}]]",
         "[{\"Principal\": \"danduprolu.stuthi@latentviewo365.onmicrosoft.com\", \"ActionType\": \"ALL PRIVILEGES\", \"ObjectType\": \"TABLE\", \"ObjectKey\": \"ds_training_1.ds_gold.customer_transaction_summary\", \"created_by_email_id\": \"danduprolu.stuthi@latentview.com\"}]",
         "[{\"Previleges\": \"ALL PRIVILEGES\", \"ObjectKey\": \"ds_training_1.ds_gold.customer_transaction_summary\", \"group_details\": [{\"Group ID\": \"485080529618658\", \"Group Name\": \"Data Engineer\", \"Members Count\": 2, \"Members\": [\"kudumalauday.kumarreddy@latentviewo365.onmicrosoft.com\", \"danduprolu.stuthi@latentviewo365.onmicrosoft.com\"], \"Email IDs\": [\"kudumalauday.kumarreddy@latentview.com\", \"danduprolu.stuthi@latentview.com\"]}]}, {\"Previleges\": \"ALL PRIVILEGES\", \"ObjectKey\": \"ds_training_1.ds_gold.customer_transaction_summary\", \"group_details\": [{\"Group ID\": \"823552377244743\", \"Group Name\": \"sample\", \"Members Count\": 2, \"Members\": [\"brindavivek.kotha@latentviewo365.onmicrosoft.com\", \"danduprolu.stuthi@latentviewo365.onmicrosoft.com\"], \"Email IDs\": [\"brindavivek.kotha@latentview.com\", \"danduprolu.stuthi@latentview.com\"]}]}, {\"Previleges\": \"ALL PRIVILEGES\", \"ObjectKey\": \"ds_training_1\", \"group_details\": []}]",
         "[[{\"workspace_id\": 2376768479807879, \"job_id\": 776564016740257, \"lineage_timestamp\": \"2024-09-22 18:48:26.0\", \"created_by\": \"vishal.kokkula@latentviewo365.onmicrosoft.com\", \"created_by_email\": \"vishal.kokkula@latentview.com\", \"entity_name\": null, \"record_id\": 0}], [{\"workspace_id\": 2376768479807879, \"job_id\": 539953870834493, \"lineage_timestamp\": \"2024-09-20 04:45:51.0\", \"created_by\": \"vishal.kokkula@latentviewo365.onmicrosoft.com\", \"created_by_email\": \"vishal.kokkula@latentview.com\", \"entity_name\": null, \"record_id\": 1}], [{\"workspace_id\": 2376768479807879, \"job_id\": 642259009613085, \"lineage_timestamp\": \"2024-09-20 04:36:59.0\", \"created_by\": \"vishal.kokkula@latentviewo365.onmicrosoft.com\", \"created_by_email\": \"vishal.kokkula@latentview.com\", \"entity_name\": null, \"record_id\": 2}], [{\"workspace_id\": 2376768479807879, \"job_id\": 40710675392154, \"lineage_timestamp\": \"2024-09-19 18:39:52.0\", \"created_by\": \"vishal.kokkula@latentviewo365.onmicrosoft.com\", \"created_by_email\": \"vishal.kokkula@latentview.com\", \"entity_name\": null, \"record_id\": 3}], [{\"workspace_id\": 2376768479807879, \"job_id\": 158830438318304, \"lineage_timestamp\": \"2024-09-19 09:41:27.0\", \"created_by\": \"vishal.kokkula@latentviewo365.onmicrosoft.com\", \"created_by_email\": \"vishal.kokkula@latentview.com\", \"entity_name\": null, \"record_id\": 4}], [{\"workspace_id\": 2376768479807879, \"job_id\": 631425637127538, \"lineage_timestamp\": \"2024-09-19 06:25:38.0\", \"created_by\": \"vishal.kokkula@latentviewo365.onmicrosoft.com\", \"created_by_email\": \"vishal.kokkula@latentview.com\", \"entity_name\": null, \"record_id\": 5}], [{\"workspace_id\": 2376768479807879, \"job_id\": 1090453796940635, \"lineage_timestamp\": \"2024-09-19 05:09:16.0\", \"created_by\": \"vishal.kokkula@latentviewo365.onmicrosoft.com\", \"created_by_email\": \"vishal.kokkula@latentview.com\", \"entity_name\": null, \"record_id\": 6}], [{\"workspace_id\": 2376768479807879, \"job_id\": 172815366144315, \"lineage_timestamp\": \"2024-09-19 05:05:18.0\", \"created_by\": \"vishal.kokkula@latentviewo365.onmicrosoft.com\", \"created_by_email\": \"vishal.kokkula@latentview.com\", \"entity_name\": null, \"record_id\": 7}], [{\"workspace_id\": 2376768479807879, \"job_id\": 1054443590945001, \"lineage_timestamp\": \"2024-09-16 09:43:50.0\", \"created_by\": \"vishal.kokkula@latentviewo365.onmicrosoft.com\", \"created_by_email\": \"vishal.kokkula@latentview.com\", \"entity_name\": null, \"record_id\": 8}]]",
         "[[{\"workspace_id\": 2376768479807879, \"notebook_id\": 3477860330566379, \"lineage_timestamp\": \"2024-10-17 11:08:56.0\", \"created_by\": \"N/A\", \"created_by_email\": \"N/A\", \"entity_name\": \"N/A\", \"record_id\": 0}], [{\"workspace_id\": 2376768479807879, \"notebook_id\": 3852443579535474, \"lineage_timestamp\": \"2024-10-16 10:04:18.0\", \"created_by\": \"vishal.kokkula@latentviewo365.onmicrosoft.com\", \"created_by_email\": \"vishal.kokkula@latentview.com\", \"entity_name\": \"N/A\", \"record_id\": 1}], [{\"workspace_id\": 2376768479807879, \"notebook_id\": 673539338302310, \"lineage_timestamp\": \"2024-09-20 04:32:20.0\", \"created_by\": \"vishal.kokkula@latentviewo365.onmicrosoft.com\", \"created_by_email\": \"vishal.kokkula@latentview.com\", \"entity_name\": \"N/A\", \"record_id\": 2}], [{\"workspace_id\": 2376768479807879, \"notebook_id\": 673539338303002, \"lineage_timestamp\": \"2024-09-16 10:20:46.0\", \"created_by\": \"vishal.kokkula@latentviewo365.onmicrosoft.com\", \"created_by_email\": \"vishal.kokkula@latentview.com\", \"entity_name\": \"N/A\", \"record_id\": 3}], [{\"workspace_id\": 2376768479807879, \"notebook_id\": 673539338301903, \"lineage_timestamp\": \"2024-09-16 10:20:33.0\", \"created_by\": \"vishal.kokkula@latentviewo365.onmicrosoft.com\", \"created_by_email\": \"vishal.kokkula@latentview.com\", \"entity_name\": \"N/A\", \"record_id\": 4}], [{\"workspace_id\": 2376768479807879, \"notebook_id\": 3720149794624477, \"lineage_timestamp\": \"2024-09-19 05:02:41.0\", \"created_by\": \"vishal.kokkula@latentviewo365.onmicrosoft.com\", \"created_by_email\": \"vishal.kokkula@latentview.com\", \"entity_name\": \"N/A\", \"record_id\": 0}], [{\"workspace_id\": 2376768479807879, \"notebook_id\": 673539338302308, \"lineage_timestamp\": \"2024-09-16 09:02:23.0\", \"created_by\": \"vishal.kokkula@latentviewo365.onmicrosoft.com\", \"created_by_email\": \"vishal.kokkula@latentview.com\", \"entity_name\": \"N/A\", \"record_id\": 1}]]",
         "[]",
         "[]",
         "[]",
         "[]",
         "[]"
        ]
       ],
       "datasetInfos": [],
       "dbfsResultPath": null,
       "isJsonSchema": true,
       "metadata": {},
       "overflow": false,
       "plotOptions": {
        "customPlotOptions": {},
        "displayType": "table",
        "pivotAggregation": null,
        "pivotColumns": null,
        "xColumns": null,
        "yColumns": null
       },
       "removedWidgets": [],
       "schema": [
        {
         "metadata": "{}",
         "name": "ID",
         "type": "\"long\""
        },
        {
         "metadata": "{}",
         "name": "Type",
         "type": "\"string\""
        },
        {
         "metadata": "{}",
         "name": "source_table",
         "type": "\"string\""
        },
        {
         "metadata": "{}",
         "name": "table_owner",
         "type": "\"string\""
        },
        {
         "metadata": "{}",
         "name": "upstream_changed_schema_info",
         "type": "\"string\""
        },
        {
         "metadata": "{}",
         "name": "TablesInfo",
         "type": "\"string\""
        },
        {
         "metadata": "{}",
         "name": "PermissionInfo",
         "type": "\"string\""
        },
        {
         "metadata": "{}",
         "name": "GroupInfo",
         "type": "\"string\""
        },
        {
         "metadata": "{}",
         "name": "JobInfo",
         "type": "\"string\""
        },
        {
         "metadata": "{}",
         "name": "NotebookInfo",
         "type": "\"string\""
        },
        {
         "metadata": "{}",
         "name": "DashboardInfo",
         "type": "\"string\""
        },
        {
         "metadata": "{}",
         "name": "QueryInfo",
         "type": "\"string\""
        },
        {
         "metadata": "{}",
         "name": "PipelineInfo",
         "type": "\"string\""
        },
        {
         "metadata": "{}",
         "name": "ModelsInfo",
         "type": "\"string\""
        },
        {
         "metadata": "{}",
         "name": "FileInfo",
         "type": "\"string\""
        }
       ],
       "type": "table"
      }
     },
     "output_type": "display_data"
    }
   ],
   "source": [
    "#Retrieve the parameters passed from the downstream_audit notebook\n",
    "id = dbutils.widgets.get(\"id\")\n",
    "print(id)\n",
    "# #Convert into strint to integer\n",
    "id = int(id)\n",
    "#id=7\n",
    "df=spark.sql(f\"select * from ds_training_1.default.downstream_audit where id={id}\")\n",
    "display(df)"
   ]
  },
  {
   "cell_type": "code",
   "execution_count": 0,
   "metadata": {
    "application/vnd.databricks.v1+cell": {
     "cellMetadata": {
      "byteLimit": 2048000,
      "rowLimit": 10000
     },
     "inputWidgets": {},
     "nuid": "de08da26-2f98-4038-84ee-33508bb799fd",
     "showTitle": false,
     "title": ""
    }
   },
   "outputs": [],
   "source": [
    "import json\n",
    "# Use the correct column name\n",
    "source_table = df.select(\"source_table\").collect()[0][0]\n",
    "table_owner = df.select(\"table_owner\").collect()[0][0]\n",
    "upstream_changed_schema_info=json.loads(df.select(\"upstream_changed_schema_info\").collect()[0][0])\n",
    "TablesInfo=json.loads(df.select(\"TablesInfo\").collect()[0][0])\n",
    "PermissionInfo=json.loads(df.select(\"PermissionInfo\").collect()[0][0])\n",
    "GroupInfo=json.loads(df.select(\"GroupInfo\").collect()[0][0])\n",
    "JobInfo=json.loads(df.select(\"JobInfo\").collect()[0][0])\n",
    "NotebookInfo=json.loads(df.select(\"NotebookInfo\").collect()[0][0])\n",
    "DashboardInfo=json.loads(df.select(\"DashboardInfo\").collect()[0][0])\n",
    "QueryInfo=json.loads(df.select(\"QueryInfo\").collect()[0][0])\n",
    "PipelineInfo=json.loads(df.select(\"pipelineInfo\").collect()[0][0])\n",
    "ModelsInfo=json.loads(df.select(\"ModelsInfo\").collect()[0][0])\n",
    "FileInfo=json.loads(df.select(\"FileInfo\").collect()[0][0])"
   ]
  },
  {
   "cell_type": "code",
   "execution_count": 0,
   "metadata": {
    "application/vnd.databricks.v1+cell": {
     "cellMetadata": {
      "byteLimit": 2048000,
      "rowLimit": 10000
     },
     "inputWidgets": {},
     "nuid": "88c0cfee-8d28-4ea9-a6f9-e22d088d9c90",
     "showTitle": false,
     "title": ""
    }
   },
   "outputs": [],
   "source": [
    "import smtplib\n",
    "from email.mime.multipart import MIMEMultipart\n",
    "from pyspark.sql import functions as F\n",
    "from email.mime.text import MIMEText\n",
    "import json\n",
    "from pyspark.sql import SparkSession\n",
    "\n",
    "# SMTP server configuration\n",
    "smtp_server = \"smtp.gmail.com\"  \n",
    "smtp_port = 587  \n",
    "smtp_user = \"danduprolu.stuthi@latentview.com\"  \n",
    "smtp_password = \"ippr iwgm aqji ddlw\"  \n",
    "\n",
    "# Function to send email notifications\n",
    "def send_email(to_email, subject, body):\n",
    "    try:\n",
    "        msg = MIMEMultipart()\n",
    "        msg['From'] = smtp_user\n",
    "        msg['To'] = to_email\n",
    "        msg['Subject'] = subject\n",
    "        msg.attach(MIMEText(body, 'plain'))\n",
    "\n",
    "        with smtplib.SMTP(smtp_server, smtp_port) as server:\n",
    "            server.starttls()\n",
    "            server.login(smtp_user, smtp_password)\n",
    "            server.send_message(msg)\n",
    "        print(f\"Email sent successfully to {to_email}\")\n",
    "    except Exception as e:\n",
    "        print(f\"Failed to send email to {to_email}: {e}\")\n",
    "\n",
    "# Initialize Spark session\n",
    "spark = SparkSession.builder.appName(\"SchemaRegistryUpdate\").getOrCreate()\n",
    "\n",
    "def update_schema_registry_table(schema_table_name, id):\n",
    "    try:\n",
    "        # Construct the SQL query to update the table (non-Delta version)\n",
    "        update_query = (\n",
    "            f\"UPDATE {schema_table_name} \"\n",
    "            f\"SET schema_change_alert_status = 'Notified' \"\n",
    "            f\"WHERE id = '{id}' \"\n",
    "        )\n",
    "        \n",
    "        # Execute the update query using Spark SQL\n",
    "        print(id)\n",
    "        spark.sql(update_query)\n",
    "        \n",
    "        print(f\"Updated the schema registry table {schema_table_name} successfully!\")\n",
    "    \n",
    "    except Exception as e:\n",
    "        print(f\"Failed to update the schema registry table: {e}\")"
   ]
  },
  {
   "cell_type": "code",
   "execution_count": 0,
   "metadata": {
    "application/vnd.databricks.v1+cell": {
     "cellMetadata": {
      "byteLimit": 2048000,
      "rowLimit": 10000
     },
     "inputWidgets": {},
     "nuid": "f61fb4b6-e446-4904-89f1-a35867a39d7b",
     "showTitle": false,
     "title": ""
    }
   },
   "outputs": [],
   "source": [
    "def notify_owner(source_table, table_owner, upstream_changes):\n",
    "    # Construct the message for the owner\n",
    "    body = (\n",
    "        f\"Dear {table_owner},\\n\\n\"\n",
    "        f\"The following upstream changes have been made to the table '{source_table}':\\n\\n\"\n",
    "    )\n",
    "\n",
    "    for change in upstream_changes:\n",
    "        body += (\n",
    "            f\"- Schema Version: {change['schema_version']}\\n\"\n",
    "            f\"- Modified By: {change['modified_by']}\\n\"\n",
    "            f\"- Modified Timestamp: {change['modified_timestamp']}\\n\"\n",
    "            f\"- Change Type: {change['change_type']}\\n\"\n",
    "            f\"- Column Name: {change['column_name'] if change['column_name'] else 'N/A'}\\n\"\n",
    "            f\"- Schema JSON: {change['schema_json'] if change['schema_json'] else 'N/A'}\\n\"\n",
    "            f\"- Schema Name: {change['schema_name']}\\n\"\n",
    "            f\"- Created By: {change['created_by']}\\n\\n\"\n",
    "        )\n",
    "\n",
    "    body += \"Please review these changes to ensure your downstream processes remain unaffected.\\n\\nBest regards,\\nYour Data Team\"\n",
    "\n",
    "    # Send the email to the owner\n",
    "    send_email(table_owner, f\"Upstream Changes Notification for {source_table}\", body)\n",
    "\n",
    "    return body  # Return the constructed message for later use\n",
    "\n",
    "def details(source_table, table_owner, upstream_changes):\n",
    "    body = (\n",
    "        f\"The following upstream changes have been made to the table '{source_table}':\\n\\n\"\n",
    "    )\n",
    "    for change in upstream_changes:\n",
    "        body += (\n",
    "            f\"- Schema Version: {change['schema_version']}\\n\"\n",
    "            f\"- Modified By: {change['modified_by']}\\n\"\n",
    "            f\"- Modified Timestamp: {change['modified_timestamp']}\\n\"\n",
    "            f\"- Change Type: {change['change_type']}\\n\"\n",
    "            f\"- Column Name: {change['column_name'] if change['column_name'] else 'N/A'}\\n\"\n",
    "            f\"- Schema JSON: {change['schema_json'] if change['schema_json'] else 'N/A'}\\n\"\n",
    "            f\"- Schema Name: {change['schema_name']}\\n\"\n",
    "            f\"- Created By: {change['created_by']}\\n\\n\"\n",
    "        )\n",
    "    body += \"Please review these changes to ensure your downstream processes remain unaffected.\"\n",
    "    return body \n",
    "\n",
    "def notify_downstream_entities(\n",
    "    source_table, table_owner, upstream_changed_schema_info, TablesInfo, PermissionInfo, \n",
    "    GroupInfo, JobInfo, NotebookInfo, DashboardInfo, QueryInfo, PipelineInfo, ModelsInfo, FileInfo\n",
    "):\n",
    "    # Dictionary to hold email notifications for unique recipients\n",
    "    email_notifications = {}\n",
    "    upstream_changes = []\n",
    "\n",
    "    # Collect all upstream changes for the owner\n",
    "    for upstream in upstream_changed_schema_info:\n",
    "        upstream_changes.append(upstream)\n",
    "\n",
    "    # Notify the owner with all upstream changes at once and get the message\n",
    "    owner_message = notify_owner(source_table, table_owner, upstream_changes)\n",
    "    schema_changes_message=details(source_table, table_owner, upstream_changes)\n",
    "\n",
    "    # Notify for each table in TablesInfo\n",
    "    for table in TablesInfo:\n",
    "        user = table[0]['created_by_email']\n",
    "        table_name = table[0]['name']\n",
    "        catalog_name = table[0]['catalog_name']\n",
    "        schema_name = table[0]['schema_name']\n",
    "\n",
    "        message = (\n",
    "            f\"Your table '{table_name}' in catalog '{catalog_name}' and schema '{schema_name}' has been affected due to recent changes.\\n\\n\"\n",
    "            f\"Details of the upstream change:\\n\"\n",
    "            f\"- Table Name: {table_name}\\n\"\n",
    "            f\"- Catalog Name: {catalog_name}\\n\"\n",
    "            f\"- Schema Name: {schema_name}\\n\\n\"\n",
    "            f\"Please review the changes to ensure your downstream processes remain unaffected.\"\n",
    "        )\n",
    "\n",
    "        if user not in email_notifications:\n",
    "            email_notifications[user] = {'messages': [], 'unique_info': set()}\n",
    "        email_notifications[user]['messages'].append(message)\n",
    "\n",
    "    # Notify based on permissions in PermissionInfo\n",
    "    for perm in PermissionInfo:\n",
    "        principal = perm['Principal']\n",
    "        object_key = perm['ObjectKey']\n",
    "        action_type = perm['ActionType']\n",
    "        email = perm['created_by_email_id']\n",
    "        if '@' in principal:\n",
    "            message = (\n",
    "                f\"You have permissions on the table '{object_key}' which has upstream changes.\\n\\n\"\n",
    "                f\"Action Type: {action_type}\\n\\n\"\n",
    "                f\"Details of the upstream change:\\n\"\n",
    "                f\"- Table Name: {object_key}\\n\\n\"\n",
    "                f\"Please review the changes to ensure your access and operations remain unaffected.\"\n",
    "            )\n",
    "            if email not in email_notifications:\n",
    "                email_notifications[email] = {'messages': [], 'unique_info': set()}\n",
    "            email_notifications[email]['messages'].append(message)\n",
    "\n",
    "    # Notify for each group in GroupInfo\n",
    "    for group in GroupInfo:\n",
    "        previleges = group['Previleges']\n",
    "        ObjectKey = group['ObjectKey']\n",
    "        if group['group_details']:\n",
    "            group_name = group['group_details'][0]['Group Name']\n",
    "            group_id = group['group_details'][0]['Group ID']\n",
    "            email_ids = group['group_details'][0]['Email IDs']\n",
    "        else:\n",
    "            email_ids = []\n",
    "\n",
    "        for member_email in email_ids:\n",
    "            message = (\n",
    "                f\"Your group '{group_name}' has permissions: {previleges} on the table '{ObjectKey}' which is affected by upstream changes.\\n\\n\"\n",
    "                f\"Group Details:\\n\"\n",
    "                f\"- Group ID: {group_id}\\n\\n\"\n",
    "                f\"Please review these changes as they may impact the operations for your group.\"\n",
    " )\n",
    "            if member_email not in email_notifications:\n",
    "                email_notifications[member_email] = {'messages': [], 'unique_info': set()}\n",
    "            email_notifications[member_email]['messages'].append(message)\n",
    "\n",
    "    # Notify for each job in JobInfo\n",
    "    for job in JobInfo:\n",
    "        created_by = job[0]['created_by_email']\n",
    "        entity_name = job[0]['entity_name']\n",
    "        workspace_id = job[0]['workspace_id']\n",
    "        job_id = job[0]['job_id']\n",
    "\n",
    "        message = (\n",
    "            f\"Your job '{entity_name}' may be affected by upstream changes in the source table '{source_table}'.\\n\\n\"\n",
    "            f\"Job Details:\\n\"\n",
    "            f\"- Workspace ID: {workspace_id}\\n\"\n",
    "            f\"- Job ID: {job_id}\\n\\n\"\n",
    "            f\"Please review these changes to assess any impact on the job's operations.\"\n",
    "        )\n",
    "        if created_by not in email_notifications:\n",
    "            email_notifications[created_by] = {'messages': [], 'unique_info': set()}\n",
    "        email_notifications[created_by]['messages'].append(message)\n",
    "\n",
    "    # Notify for each notebook in NotebookInfo\n",
    "    for notebook in NotebookInfo:\n",
    "        created_by = notebook[0]['created_by_email']\n",
    "        workspace_id = notebook[0]['workspace_id']\n",
    "        notebook_id = notebook[0]['notebook_id']\n",
    "\n",
    "        message = (\n",
    "            f\"Your notebook may be affected by upstream changes in the source table '{source_table}'.\\n\\n\"\n",
    "            f\"Notebook Details:\\n\"\n",
    "            f\"- Workspace ID: {workspace_id}\\n\"\n",
    "            f\"- Notebook ID: {notebook_id}\\n\\n\"\n",
    "            f\"Please review these changes to assess any impact on the notebook's functionality.\"\n",
    "        )\n",
    "        if created_by not in email_notifications:\n",
    "            email_notifications[created_by] = {'messages': [], 'unique_info': set()}\n",
    "        email_notifications[created_by]['messages'].append(message)\n",
    "\n",
    "    # Notify for each dashboard in DashboardInfo\n",
    "    for dashboard in DashboardInfo:\n",
    "        created_by = dashboard[0]['created_by_email']\n",
    "        workspace_id = dashboard[0]['workspace_id']\n",
    "        dashboard_id = dashboard[0]['dashboard_id']\n",
    "\n",
    "        message = (\n",
    "            f\"Your dashboard may be affected by upstream changes in the source table '{source_table}'.\\n\\n\"\n",
    "            f\"Dashboard Details:\\n\"\n",
    "            f\"- Workspace ID: {workspace_id}\\n\"\n",
    "            f\"- Dashboard ID: {dashboard_id}\\n\\n\"\n",
    "            f\"Please review these changes to assess any impact on the dashboard's performance.\"\n",
    "        )\n",
    "        if created_by not in email_notifications:\n",
    "            email_notifications[created_by] = {'messages': [], 'unique_info': set()}\n",
    "        email_notifications[created_by]['messages'].append(message)\n",
    "\n",
    "    # Notify for each query in QueryInfo\n",
    "    for query in QueryInfo:\n",
    "        created_by = query[0]['created_by_email']\n",
    "        entity_name = query[0]['entity_name']\n",
    "        workspace_id = query[0]['workspace_id']\n",
    "        query_id = query[0]['query_id']\n",
    "\n",
    "        message = (\n",
    "            f\"Your query '{entity_name}' may be affected by upstream changes in the source table '{source_table}'.\\n\\n\"\n",
    "            f\"Query Details:\\n\"\n",
    "            f\"- Workspace ID: {workspace_id}\\n\"\n",
    "            f\"- Query ID: {query_id}\\n\\n\"\n",
    "            f\"Please review these changes to assess any impact on the query's results.\"\n",
    "        )\n",
    "        if created_by not in email_notifications:\n",
    "            email_notifications[created_by] = {'messages': [], 'unique_info': set()}\n",
    "        email_notifications[created_by]['messages'].append(message)\n",
    "\n",
    "    # Notify for each file in FileInfo\n",
    "    for file in FileInfo:\n",
    "        created_by = file[0]['created_by_email']\n",
    "        workspace_id = file[0]['workspace_id']\n",
    "        file_id = file[0]['file_id']\n",
    "\n",
    "        message = (\n",
    "            f\"Your file may be affected by upstream changes in the source table '{source_table}'.\\n\\n\"\n",
    "            f\"File Details:\\n\"\n",
    "            f\"- Workspace ID: {workspace_id}\\n\"\n",
    "            f\"- File ID: {file_id}\\n\\n\"\n",
    "            f\"Please review these changes to assess any impact on the file's data.\"\n",
    "        )\n",
    "        if created_by not in email_notifications:\n",
    "            email_notifications[created_by] = {'messages': [], 'unique_info': set()}\n",
    "        email_notifications[created_by]['messages'].append(message)\n",
    "\n",
    "    # Send a single email to each unique recipient\n",
    "    for recipient, info in email_notifications.items():\n",
    "        messages = info['messages']\n",
    "        unique_info = info['unique_info']\n",
    "\n",
    "        # Remove duplicate messages\n",
    "        unique_messages = []\n",
    "        for message in messages:\n",
    "            if message not in unique_messages:\n",
    "                unique_messages.append(message)\n",
    "\n",
    "        # Append the upstream changes message\n",
    "        body = (\n",
    "            f\"Dear {recipient},\\n\\n\"\n",
    "            f\"You have been affected by the following upstream changes:\\n\\n\"\n",
    "            f\"{''.join(unique_messages)} \\n\\n\"\n",
    "            f\"{schema_changes_message} \\n\\n\"\n",
    "            f\"Best regards,\\nYour Data Team\"\n",
    "        )\n",
    "        send_email(recipient, f\"Upstream Changes Notification for {source_table}\", body)\n",
    "\n",
    "    print(\"Emails sent to downstream users!\")\n",
    "    for upstream in upstream_changed_schema_info:\n",
    "        update_schema_registry_table(\"ds_training_1.default.schema_registry\", upstream['id'])"
   ]
  },
  {
   "cell_type": "code",
   "execution_count": 0,
   "metadata": {
    "application/vnd.databricks.v1+cell": {
     "cellMetadata": {
      "byteLimit": 2048000,
      "rowLimit": 10000
     },
     "inputWidgets": {},
     "nuid": "dcac9a5d-e410-4af6-a19f-8d88152dd68a",
     "showTitle": false,
     "title": ""
    }
   },
   "outputs": [
    {
     "output_type": "stream",
     "name": "stdout",
     "output_type": "stream",
     "text": [
      "Email sent successfully to vishal.kokkula@latentview.com\nEmail sent successfully to vishal.kokkula@latentview.com\nEmail sent successfully to danduprolu.stuthi@latentview.com\nEmail sent successfully to kudumalauday.kumarreddy@latentview.com\nEmail sent successfully to brindavivek.kotha@latentview.com\nFailed to send email to N/A: {'N/A': (553, b'5.1.3 The recipient address <N/A> is not a valid RFC 5321 address. For more\\n5.1.3 information, go to\\n5.1.3  https://support.google.com/a/answer/3221692 and review RFC 5321\\n5.1.3 specifications. 6a1803df08f44-6ce0099c337sm38488836d6.97 - gsmtp')}\nEmails sent to downstream users!\n31\nUpdated the schema registry table ds_training_1.default.schema_registry successfully!\n26\nUpdated the schema registry table ds_training_1.default.schema_registry successfully!\n27\nUpdated the schema registry table ds_training_1.default.schema_registry successfully!\n28\nUpdated the schema registry table ds_training_1.default.schema_registry successfully!\n"
     ]
    }
   ],
   "source": [
    "notify_downstream_entities(source_table, table_owner, upstream_changed_schema_info, TablesInfo, PermissionInfo, \n",
    "    GroupInfo, JobInfo, NotebookInfo, DashboardInfo, QueryInfo, PipelineInfo, ModelsInfo, FileInfo)"
   ]
  }
 ],
 "metadata": {
  "application/vnd.databricks.v1+notebook": {
   "dashboards": [],
   "environmentMetadata": null,
   "language": "python",
   "notebookMetadata": {
    "mostRecentlyExecutedCommandWithImplicitDF": {
     "commandId": 1184659034704390,
     "dataframes": [
      "_sqldf"
     ]
    },
    "pythonIndentUnit": 4
   },
   "notebookName": "Email_alert",
   "widgets": {}
  }
 },
 "nbformat": 4,
 "nbformat_minor": 0
}
